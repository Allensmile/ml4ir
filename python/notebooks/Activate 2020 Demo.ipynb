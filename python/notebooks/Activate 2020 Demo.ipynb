{
 "cells": [
  {
   "cell_type": "markdown",
   "metadata": {},
   "source": [
    "# Learning to Rank Demo"
   ]
  },
  {
   "cell_type": "markdown",
   "metadata": {},
   "source": [
    "## Overview\n",
    "\n",
    "In this notebook, we will..."
   ]
  },
  {
   "cell_type": "markdown",
   "metadata": {},
   "source": [
    "## Contents\n",
    "\n",
    "1. [Overview](#Overview)\n",
    "1. [Install ml4ir](#Install-ml4ir)\n",
    "1. [Look at the Data](#Look-at-the-Data)\n",
    "1. [Define the FeatureConfig](#Define-the-FeatureConfig)\n",
    "1. [Using ml4ir as a script](#Using-ml4ir-as-a-script)\n",
    "1. [Using ml4ir as a library](#Using-ml4ir-as-a-library)\n",
    "    1. [Setup](#Setup)\n",
    "    1. [Load the FeatureConfig](#Load-the-FeatureConfig)\n",
    "    1. [Create a RelevanceDataset](#Create-a-RelevanceDataset)\n",
    "    1. [Define an InteractionModel](#Define-an-InteractionModel)\n",
    "    1. [Define losses, metrics and optimizer](#Define-losses,-metrics-and-optimizer)\n",
    "    1. [Define the scoring function, or the Scorer](#Define-a-scoring-function,-or-the-Scorer)\n",
    "    1. [Combine it all to create a RankingModel](#Combine-it-all-to-create-a-RankingModel)\n",
    "    1. [Train your RankingModel](#Train-your-RankingModel)\n",
    "    1. [Save the trained RankingModel](#Save-the-trained-RankingModel)\n",
    "1. [Let's try some Transfer Learning](#Let's-try-some-Transfer-Learning)\n",
    "    1. [What does ml4ir save?](#What-does-ml4ir-save?)\n",
    "    1. [Using pre-trained character embeddings](#Using-pre-trained-character-embeddings)"
   ]
  },
  {
   "cell_type": "markdown",
   "metadata": {},
   "source": [
    "## Install ml4ir"
   ]
  },
  {
   "cell_type": "code",
   "execution_count": null,
   "metadata": {},
   "outputs": [],
   "source": [
    "!pip install ml4ir"
   ]
  },
  {
   "cell_type": "markdown",
   "metadata": {},
   "source": [
    "## Look at the data"
   ]
  },
  {
   "cell_type": "code",
   "execution_count": null,
   "metadata": {},
   "outputs": [],
   "source": [
    "df_train = file_io.read_df(os.path.join(DATA_DIR, \"train\", \"file_0.csv\"))\n",
    "df_train.head(10)"
   ]
  },
  {
   "cell_type": "markdown",
   "metadata": {},
   "source": [
    "## Define the FeatureConfig\n",
    "\n",
    "| Feature          | dtype    | TFRecord Type | Usage                                    |\n",
    "| ---------------- | -------- | ------------- | ---------------------------------------- |\n",
    "| page_views_score | float    | Sequence      | as is                                    |\n",
    "| quality_score    | float    | Sequence      | as is                                    |\n",
    "| text_match_score | float    | Sequence      | as is                                    |\n",
    "| query_text       | string   | Context       | character embeddings -> biLSTM encoding  |\n",
    "| domain_name      | string   | Context       | VocabLookup -> categorical embedding     |"
   ]
  },
  {
   "cell_type": "markdown",
   "metadata": {},
   "source": [
    "## Define the ModelConfig"
   ]
  },
  {
   "cell_type": "code",
   "execution_count": 30,
   "metadata": {},
   "outputs": [
    {
     "name": "stdout",
     "output_type": "stream",
     "text": [
      "architecture_key: dnn\n",
      "layers:\n",
      "  - type: dense\n",
      "    name: first_dense\n",
      "    units: 256\n",
      "    activation: relu\n",
      "  - type: dropout\n",
      "    name: first_dropout\n",
      "    rate: 0.3\n",
      "  - type: dense\n",
      "    name: second_dense\n",
      "    units: 64\n",
      "    activation: relu\n",
      "  - type: dense\n",
      "    name: final_dense\n",
      "    units: 1\n",
      "    activation: null\n",
      "\n"
     ]
    }
   ],
   "source": [
    "print(open(\"configs/activate_2020/model_config.yaml\").read())"
   ]
  },
  {
   "cell_type": "markdown",
   "metadata": {},
   "source": [
    "## Using ml4ir as a script"
   ]
  },
  {
   "cell_type": "code",
   "execution_count": 31,
   "metadata": {
    "scrolled": false
   },
   "outputs": [
    {
     "name": "stdout",
     "output_type": "stream",
     "text": [
      "\u001b[32mINFO: 2020-09-10 20:41:28.265 \r\n",
      "Logging initialized. Saving logs to : ../logs/activate_2020/activate_demo\u001b[0m\r\n",
      "\u001b[32mINFO: 2020-09-10 20:41:28.265 \r\n",
      "Run ID: activate_demo\u001b[0m\r\n",
      "\u001b[37mDEBUG: 2020-09-10 20:41:28.266 \r\n",
      "CLI args: \r\n",
      "{\r\n",
      "    \"data_dir\": \"../ml4ir/applications/ranking/tests/data/csv\",\r\n",
      "    \"data_format\": \"csv\",\r\n",
      "    \"tfrecord_type\": \"sequence_example\",\r\n",
      "    \"feature_config\": \"configs/activate_2020/feature_config.yaml\",\r\n",
      "    \"model_file\": \"\",\r\n",
      "    \"model_config\": \"configs/activate_2020/model_config.yaml\",\r\n",
      "    \"optimizer_key\": \"adam\",\r\n",
      "    \"loss_key\": \"rank_one_listnet\",\r\n",
      "    \"metrics_keys\": \"['MRR', 'ACR']\",\r\n",
      "    \"monitor_metric\": \"new_MRR\",\r\n",
      "    \"monitor_mode\": \"max\",\r\n",
      "    \"num_epochs\": 3,\r\n",
      "    \"batch_size\": 128,\r\n",
      "    \"learning_rate\": 0.01,\r\n",
      "    \"learning_rate_decay\": 0.9,\r\n",
      "    \"learning_rate_decay_steps\": 1000,\r\n",
      "    \"compute_intermediate_stats\": true,\r\n",
      "    \"execution_mode\": \"train_inference_evaluate\",\r\n",
      "    \"random_state\": 123,\r\n",
      "    \"run_id\": \"activate_demo\",\r\n",
      "    \"run_group\": \"general\",\r\n",
      "    \"run_notes\": \"\",\r\n",
      "    \"models_dir\": \"../models/activate_2020\",\r\n",
      "    \"logs_dir\": \"../logs/activate_2020\",\r\n",
      "    \"checkpoint_model\": true,\r\n",
      "    \"train_pcent_split\": 0.8,\r\n",
      "    \"val_pcent_split\": -1,\r\n",
      "    \"test_pcent_split\": -1,\r\n",
      "    \"max_sequence_size\": 25,\r\n",
      "    \"inference_signature\": \"serving_default\",\r\n",
      "    \"use_part_files\": false,\r\n",
      "    \"logging_frequency\": 25,\r\n",
      "    \"group_metrics_min_queries\": 25,\r\n",
      "    \"gradient_clip_value\": 5.0,\r\n",
      "    \"compile_keras_model\": false,\r\n",
      "    \"use_all_fields_at_inference\": false,\r\n",
      "    \"pad_sequence_at_inference\": false,\r\n",
      "    \"output_name\": \"ranking_score\",\r\n",
      "    \"early_stopping_patience\": 2,\r\n",
      "    \"file_handler\": \"local\",\r\n",
      "    \"track_experiment\": false,\r\n",
      "    \"scoring_type\": \"pointwise\",\r\n",
      "    \"loss_type\": \"listwise\"\r\n",
      "}\u001b[0m\r\n",
      "\u001b[32mINFO: 2020-09-10 20:41:28.268 \r\n",
      "Tensorflow default graph has been reset\u001b[0m\r\n",
      "\u001b[32mINFO: 2020-09-10 20:41:28.269 \r\n",
      "Reading YAML file from : configs/activate_2020/feature_config.yaml\u001b[0m\r\n",
      "\u001b[37mDEBUG: 2020-09-10 20:41:28.286 \r\n",
      "{\r\n",
      "    \"query_key\": {\r\n",
      "        \"name\": \"query_id\",\r\n",
      "        \"node_name\": \"query_id\",\r\n",
      "        \"trainable\": false,\r\n",
      "        \"dtype\": \"string\",\r\n",
      "        \"log_at_inference\": true,\r\n",
      "        \"feature_layer_info\": {\r\n",
      "            \"type\": \"numeric\",\r\n",
      "            \"shape\": null\r\n",
      "        },\r\n",
      "        \"serving_info\": {\r\n",
      "            \"name\": \"queryId\",\r\n",
      "            \"required\": false,\r\n",
      "            \"default_value\": \"\"\r\n",
      "        },\r\n",
      "        \"tfrecord_type\": \"context\"\r\n",
      "    },\r\n",
      "    \"rank\": {\r\n",
      "        \"name\": \"rank\",\r\n",
      "        \"node_name\": \"rank\",\r\n",
      "        \"trainable\": false,\r\n",
      "        \"dtype\": \"int64\",\r\n",
      "        \"log_at_inference\": true,\r\n",
      "        \"feature_layer_info\": {\r\n",
      "            \"type\": \"numeric\",\r\n",
      "            \"shape\": null\r\n",
      "        },\r\n",
      "        \"serving_info\": {\r\n",
      "            \"name\": \"originalRank\",\r\n",
      "            \"required\": true,\r\n",
      "            \"default_value\": 0\r\n",
      "        },\r\n",
      "        \"tfrecord_type\": \"sequence\"\r\n",
      "    },\r\n",
      "    \"label\": {\r\n",
      "        \"name\": \"clicked\",\r\n",
      "        \"node_name\": \"clicked\",\r\n",
      "        \"trainable\": false,\r\n",
      "        \"dtype\": \"int64\",\r\n",
      "        \"log_at_inference\": true,\r\n",
      "        \"feature_layer_info\": {\r\n",
      "            \"type\": \"numeric\",\r\n",
      "            \"shape\": null\r\n",
      "        },\r\n",
      "        \"serving_info\": {\r\n",
      "            \"name\": \"clicked\",\r\n",
      "            \"required\": false,\r\n",
      "            \"default_value\": 0\r\n",
      "        },\r\n",
      "        \"tfrecord_type\": \"sequence\"\r\n",
      "    },\r\n",
      "    \"features\": [\r\n",
      "        {\r\n",
      "            \"name\": \"text_match_score\",\r\n",
      "            \"node_name\": \"text_match_score\",\r\n",
      "            \"trainable\": true,\r\n",
      "            \"dtype\": \"float\",\r\n",
      "            \"log_at_inference\": false,\r\n",
      "            \"feature_layer_info\": {\r\n",
      "                \"type\": \"numeric\",\r\n",
      "                \"shape\": null\r\n",
      "            },\r\n",
      "            \"serving_info\": {\r\n",
      "                \"name\": \"textMatchScore\",\r\n",
      "                \"required\": true,\r\n",
      "                \"default_value\": 0.0\r\n",
      "            },\r\n",
      "            \"tfrecord_type\": \"sequence\"\r\n",
      "        },\r\n",
      "        {\r\n",
      "            \"name\": \"page_views_score\",\r\n",
      "            \"node_name\": \"page_views_score\",\r\n",
      "            \"trainable\": true,\r\n",
      "            \"dtype\": \"float\",\r\n",
      "            \"log_at_inference\": false,\r\n",
      "            \"feature_layer_info\": {\r\n",
      "                \"type\": \"numeric\",\r\n",
      "                \"shape\": null\r\n",
      "            },\r\n",
      "            \"serving_info\": {\r\n",
      "                \"name\": \"pageViewsScore\",\r\n",
      "                \"required\": true,\r\n",
      "                \"default_value\": 0.0\r\n",
      "            },\r\n",
      "            \"tfrecord_type\": \"sequence\"\r\n",
      "        },\r\n",
      "        {\r\n",
      "            \"name\": \"quality_score\",\r\n",
      "            \"node_name\": \"quality_score\",\r\n",
      "            \"trainable\": true,\r\n",
      "            \"dtype\": \"float\",\r\n",
      "            \"log_at_inference\": false,\r\n",
      "            \"feature_layer_info\": {\r\n",
      "                \"type\": \"numeric\",\r\n",
      "                \"shape\": null\r\n",
      "            },\r\n",
      "            \"serving_info\": {\r\n",
      "                \"name\": \"qualityScore\",\r\n",
      "                \"required\": true,\r\n",
      "                \"default_value\": 0.0\r\n",
      "            },\r\n",
      "            \"tfrecord_type\": \"sequence\"\r\n",
      "        },\r\n",
      "        {\r\n",
      "            \"name\": \"name_match\",\r\n",
      "            \"node_name\": \"name_match\",\r\n",
      "            \"trainable\": false,\r\n",
      "            \"dtype\": \"float\",\r\n",
      "            \"log_at_inference\": true,\r\n",
      "            \"feature_layer_info\": {\r\n",
      "                \"type\": \"numeric\",\r\n",
      "                \"shape\": null\r\n",
      "            },\r\n",
      "            \"serving_info\": {\r\n",
      "                \"name\": \"nameMatch\",\r\n",
      "                \"required\": true,\r\n",
      "                \"default_value\": 0.0\r\n",
      "            },\r\n",
      "            \"tfrecord_type\": \"sequence\"\r\n",
      "        },\r\n",
      "        {\r\n",
      "            \"name\": \"query_text\",\r\n",
      "            \"node_name\": \"query_text\",\r\n",
      "            \"trainable\": true,\r\n",
      "            \"dtype\": \"string\",\r\n",
      "            \"log_at_inference\": true,\r\n",
      "            \"feature_layer_info\": {\r\n",
      "                \"type\": \"numeric\",\r\n",
      "                \"shape\": null,\r\n",
      "                \"fn\": \"bytes_sequence_to_encoding_bilstm\",\r\n",
      "                \"args\": {\r\n",
      "                    \"encoding_type\": \"bilstm\",\r\n",
      "                    \"encoding_size\": 128,\r\n",
      "                    \"embedding_size\": 128,\r\n",
      "                    \"max_length\": 20\r",
      "\r\n",
      "                }\r\n",
      "            },\r\n",
      "            \"preprocessing_info\": [\r\n",
      "                {\r\n",
      "                    \"fn\": \"preprocess_text\",\r\n",
      "                    \"args\": {\r\n",
      "                        \"remove_punctuation\": true,\r\n",
      "                        \"to_lower\": true\r\n",
      "                    }\r\n",
      "                }\r\n",
      "            ],\r\n",
      "            \"serving_info\": {\r\n",
      "                \"name\": \"q\",\r\n",
      "                \"required\": true,\r\n",
      "                \"default_value\": \"\"\r\n",
      "            },\r\n",
      "            \"tfrecord_type\": \"context\"\r\n",
      "        },\r\n",
      "        {\r\n",
      "            \"name\": \"domain_name\",\r\n",
      "            \"node_name\": \"domain_name\",\r\n",
      "            \"trainable\": true,\r\n",
      "            \"dtype\": \"string\",\r\n",
      "            \"log_at_inference\": true,\r\n",
      "            \"is_group_metric_key\": true,\r\n",
      "            \"feature_layer_info\": {\r\n",
      "                \"type\": \"numeric\",\r\n",
      "                \"shape\": null,\r\n",
      "                \"fn\": \"categorical_embedding_with_vocabulary_file\",\r\n",
      "                \"args\": {\r\n",
      "                    \"vocabulary_file\": \"../ml4ir/applications/ranking/tests/data/config/domain_name_vocab_no_id.csv\",\r\n",
      "                    \"embedding_size\": 64,\r\n",
      "                    \"default_value\": -1,\r\n",
      "                    \"num_oov_buckets\": 1\r\n",
      "                }\r\n",
      "            },\r\n",
      "            \"serving_info\": {\r\n",
      "                \"name\": \"domainName\",\r\n",
      "                \"required\": true,\r\n",
      "                \"default_value\": \"\"\r\n",
      "            },\r\n",
      "            \"tfrecord_type\": \"context\"\r\n",
      "        }\r\n",
      "    ]\r\n",
      "}\u001b[0m\r\n",
      "\u001b[32mINFO: 2020-09-10 20:41:28.289 \r\n",
      "Feature config loaded successfully\u001b[0m\r\n",
      "\u001b[32mINFO: 2020-09-10 20:41:28.289 \r\n",
      "Trainable Features : \r\n",
      "text_match_score\r\n",
      "page_views_score\r\n",
      "quality_score\r\n",
      "query_text\r\n",
      "domain_name\u001b[0m\r\n",
      "\u001b[32mINFO: 2020-09-10 20:41:28.290 \r\n",
      "Label : clicked\u001b[0m\r\n",
      "\u001b[32mINFO: 2020-09-10 20:41:28.290 \r\n",
      "Metadata Features : \r\n",
      "query_id\r\n",
      "clicked\r\n",
      "name_match\r\n",
      "rank\r\n",
      "mask\u001b[0m\r\n",
      "\u001b[32mINFO: 2020-09-10 20:41:28.290 \r\n",
      "Context Features : \r\n",
      "query_id\r\n",
      "query_text\r\n",
      "domain_name\u001b[0m\r\n",
      "\u001b[32mINFO: 2020-09-10 20:41:28.290 \r\n",
      "Sequence Features : \r\n",
      "clicked\r\n",
      "text_match_score\r\n",
      "page_views_score\r\n",
      "quality_score\r\n",
      "name_match\r\n",
      "rank\r\n",
      "mask\u001b[0m\r\n",
      "\u001b[32mINFO: 2020-09-10 20:41:28.290 \r\n",
      "Relevance Pipeline successfully initialized!\u001b[0m\r\n",
      "\u001b[32mINFO: 2020-09-10 20:41:28.290 \r\n",
      "Found in ../ml4ir/applications/ranking/tests/data/csv directory : ['../ml4ir/applications/ranking/tests/data/csv/test', '../ml4ir/applications/ranking/tests/data/csv/train', '../ml4ir/applications/ranking/tests/data/csv/validation']\u001b[0m\r\n",
      "\u001b[32mINFO: 2020-09-10 20:41:28.291 \r\n",
      "1 files found under ../ml4ir/applications/ranking/tests/data/csv/train\u001b[0m\r\n",
      "\u001b[32mINFO: 2020-09-10 20:41:28.291 \r\n",
      "Reading 1 files from [../ml4ir/applications/ranking/tests/data/csv/train/file_0.csv, ..\u001b[0m\r\n",
      "\u001b[32mINFO: 2020-09-10 20:41:28.291 \r\n",
      "Loading dataframe from path : ../ml4ir/applications/ranking/tests/data/csv/train/file_0.csv\u001b[0m\r\n"
     ]
    },
    {
     "name": "stdout",
     "output_type": "stream",
     "text": [
      "\u001b[32mINFO: 2020-09-10 20:41:28.314 \n",
      "Writing SequenceExample protobufs to : ../ml4ir/applications/ranking/tests/data/csv/tfrecord/train/file_0.tfrecord\u001b[0m\n",
      "\u001b[31mERROR: 2020-09-10 20:41:28.341 \n",
      "!!! Error Training Model: !!!\n",
      "'query_id'\u001b[0m\n",
      "Traceback (most recent call last):\n",
      "  File \"/Users/ashish.srinivasa/search_relevance/ml4ir/python/env/.ranking_venv3/lib/python3.7/site-packages/pandas/core/indexes/base.py\", line 2897, in get_loc\n",
      "    return self._engine.get_loc(key)\n",
      "  File \"pandas/_libs/index.pyx\", line 107, in pandas._libs.index.IndexEngine.get_loc\n",
      "  File \"pandas/_libs/index.pyx\", line 131, in pandas._libs.index.IndexEngine.get_loc\n",
      "  File \"pandas/_libs/hashtable_class_helper.pxi\", line 1607, in pandas._libs.hashtable.PyObjectHashTable.get_item\n",
      "  File \"pandas/_libs/hashtable_class_helper.pxi\", line 1614, in pandas._libs.hashtable.PyObjectHashTable.get_item\n",
      "KeyError: 'mask'\n",
      "\n",
      "During handling of the above exception, another exception occurred:\n",
      "\n",
      "Traceback (most recent call last):\n",
      "  File \"/Users/ashish.srinivasa/search_relevance/ml4ir/python/env/.ranking_venv3/lib/python3.7/site-packages/pandas/core/groupby/groupby.py\", line 725, in apply\n",
      "    result = self._python_apply_general(f)\n",
      "  File \"/Users/ashish.srinivasa/search_relevance/ml4ir/python/env/.ranking_venv3/lib/python3.7/site-packages/pandas/core/groupby/groupby.py\", line 742, in _python_apply_general\n",
      "    keys, values, mutated = self.grouper.apply(f, self._selected_obj, self.axis)\n",
      "  File \"/Users/ashish.srinivasa/search_relevance/ml4ir/python/env/.ranking_venv3/lib/python3.7/site-packages/pandas/core/groupby/ops.py\", line 237, in apply\n",
      "    res = f(group)\n",
      "  File \"/Users/ashish.srinivasa/search_relevance/ml4ir/python/ml4ir/base/data/tfrecord_writer.py\", line 117, in <lambda>\n",
      "    sequence_features=feature_config.get_sequence_features(),\n",
      "  File \"/Users/ashish.srinivasa/search_relevance/ml4ir/python/ml4ir/base/data/tfrecord_helper.py\", line 91, in get_sequence_example_proto\n",
      "    feature=[feature_fn(group[feature_name].tolist())]\n",
      "  File \"/Users/ashish.srinivasa/search_relevance/ml4ir/python/env/.ranking_venv3/lib/python3.7/site-packages/pandas/core/frame.py\", line 2995, in __getitem__\n",
      "    indexer = self.columns.get_loc(key)\n",
      "  File \"/Users/ashish.srinivasa/search_relevance/ml4ir/python/env/.ranking_venv3/lib/python3.7/site-packages/pandas/core/indexes/base.py\", line 2899, in get_loc\n",
      "    return self._engine.get_loc(self._maybe_cast_indexer(key))\n",
      "  File \"pandas/_libs/index.pyx\", line 107, in pandas._libs.index.IndexEngine.get_loc\n",
      "  File \"pandas/_libs/index.pyx\", line 131, in pandas._libs.index.IndexEngine.get_loc\n",
      "  File \"pandas/_libs/hashtable_class_helper.pxi\", line 1607, in pandas._libs.hashtable.PyObjectHashTable.get_item\n",
      "  File \"pandas/_libs/hashtable_class_helper.pxi\", line 1614, in pandas._libs.hashtable.PyObjectHashTable.get_item\n",
      "KeyError: 'mask'\n",
      "\n",
      "During handling of the above exception, another exception occurred:\n",
      "\n",
      "Traceback (most recent call last):\n",
      "  File \"/Users/ashish.srinivasa/search_relevance/ml4ir/python/env/.ranking_venv3/lib/python3.7/site-packages/pandas/core/indexes/base.py\", line 2897, in get_loc\n",
      "    return self._engine.get_loc(key)\n",
      "  File \"pandas/_libs/index.pyx\", line 107, in pandas._libs.index.IndexEngine.get_loc\n",
      "  File \"pandas/_libs/index.pyx\", line 131, in pandas._libs.index.IndexEngine.get_loc\n",
      "  File \"pandas/_libs/hashtable_class_helper.pxi\", line 1607, in pandas._libs.hashtable.PyObjectHashTable.get_item\n",
      "  File \"pandas/_libs/hashtable_class_helper.pxi\", line 1614, in pandas._libs.hashtable.PyObjectHashTable.get_item\n",
      "KeyError: 'query_id'\n",
      "\n",
      "During handling of the above exception, another exception occurred:\n",
      "\n",
      "Traceback (most recent call last):\n",
      "  File \"/Users/ashish.srinivasa/search_relevance/ml4ir/python/ml4ir/base/pipeline.py\", line 272, in run\n",
      "    relevance_dataset = self.get_relevance_dataset()\n",
      "  File \"/Users/ashish.srinivasa/search_relevance/ml4ir/python/ml4ir/base/pipeline.py\", line 254, in get_relevance_dataset\n",
      "    logger=self.logger,\n",
      "  File \"/Users/ashish.srinivasa/search_relevance/ml4ir/python/ml4ir/base/data/relevance_dataset.py\", line 50, in __init__\n",
      "    self.create_dataset(parse_tfrecord)\n",
      "  File \"/Users/ashish.srinivasa/search_relevance/ml4ir/python/ml4ir/base/data/relevance_dataset.py\", line 114, in create_dataset\n",
      "    logger=self.logger,\n",
      "  File \"/Users/ashish.srinivasa/search_relevance/ml4ir/python/ml4ir/base/data/csv_reader.py\", line 67, in read\n",
      "    logger=logger,\n",
      "  File \"/Users/ashish.srinivasa/search_relevance/ml4ir/python/ml4ir/base/data/tfrecord_writer.py\", line 77, in write_from_files\n",
      "    write_from_df(df, tfrecord_file, feature_config, tfrecord_type, logger)\n",
      "  File \"/Users/ashish.srinivasa/search_relevance/ml4ir/python/ml4ir/base/data/tfrecord_writer.py\", line 114, in write_from_df\n",
      "    lambda g: get_sequence_example_proto(\n",
      "  File \"/Users/ashish.srinivasa/search_relevance/ml4ir/python/env/.ranking_venv3/lib/python3.7/site-packages/pandas/core/groupby/groupby.py\", line 737, in apply\n",
      "    return self._python_apply_general(f)\n",
      "  File \"/Users/ashish.srinivasa/search_relevance/ml4ir/python/env/.ranking_venv3/lib/python3.7/site-packages/pandas/core/groupby/groupby.py\", line 742, in _python_apply_general\n",
      "    keys, values, mutated = self.grouper.apply(f, self._selected_obj, self.axis)\n",
      "  File \"/Users/ashish.srinivasa/search_relevance/ml4ir/python/env/.ranking_venv3/lib/python3.7/site-packages/pandas/core/groupby/ops.py\", line 237, in apply\n",
      "    res = f(group)\n",
      "  File \"/Users/ashish.srinivasa/search_relevance/ml4ir/python/ml4ir/base/data/tfrecord_writer.py\", line 117, in <lambda>\n",
      "    sequence_features=feature_config.get_sequence_features(),\n",
      "  File \"/Users/ashish.srinivasa/search_relevance/ml4ir/python/ml4ir/base/data/tfrecord_helper.py\", line 84, in get_sequence_example_proto\n",
      "    context_features_dict[feature_name] = feature_fn([group[feature_name].tolist()[0]])\n",
      "  File \"/Users/ashish.srinivasa/search_relevance/ml4ir/python/env/.ranking_venv3/lib/python3.7/site-packages/pandas/core/frame.py\", line 2995, in __getitem__\n",
      "    indexer = self.columns.get_loc(key)\n",
      "  File \"/Users/ashish.srinivasa/search_relevance/ml4ir/python/env/.ranking_venv3/lib/python3.7/site-packages/pandas/core/indexes/base.py\", line 2899, in get_loc\n",
      "    return self._engine.get_loc(self._maybe_cast_indexer(key))\n",
      "  File \"pandas/_libs/index.pyx\", line 107, in pandas._libs.index.IndexEngine.get_loc\n",
      "  File \"pandas/_libs/index.pyx\", line 131, in pandas._libs.index.IndexEngine.get_loc\n",
      "  File \"pandas/_libs/hashtable_class_helper.pxi\", line 1607, in pandas._libs.hashtable.PyObjectHashTable.get_item\n",
      "  File \"pandas/_libs/hashtable_class_helper.pxi\", line 1614, in pandas._libs.hashtable.PyObjectHashTable.get_item\n",
      "KeyError: 'query_id'\n",
      "\u001b[0m"
     ]
    }
   ],
   "source": [
    "!python ../ml4ir/applications/ranking/pipeline.py \\\n",
    "--data_dir ../ml4ir/applications/ranking/tests/data/csv \\\n",
    "--feature_config configs/activate_2020/feature_config.yaml \\\n",
    "--model_config configs/activate_2020/model_config.yaml \\\n",
    "--data_format csv \\\n",
    "--execution_mode train_inference_evaluate \\\n",
    "--loss_key rank_one_listnet \\\n",
    "--num_epochs 3 \\\n",
    "--models_dir ../models/activate_2020 \\\n",
    "--logs_dir ../logs/activate_2020 \\\n",
    "--run_id activate_demo"
   ]
  },
  {
   "cell_type": "markdown",
   "metadata": {},
   "source": [
    "## Using ml4ir as a library\n",
    "\n",
    "<img src=\"images/model_framework.png\" alt=\"ml4ir Architecture\" style=\"width: 500px;\" align=\"center\"/>"
   ]
  },
  {
   "cell_type": "markdown",
   "metadata": {},
   "source": [
    "### Setup"
   ]
  },
  {
   "cell_type": "code",
   "execution_count": null,
   "metadata": {},
   "outputs": [],
   "source": [
    "MODEL_CONFIG_PATH = \"configs/activate_2020/model_config.yaml\"\n",
    "FEATURE_CONFIG_PATH = \"configs/activate_2020/feature_config.yaml\"\n",
    "\n",
    "DATA_DIR = \"../ml4ir/applications/ranking/tests/data/csv\"\n",
    "MODELS_DIR = '../models/activate_2020'\n",
    "LOGS_DIR = '../logs/activate_2020'\n",
    "\n",
    "MAX_SEQUENCE_SIZE = 25"
   ]
  },
  {
   "cell_type": "code",
   "execution_count": null,
   "metadata": {},
   "outputs": [],
   "source": [
    "import logging\n",
    "import tensorflow as tf\n",
    "import os\n",
    "\n",
    "from tensorflow.keras.metrics import Metric\n",
    "from tensorflow.keras.optimizers import Optimizer\n",
    "from typing import List, Union, Type\n",
    "\n",
    "from ml4ir.base.io.local_io import LocalIO\n",
    "from ml4ir.base.io.file_io import FileIO\n",
    "from ml4ir.base.config.keys import *\n",
    "from ml4ir.base.data.relevance_dataset import RelevanceDataset\n",
    "from ml4ir.base.features.feature_config import FeatureConfig, SequenceExampleFeatureConfig\n",
    "from ml4ir.base.model.scoring.scoring_model import RelevanceScorer\n",
    "from ml4ir.base.model.relevance_model import RelevanceModel\n",
    "from ml4ir.base.model.scoring.interaction_model import InteractionModel, UnivariateInteractionModel\n",
    "from ml4ir.base.model.losses.loss_base import RelevanceLossBase\n",
    "from ml4ir.base.model.optimizer import get_optimizer\n",
    "from ml4ir.applications.ranking.model.ranking_model import RankingModel\n",
    "from ml4ir.applications.ranking.config.keys import LossKey, MetricKey, ScoringTypeKey\n",
    "from ml4ir.applications.ranking.model.losses import loss_factory\n",
    "from ml4ir.applications.ranking.model.metrics import metric_factory"
   ]
  },
  {
   "cell_type": "code",
   "execution_count": null,
   "metadata": {},
   "outputs": [],
   "source": [
    "# Set up file I/O handler\n",
    "file_io : FileIO = LocalIO()\n",
    "    \n",
    "# Create directories for models and logs\n",
    "file_io.make_directory(LOGS_DIR, clear_dir=True)\n",
    "file_io.make_directory(MODELS_DIR, clear_dir=True)\n",
    "\n",
    "# Set up logger\n",
    "logger = logging.getLogger()"
   ]
  },
  {
   "cell_type": "markdown",
   "metadata": {},
   "source": [
    "### Load the FeatureConfig"
   ]
  },
  {
   "cell_type": "code",
   "execution_count": null,
   "metadata": {
    "scrolled": false
   },
   "outputs": [],
   "source": [
    "feature_config: SequenceExampleFeatureConfig = FeatureConfig.get_instance(\n",
    "    tfrecord_type=TFRecordTypeKey.SEQUENCE_EXAMPLE,\n",
    "    feature_config_dict=file_io.read_yaml(FEATURE_CONFIG_PATH),\n",
    "    logger=logger)\n",
    "print(\"Training features\\n-----------------\")\n",
    "print(\"\\n\".join(feature_config.get_train_features(key=\"name\")))"
   ]
  },
  {
   "cell_type": "markdown",
   "metadata": {},
   "source": [
    "### Create a RelevanceDataset"
   ]
  },
  {
   "cell_type": "code",
   "execution_count": null,
   "metadata": {
    "scrolled": false
   },
   "outputs": [],
   "source": [
    "def get_relevance_dataset(preprocessing_keys_to_fns={}):\n",
    "\n",
    "    return RelevanceDataset(data_dir=DATA_DIR,\n",
    "                            data_format=DataFormatKey.TFRECORD,\n",
    "                            feature_config=feature_config,\n",
    "                            tfrecord_type=TFRecordTypeKey.SEQUENCE_EXAMPLE,\n",
    "                            max_sequence_size=MAX_SEQUENCE_SIZE,\n",
    "                            batch_size=128,\n",
    "                            preprocessing_keys_to_fns=preprocessing_keys_to_fns,\n",
    "                            file_io=file_io,\n",
    "                            logger=logger)\n",
    "\n",
    "ranking_dataset = get_relevance_dataset()"
   ]
  },
  {
   "cell_type": "markdown",
   "metadata": {},
   "source": [
    "### Define an InteractionModel"
   ]
  },
  {
   "cell_type": "code",
   "execution_count": null,
   "metadata": {},
   "outputs": [],
   "source": [
    "interaction_model: InteractionModel = UnivariateInteractionModel(\n",
    "                                            feature_config=feature_config,\n",
    "                                            tfrecord_type=TFRecordTypeKey.SEQUENCE_EXAMPLE,\n",
    "                                            max_sequence_size=MAX_SEQUENCE_SIZE,\n",
    "                                            file_io=file_io,\n",
    "                                        )"
   ]
  },
  {
   "cell_type": "markdown",
   "metadata": {},
   "source": [
    "### Define losses, metrics and optimizer\n",
    "##### Use predefined losses, metrics and optimizers or create your own!"
   ]
  },
  {
   "cell_type": "code",
   "execution_count": null,
   "metadata": {},
   "outputs": [],
   "source": [
    "# Define loss object from loss key\n",
    "loss: RelevanceLossBase = loss_factory.get_loss(\n",
    "                                loss_key=LossKey.RANK_ONE_LISTNET,\n",
    "                                scoring_type=ScoringTypeKey.POINTWISE)\n",
    "    \n",
    "# Define metrics objects from metrics keys\n",
    "metrics: List[Union[Type[Metric], str]] = [metric_factory.get_metric(metric_key=\"MRR\")]\n",
    "    \n",
    "# Define optimizer\n",
    "optimizer: Optimizer = get_optimizer(\n",
    "                            optimizer_key=OptimizerKey.ADAM,\n",
    "                            learning_rate=0.001\n",
    "                        )"
   ]
  },
  {
   "cell_type": "markdown",
   "metadata": {},
   "source": [
    "### Define a scoring function, or the Scorer"
   ]
  },
  {
   "cell_type": "code",
   "execution_count": null,
   "metadata": {},
   "outputs": [],
   "source": [
    "scorer: RelevanceScorer = RelevanceScorer.from_model_config_file(\n",
    "    model_config_file=MODEL_CONFIG_PATH,\n",
    "    interaction_model=interaction_model,\n",
    "    loss=loss,\n",
    "    logger=logger,\n",
    "    file_io=file_io,\n",
    ")"
   ]
  },
  {
   "cell_type": "markdown",
   "metadata": {},
   "source": [
    "### Combine it all to create a RankingModel"
   ]
  },
  {
   "cell_type": "code",
   "execution_count": null,
   "metadata": {
    "scrolled": false
   },
   "outputs": [],
   "source": [
    "ranking_model: RelevanceModel = RankingModel(\n",
    "                                    feature_config=feature_config,\n",
    "                                    tfrecord_type=TFRecordTypeKey.SEQUENCE_EXAMPLE,\n",
    "                                    scorer=scorer,\n",
    "                                    metrics=metrics,\n",
    "                                    optimizer=optimizer,\n",
    "                                    file_io=file_io,\n",
    "                                    logger=logger,\n",
    "                                )"
   ]
  },
  {
   "cell_type": "markdown",
   "metadata": {},
   "source": [
    "### Train your RankingModel"
   ]
  },
  {
   "cell_type": "code",
   "execution_count": null,
   "metadata": {},
   "outputs": [],
   "source": [
    "ranking_model.fit(dataset=ranking_dataset,\n",
    "                  num_epochs=3, \n",
    "                  models_dir=MODELS_DIR,\n",
    "                  logs_dir=LOGS_DIR,\n",
    "                  monitor_metric=\"new_MRR\",\n",
    "                  monitor_mode=\"max\")"
   ]
  },
  {
   "cell_type": "markdown",
   "metadata": {},
   "source": [
    "## Let's try some Transfer Learning"
   ]
  },
  {
   "cell_type": "markdown",
   "metadata": {},
   "source": [
    "### What does ml4ir save?"
   ]
  },
  {
   "cell_type": "code",
   "execution_count": null,
   "metadata": {},
   "outputs": [],
   "source": []
  },
  {
   "cell_type": "markdown",
   "metadata": {},
   "source": [
    "### Using pre-trained character embeddings"
   ]
  },
  {
   "cell_type": "code",
   "execution_count": null,
   "metadata": {},
   "outputs": [],
   "source": [
    "ranking_model.model.get_layer(\"query_text_bytes_embedding\").get_weights()"
   ]
  },
  {
   "cell_type": "code",
   "execution_count": null,
   "metadata": {
    "scrolled": false
   },
   "outputs": [],
   "source": [
    "initialize_layers_dict = {\n",
    "    \"query_text_bytes_embedding\" : \"../models/test_wandb2/final/layers/query_text_bytes_embedding.npy\"\n",
    "}\n",
    "freeze_layers_list = [\"query_text_bytes_embedding\"]\n",
    "ranking_model: RelevanceModel = RankingModel(\n",
    "                                    feature_config=feature_config,\n",
    "                                    tfrecord_type=TFRecordTypeKey.SEQUENCE_EXAMPLE,\n",
    "                                    scorer=scorer,\n",
    "                                    metrics=metrics,\n",
    "                                    optimizer=optimizer,\n",
    "                                    initialize_layers_dict=initialize_layers_dict,\n",
    "                                    freeze_layers_list=freeze_layers_list,\n",
    "                                    file_io=file_io,\n",
    "                                    logger=logger,\n",
    "                                )"
   ]
  },
  {
   "cell_type": "code",
   "execution_count": null,
   "metadata": {},
   "outputs": [],
   "source": [
    "ranking_model.model.get_layer(\"query_text_bytes_embedding\").get_weights()"
   ]
  }
 ],
 "metadata": {
  "kernelspec": {
   "display_name": "Python 3",
   "language": "python",
   "name": "python3"
  },
  "language_info": {
   "codemirror_mode": {
    "name": "ipython",
    "version": 3
   },
   "file_extension": ".py",
   "mimetype": "text/x-python",
   "name": "python",
   "nbconvert_exporter": "python",
   "pygments_lexer": "ipython3",
   "version": "3.7.7"
  }
 },
 "nbformat": 4,
 "nbformat_minor": 2
}
