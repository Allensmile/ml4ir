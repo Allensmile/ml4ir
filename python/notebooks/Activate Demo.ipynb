{
 "cells": [
  {
   "cell_type": "markdown",
   "metadata": {},
   "source": [
    "# Training a Learning to Rank Model using ml4ir\n",
    "-----"
   ]
  },
  {
   "cell_type": "markdown",
   "metadata": {},
   "source": [
    "### First, let's install ml4ir"
   ]
  },
  {
   "cell_type": "code",
   "execution_count": 1,
   "metadata": {},
   "outputs": [
    {
     "name": "stdout",
     "output_type": "stream",
     "text": [
      "Looking in indexes: https://pypi.python.org/simple\n",
      "Requirement already satisfied: ml4ir in /Users/ashish.srinivasa/search_relevance/ml4ir/python (0.0.1)\n",
      "Requirement already satisfied: click in /Users/ashish.srinivasa/.sipcli_env/lib/python3.7/site-packages (from ml4ir) (7.1.2)\n",
      "Requirement already satisfied: Sphinx in /Users/ashish.srinivasa/.sipcli_env/lib/python3.7/site-packages (from ml4ir) (3.1.1)\n",
      "Requirement already satisfied: coverage in /Users/ashish.srinivasa/.sipcli_env/lib/python3.7/site-packages (from ml4ir) (5.0.3)\n",
      "Requirement already satisfied: awscli in /Users/ashish.srinivasa/.sipcli_env/lib/python3.7/site-packages (from ml4ir) (1.18.83)\n",
      "Requirement already satisfied: flake8 in /Users/ashish.srinivasa/.sipcli_env/lib/python3.7/site-packages (from ml4ir) (3.8.3)\n",
      "Requirement already satisfied: python-dotenv>=0.5.1 in /Users/ashish.srinivasa/.sipcli_env/lib/python3.7/site-packages (from ml4ir) (0.13.0)\n",
      "Requirement already satisfied: flake8-black in /Users/ashish.srinivasa/.sipcli_env/lib/python3.7/site-packages (from ml4ir) (0.2.0)\n",
      "Requirement already satisfied: flake8-mypy in /Users/ashish.srinivasa/.sipcli_env/lib/python3.7/site-packages (from ml4ir) (17.8.0)\n",
      "Requirement already satisfied: pre-commit in /Users/ashish.srinivasa/.sipcli_env/lib/python3.7/site-packages (from ml4ir) (2.5.1)\n",
      "Requirement already satisfied: mypy in /Users/ashish.srinivasa/.sipcli_env/lib/python3.7/site-packages (from ml4ir) (0.780)\n",
      "Requirement already satisfied: appnope==0.1.0 in /Users/ashish.srinivasa/.sipcli_env/lib/python3.7/site-packages (from ml4ir) (0.1.0)\n",
      "Requirement already satisfied: attrs==19.3.0 in /Users/ashish.srinivasa/.sipcli_env/lib/python3.7/site-packages (from ml4ir) (19.3.0)\n",
      "Requirement already satisfied: backcall==0.1.0 in /Users/ashish.srinivasa/.sipcli_env/lib/python3.7/site-packages (from ml4ir) (0.1.0)\n",
      "Requirement already satisfied: colorlog==4.0.2 in /Users/ashish.srinivasa/.sipcli_env/lib/python3.7/site-packages (from ml4ir) (4.0.2)\n",
      "Requirement already satisfied: dask==2.8.1 in /Users/ashish.srinivasa/.sipcli_env/lib/python3.7/site-packages (from ml4ir) (2.8.1)\n",
      "Requirement already satisfied: decorator==4.4.1 in /Users/ashish.srinivasa/.sipcli_env/lib/python3.7/site-packages (from ml4ir) (4.4.1)\n",
      "Requirement already satisfied: dill==0.3.0 in /Users/ashish.srinivasa/.sipcli_env/lib/python3.7/site-packages (from ml4ir) (0.3.0)\n",
      "Requirement already satisfied: distributed==2.8.1 in /Users/ashish.srinivasa/.sipcli_env/lib/python3.7/site-packages (from ml4ir) (2.8.1)\n",
      "Requirement already satisfied: entrypoints==0.3 in /Users/ashish.srinivasa/.sipcli_env/lib/python3.7/site-packages (from ml4ir) (0.3)\n",
      "Requirement already satisfied: future==0.18.2 in /Users/ashish.srinivasa/.sipcli_env/lib/python3.7/site-packages (from ml4ir) (0.18.2)\n",
      "Requirement already satisfied: hdfs==2.5.8 in /Users/ashish.srinivasa/.sipcli_env/lib/python3.7/site-packages (from ml4ir) (2.5.8)\n",
      "Requirement already satisfied: ipykernel==5.1.3 in /Users/ashish.srinivasa/.sipcli_env/lib/python3.7/site-packages (from ml4ir) (5.1.3)\n",
      "Requirement already satisfied: ipywidgets==7.5.1 in /Users/ashish.srinivasa/.sipcli_env/lib/python3.7/site-packages (from ml4ir) (7.5.1)\n",
      "Requirement already satisfied: ipython==7.11.1 in /Users/ashish.srinivasa/.sipcli_env/lib/python3.7/site-packages (from ml4ir) (7.11.1)\n",
      "Requirement already satisfied: ipython-genutils==0.2.0 in /Users/ashish.srinivasa/.sipcli_env/lib/python3.7/site-packages (from ml4ir) (0.2.0)\n",
      "Requirement already satisfied: jedi==0.15.2 in /Users/ashish.srinivasa/.sipcli_env/lib/python3.7/site-packages (from ml4ir) (0.15.2)\n",
      "Requirement already satisfied: joblib==0.14.0 in /Users/ashish.srinivasa/.sipcli_env/lib/python3.7/site-packages (from ml4ir) (0.14.0)\n",
      "Requirement already satisfied: json5==0.8.5 in /Users/ashish.srinivasa/.sipcli_env/lib/python3.7/site-packages (from ml4ir) (0.8.5)\n",
      "Requirement already satisfied: jsonschema==3.2.0 in /Users/ashish.srinivasa/.sipcli_env/lib/python3.7/site-packages (from ml4ir) (3.2.0)\n",
      "Requirement already satisfied: jupyter-client==5.3.4 in /Users/ashish.srinivasa/.sipcli_env/lib/python3.7/site-packages (from ml4ir) (5.3.4)\n",
      "Requirement already satisfied: jupyter-core==4.6.1 in /Users/ashish.srinivasa/.sipcli_env/lib/python3.7/site-packages (from ml4ir) (4.6.1)\n",
      "Requirement already satisfied: jupyterlab==1.2.3 in /Users/ashish.srinivasa/.sipcli_env/lib/python3.7/site-packages (from ml4ir) (1.2.3)\n",
      "Requirement already satisfied: jupyterlab-server==1.0.6 in /Users/ashish.srinivasa/.sipcli_env/lib/python3.7/site-packages (from ml4ir) (1.0.6)\n",
      "Requirement already satisfied: Keras-Applications==1.0.8 in /Users/ashish.srinivasa/.sipcli_env/lib/python3.7/site-packages (from ml4ir) (1.0.8)\n",
      "Requirement already satisfied: Keras-Preprocessing==1.1.0 in /Users/ashish.srinivasa/.sipcli_env/lib/python3.7/site-packages (from ml4ir) (1.1.0)\n",
      "Requirement already satisfied: lime==0.1.1.36 in /Users/ashish.srinivasa/.sipcli_env/lib/python3.7/site-packages (from ml4ir) (0.1.1.36)\n",
      "Requirement already satisfied: Markdown==3.1.1 in /Users/ashish.srinivasa/.sipcli_env/lib/python3.7/site-packages (from ml4ir) (3.1.1)\n",
      "Requirement already satisfied: MarkupSafe==1.1.1 in /Users/ashish.srinivasa/.sipcli_env/lib/python3.7/site-packages (from ml4ir) (1.1.1)\n",
      "Requirement already satisfied: matplotlib==3.1.2 in /Users/ashish.srinivasa/.sipcli_env/lib/python3.7/site-packages (from ml4ir) (3.1.2)\n",
      "Requirement already satisfied: nbconvert==5.6.1 in /Users/ashish.srinivasa/.sipcli_env/lib/python3.7/site-packages (from ml4ir) (5.6.1)\n",
      "Requirement already satisfied: nbformat==4.4.0 in /Users/ashish.srinivasa/.sipcli_env/lib/python3.7/site-packages (from ml4ir) (4.4.0)\n",
      "Requirement already satisfied: notebook==6.0.2 in /Users/ashish.srinivasa/.sipcli_env/lib/python3.7/site-packages (from ml4ir) (6.0.2)\n",
      "Requirement already satisfied: numpy==1.17.4 in /Users/ashish.srinivasa/.sipcli_env/lib/python3.7/site-packages (from ml4ir) (1.17.4)\n",
      "Requirement already satisfied: oauth2client==3.0.0 in /Users/ashish.srinivasa/.sipcli_env/lib/python3.7/site-packages (from ml4ir) (3.0.0)\n",
      "Requirement already satisfied: oauthlib==3.1.0 in /Users/ashish.srinivasa/.sipcli_env/lib/python3.7/site-packages (from ml4ir) (3.1.0)\n",
      "Requirement already satisfied: pandas==0.25.3 in /Users/ashish.srinivasa/.sipcli_env/lib/python3.7/site-packages (from ml4ir) (0.25.3)\n",
      "Requirement already satisfied: plotly==4.4.1 in /Users/ashish.srinivasa/.sipcli_env/lib/python3.7/site-packages (from ml4ir) (4.4.1)\n",
      "Requirement already satisfied: protobuf==3.10.0 in /Users/ashish.srinivasa/.sipcli_env/lib/python3.7/site-packages (from ml4ir) (3.10.0)\n",
      "Requirement already satisfied: pycodestyle==2.5.0 in /Users/ashish.srinivasa/.sipcli_env/lib/python3.7/site-packages (from ml4ir) (2.5.0)\n",
      "Requirement already satisfied: pyflakes==2.1.1 in /Users/ashish.srinivasa/.sipcli_env/lib/python3.7/site-packages (from ml4ir) (2.1.1)\n",
      "Requirement already satisfied: pytest==4.6.3 in /Users/ashish.srinivasa/.sipcli_env/lib/python3.7/site-packages (from ml4ir) (4.6.3)\n",
      "Requirement already satisfied: pytest-cov==2.5.1 in /Users/ashish.srinivasa/.sipcli_env/lib/python3.7/site-packages (from ml4ir) (2.5.1)\n",
      "Requirement already satisfied: pytest-html==2.1.1 in /Users/ashish.srinivasa/.sipcli_env/lib/python3.7/site-packages (from ml4ir) (2.1.1)\n",
      "Requirement already satisfied: python-dateutil==2.8.1 in /Users/ashish.srinivasa/.sipcli_env/lib/python3.7/site-packages (from ml4ir) (2.8.1)\n",
      "Requirement already satisfied: parso==0.5.2 in /Users/ashish.srinivasa/.sipcli_env/lib/python3.7/site-packages (from ml4ir) (0.5.2)\n",
      "Requirement already satisfied: pexpect==4.7.0 in /Users/ashish.srinivasa/.sipcli_env/lib/python3.7/site-packages (from ml4ir) (4.7.0)\n",
      "Requirement already satisfied: pickleshare==0.7.5 in /Users/ashish.srinivasa/.sipcli_env/lib/python3.7/site-packages (from ml4ir) (0.7.5)\n",
      "Requirement already satisfied: prompt-toolkit==3.0.2 in /Users/ashish.srinivasa/.sipcli_env/lib/python3.7/site-packages (from ml4ir) (3.0.2)\n",
      "Requirement already satisfied: ptyprocess==0.6.0 in /Users/ashish.srinivasa/.sipcli_env/lib/python3.7/site-packages (from ml4ir) (0.6.0)\n",
      "Requirement already satisfied: Pygments==2.5.2 in /Users/ashish.srinivasa/.sipcli_env/lib/python3.7/site-packages (from ml4ir) (2.5.2)\n",
      "Requirement already satisfied: PyYAML==5.1 in /Users/ashish.srinivasa/.sipcli_env/lib/python3.7/site-packages (from ml4ir) (5.1)\n",
      "Requirement already satisfied: requests==2.22.0 in /Users/ashish.srinivasa/.sipcli_env/lib/python3.7/site-packages (from ml4ir) (2.22.0)\n",
      "Requirement already satisfied: requests-oauthlib==1.3.0 in /Users/ashish.srinivasa/.sipcli_env/lib/python3.7/site-packages (from ml4ir) (1.3.0)\n",
      "Requirement already satisfied: rsa==4.0 in /Users/ashish.srinivasa/.sipcli_env/lib/python3.7/site-packages (from ml4ir) (4.0)\n",
      "Requirement already satisfied: scikit-image==0.16.2 in /Users/ashish.srinivasa/.sipcli_env/lib/python3.7/site-packages (from ml4ir) (0.16.2)\n"
     ]
    },
    {
     "name": "stdout",
     "output_type": "stream",
     "text": [
      "Requirement already satisfied: scikit-learn==0.21.3 in /Users/ashish.srinivasa/.sipcli_env/lib/python3.7/site-packages (from ml4ir) (0.21.3)\n",
      "Requirement already satisfied: scipy==1.3.2 in /Users/ashish.srinivasa/.sipcli_env/lib/python3.7/site-packages (from ml4ir) (1.3.2)\n",
      "Requirement already satisfied: seaborn==0.9.0 in /Users/ashish.srinivasa/.sipcli_env/lib/python3.7/site-packages (from ml4ir) (0.9.0)\n",
      "Requirement already satisfied: six==1.14.0 in /Users/ashish.srinivasa/.sipcli_env/lib/python3.7/site-packages (from ml4ir) (1.14.0)\n",
      "Requirement already satisfied: sklearn==0.0 in /Users/ashish.srinivasa/.sipcli_env/lib/python3.7/site-packages (from ml4ir) (0.0)\n",
      "Requirement already satisfied: swifter==0.296 in /Users/ashish.srinivasa/.sipcli_env/lib/python3.7/site-packages (from ml4ir) (0.296)\n",
      "Requirement already satisfied: tblib==1.5.0 in /Users/ashish.srinivasa/.sipcli_env/lib/python3.7/site-packages (from ml4ir) (1.5.0)\n",
      "Requirement already satisfied: tensorboard==2.0.1 in /Users/ashish.srinivasa/.sipcli_env/lib/python3.7/site-packages (from ml4ir) (2.0.1)\n",
      "Requirement already satisfied: tensorflow==2.0.1 in /Users/ashish.srinivasa/.sipcli_env/lib/python3.7/site-packages (from ml4ir) (2.0.1)\n",
      "Requirement already satisfied: tensorflow-estimator==2.0.1 in /Users/ashish.srinivasa/.sipcli_env/lib/python3.7/site-packages (from ml4ir) (2.0.1)\n",
      "Requirement already satisfied: tensorflow-hub==0.7.0 in /Users/ashish.srinivasa/.sipcli_env/lib/python3.7/site-packages (from ml4ir) (0.7.0)\n",
      "Requirement already satisfied: tensorflow-metadata==0.15.1 in /Users/ashish.srinivasa/.sipcli_env/lib/python3.7/site-packages (from ml4ir) (0.15.1)\n",
      "Requirement already satisfied: tensorflow-probability==0.8.0 in /Users/ashish.srinivasa/.sipcli_env/lib/python3.7/site-packages (from ml4ir) (0.8.0)\n",
      "Requirement already satisfied: tensorflow-ranking==0.2.0 in /Users/ashish.srinivasa/.sipcli_env/lib/python3.7/site-packages (from ml4ir) (0.2.0)\n",
      "Requirement already satisfied: tensorflow-serving-api==2.0.0 in /Users/ashish.srinivasa/.sipcli_env/lib/python3.7/site-packages (from ml4ir) (2.0.0)\n",
      "Requirement already satisfied: tensorflow-text==2.0.1 in /Users/ashish.srinivasa/.sipcli_env/lib/python3.7/site-packages (from ml4ir) (2.0.1)\n",
      "Requirement already satisfied: tensorflow-transform==0.15.0 in /Users/ashish.srinivasa/.sipcli_env/lib/python3.7/site-packages (from ml4ir) (0.15.0)\n",
      "Requirement already satisfied: traitlets==4.3.3 in /Users/ashish.srinivasa/.sipcli_env/lib/python3.7/site-packages (from ml4ir) (4.3.3)\n",
      "Requirement already satisfied: urllib3==1.25.7 in /Users/ashish.srinivasa/.sipcli_env/lib/python3.7/site-packages (from ml4ir) (1.25.7)\n",
      "Requirement already satisfied: wandb==0.8.36 in /Users/ashish.srinivasa/.sipcli_env/lib/python3.7/site-packages (from ml4ir) (0.8.36)\n",
      "Requirement already satisfied: wcwidth==0.1.8 in /Users/ashish.srinivasa/.sipcli_env/lib/python3.7/site-packages (from ml4ir) (0.1.8)\n",
      "Requirement already satisfied: docutils>=0.12 in /Users/ashish.srinivasa/.sipcli_env/lib/python3.7/site-packages (from Sphinx->ml4ir) (0.16)\n",
      "Requirement already satisfied: sphinxcontrib-devhelp in /Users/ashish.srinivasa/.sipcli_env/lib/python3.7/site-packages (from Sphinx->ml4ir) (1.0.2)\n",
      "Requirement already satisfied: Jinja2>=2.3 in /Users/ashish.srinivasa/.sipcli_env/lib/python3.7/site-packages (from Sphinx->ml4ir) (2.11.2)\n",
      "Requirement already satisfied: sphinxcontrib-jsmath in /Users/ashish.srinivasa/.sipcli_env/lib/python3.7/site-packages (from Sphinx->ml4ir) (1.0.1)\n",
      "Requirement already satisfied: sphinxcontrib-qthelp in /Users/ashish.srinivasa/.sipcli_env/lib/python3.7/site-packages (from Sphinx->ml4ir) (1.0.3)\n",
      "Requirement already satisfied: setuptools in /Users/ashish.srinivasa/.sipcli_env/lib/python3.7/site-packages (from Sphinx->ml4ir) (47.1.1)\n",
      "Requirement already satisfied: snowballstemmer>=1.1 in /Users/ashish.srinivasa/.sipcli_env/lib/python3.7/site-packages (from Sphinx->ml4ir) (2.0.0)\n",
      "Requirement already satisfied: alabaster<0.8,>=0.7 in /Users/ashish.srinivasa/.sipcli_env/lib/python3.7/site-packages (from Sphinx->ml4ir) (0.7.12)\n",
      "Requirement already satisfied: imagesize in /Users/ashish.srinivasa/.sipcli_env/lib/python3.7/site-packages (from Sphinx->ml4ir) (1.2.0)\n",
      "Requirement already satisfied: babel>=1.3 in /Users/ashish.srinivasa/.sipcli_env/lib/python3.7/site-packages (from Sphinx->ml4ir) (2.8.0)\n",
      "Requirement already satisfied: packaging in /Users/ashish.srinivasa/.sipcli_env/lib/python3.7/site-packages (from Sphinx->ml4ir) (20.4)\n",
      "Requirement already satisfied: sphinxcontrib-applehelp in /Users/ashish.srinivasa/.sipcli_env/lib/python3.7/site-packages (from Sphinx->ml4ir) (1.0.2)\n",
      "Requirement already satisfied: sphinxcontrib-serializinghtml in /Users/ashish.srinivasa/.sipcli_env/lib/python3.7/site-packages (from Sphinx->ml4ir) (1.1.4)\n",
      "Requirement already satisfied: sphinxcontrib-htmlhelp in /Users/ashish.srinivasa/.sipcli_env/lib/python3.7/site-packages (from Sphinx->ml4ir) (1.0.3)\n",
      "Requirement already satisfied: s3transfer<0.4.0,>=0.3.0 in /Users/ashish.srinivasa/.sipcli_env/lib/python3.7/site-packages (from awscli->ml4ir) (0.3.3)\n",
      "Requirement already satisfied: colorama<0.4.4,>=0.2.5; python_version != \"3.4\" in /Users/ashish.srinivasa/.sipcli_env/lib/python3.7/site-packages (from awscli->ml4ir) (0.4.3)\n",
      "Requirement already satisfied: botocore==1.17.6 in /Users/ashish.srinivasa/.sipcli_env/lib/python3.7/site-packages (from awscli->ml4ir) (1.17.6)\n",
      "Requirement already satisfied: mccabe<0.7.0,>=0.6.0 in /Users/ashish.srinivasa/.sipcli_env/lib/python3.7/site-packages (from flake8->ml4ir) (0.6.1)\n",
      "Requirement already satisfied: importlib-metadata; python_version < \"3.8\" in /Users/ashish.srinivasa/.sipcli_env/lib/python3.7/site-packages (from flake8->ml4ir) (1.6.1)\n",
      "Requirement already satisfied: black in /Users/ashish.srinivasa/.sipcli_env/lib/python3.7/site-packages (from flake8-black->ml4ir) (19.10b0)\n",
      "Requirement already satisfied: cfgv>=2.0.0 in /Users/ashish.srinivasa/.sipcli_env/lib/python3.7/site-packages (from pre-commit->ml4ir) (3.1.0)\n",
      "Requirement already satisfied: identify>=1.0.0 in /Users/ashish.srinivasa/.sipcli_env/lib/python3.7/site-packages (from pre-commit->ml4ir) (1.4.19)\n",
      "Requirement already satisfied: toml in /Users/ashish.srinivasa/.sipcli_env/lib/python3.7/site-packages (from pre-commit->ml4ir) (0.10.1)\n",
      "Requirement already satisfied: virtualenv>=20.0.8 in /Users/ashish.srinivasa/.sipcli_env/lib/python3.7/site-packages (from pre-commit->ml4ir) (20.0.23)\n",
      "Requirement already satisfied: nodeenv>=0.11.1 in /Users/ashish.srinivasa/.sipcli_env/lib/python3.7/site-packages (from pre-commit->ml4ir) (1.4.0)\n",
      "Requirement already satisfied: mypy-extensions<0.5.0,>=0.4.3 in /Users/ashish.srinivasa/.sipcli_env/lib/python3.7/site-packages (from mypy->ml4ir) (0.4.3)\n",
      "Requirement already satisfied: typing-extensions>=3.7.4 in /Users/ashish.srinivasa/.sipcli_env/lib/python3.7/site-packages (from mypy->ml4ir) (3.7.4.2)\n",
      "Requirement already satisfied: typed-ast<1.5.0,>=1.4.0 in /Users/ashish.srinivasa/.sipcli_env/lib/python3.7/site-packages (from mypy->ml4ir) (1.4.1)\n",
      "Requirement already satisfied: msgpack in /Users/ashish.srinivasa/.sipcli_env/lib/python3.7/site-packages (from distributed==2.8.1->ml4ir) (1.0.0)\n",
      "Requirement already satisfied: psutil>=5.0 in /Users/ashish.srinivasa/.sipcli_env/lib/python3.7/site-packages (from distributed==2.8.1->ml4ir) (5.7.0)\n",
      "Requirement already satisfied: sortedcontainers!=2.0.0,!=2.0.1 in /Users/ashish.srinivasa/.sipcli_env/lib/python3.7/site-packages (from distributed==2.8.1->ml4ir) (2.2.2)\n",
      "Requirement already satisfied: toolz>=0.7.4 in /Users/ashish.srinivasa/.sipcli_env/lib/python3.7/site-packages (from distributed==2.8.1->ml4ir) (0.10.0)\n",
      "Requirement already satisfied: cloudpickle>=0.2.2 in /Users/ashish.srinivasa/.sipcli_env/lib/python3.7/site-packages (from distributed==2.8.1->ml4ir) (1.4.1)\n",
      "Requirement already satisfied: tornado>=5 in /Users/ashish.srinivasa/.sipcli_env/lib/python3.7/site-packages (from distributed==2.8.1->ml4ir) (6.0.4)\n",
      "Requirement already satisfied: zict>=0.1.3 in /Users/ashish.srinivasa/.sipcli_env/lib/python3.7/site-packages (from distributed==2.8.1->ml4ir) (2.0.0)\n",
      "Requirement already satisfied: docopt in /Users/ashish.srinivasa/.sipcli_env/lib/python3.7/site-packages (from hdfs==2.5.8->ml4ir) (0.6.2)\n",
      "Requirement already satisfied: widgetsnbextension~=3.5.0 in /Users/ashish.srinivasa/.sipcli_env/lib/python3.7/site-packages (from ipywidgets==7.5.1->ml4ir) (3.5.1)\n",
      "Requirement already satisfied: pyrsistent>=0.14.0 in /Users/ashish.srinivasa/.sipcli_env/lib/python3.7/site-packages (from jsonschema==3.2.0->ml4ir) (0.16.0)\n",
      "Requirement already satisfied: pyzmq>=13 in /Users/ashish.srinivasa/.sipcli_env/lib/python3.7/site-packages (from jupyter-client==5.3.4->ml4ir) (19.0.1)\n",
      "Requirement already satisfied: h5py in /Users/ashish.srinivasa/.sipcli_env/lib/python3.7/site-packages (from Keras-Applications==1.0.8->ml4ir) (2.10.0)\n",
      "Requirement already satisfied: kiwisolver>=1.0.1 in /Users/ashish.srinivasa/.sipcli_env/lib/python3.7/site-packages (from matplotlib==3.1.2->ml4ir) (1.2.0)\n",
      "Requirement already satisfied: cycler>=0.10 in /Users/ashish.srinivasa/.sipcli_env/lib/python3.7/site-packages (from matplotlib==3.1.2->ml4ir) (0.10.0)\n",
      "Requirement already satisfied: pyparsing!=2.0.4,!=2.1.2,!=2.1.6,>=2.0.1 in /Users/ashish.srinivasa/.sipcli_env/lib/python3.7/site-packages (from matplotlib==3.1.2->ml4ir) (2.4.7)\n",
      "Requirement already satisfied: bleach in /Users/ashish.srinivasa/.sipcli_env/lib/python3.7/site-packages (from nbconvert==5.6.1->ml4ir) (3.1.5)\n",
      "Requirement already satisfied: pandocfilters>=1.4.1 in /Users/ashish.srinivasa/.sipcli_env/lib/python3.7/site-packages (from nbconvert==5.6.1->ml4ir) (1.4.2)\n",
      "Requirement already satisfied: mistune<2,>=0.8.1 in /Users/ashish.srinivasa/.sipcli_env/lib/python3.7/site-packages (from nbconvert==5.6.1->ml4ir) (0.8.4)\n",
      "Requirement already satisfied: testpath in /Users/ashish.srinivasa/.sipcli_env/lib/python3.7/site-packages (from nbconvert==5.6.1->ml4ir) (0.4.4)\n",
      "Requirement already satisfied: defusedxml in /Users/ashish.srinivasa/.sipcli_env/lib/python3.7/site-packages (from nbconvert==5.6.1->ml4ir) (0.6.0)\n",
      "Requirement already satisfied: prometheus-client in /Users/ashish.srinivasa/.sipcli_env/lib/python3.7/site-packages (from notebook==6.0.2->ml4ir) (0.8.0)\n"
     ]
    },
    {
     "name": "stdout",
     "output_type": "stream",
     "text": [
      "Requirement already satisfied: terminado>=0.8.1 in /Users/ashish.srinivasa/.sipcli_env/lib/python3.7/site-packages (from notebook==6.0.2->ml4ir) (0.8.3)\n",
      "Requirement already satisfied: Send2Trash in /Users/ashish.srinivasa/.sipcli_env/lib/python3.7/site-packages (from notebook==6.0.2->ml4ir) (1.5.0)\n",
      "Requirement already satisfied: pyasn1-modules>=0.0.5 in /Users/ashish.srinivasa/.sipcli_env/lib/python3.7/site-packages (from oauth2client==3.0.0->ml4ir) (0.2.8)\n",
      "Requirement already satisfied: httplib2>=0.9.1 in /Users/ashish.srinivasa/.sipcli_env/lib/python3.7/site-packages (from oauth2client==3.0.0->ml4ir) (0.18.1)\n",
      "Requirement already satisfied: pyasn1>=0.1.7 in /Users/ashish.srinivasa/.sipcli_env/lib/python3.7/site-packages (from oauth2client==3.0.0->ml4ir) (0.4.8)\n",
      "Requirement already satisfied: pytz>=2017.2 in /Users/ashish.srinivasa/.sipcli_env/lib/python3.7/site-packages (from pandas==0.25.3->ml4ir) (2020.1)\n",
      "Requirement already satisfied: retrying>=1.3.3 in /Users/ashish.srinivasa/.sipcli_env/lib/python3.7/site-packages (from plotly==4.4.1->ml4ir) (1.3.3)\n",
      "Requirement already satisfied: py>=1.5.0 in /Users/ashish.srinivasa/.sipcli_env/lib/python3.7/site-packages (from pytest==4.6.3->ml4ir) (1.8.2)\n",
      "Requirement already satisfied: atomicwrites>=1.0 in /Users/ashish.srinivasa/.sipcli_env/lib/python3.7/site-packages (from pytest==4.6.3->ml4ir) (1.4.0)\n",
      "Requirement already satisfied: pluggy<1.0,>=0.12 in /Users/ashish.srinivasa/.sipcli_env/lib/python3.7/site-packages (from pytest==4.6.3->ml4ir) (0.13.1)\n",
      "Requirement already satisfied: more-itertools>=4.0.0; python_version > \"2.7\" in /Users/ashish.srinivasa/.sipcli_env/lib/python3.7/site-packages (from pytest==4.6.3->ml4ir) (8.4.0)\n",
      "Requirement already satisfied: pytest-metadata in /Users/ashish.srinivasa/.sipcli_env/lib/python3.7/site-packages (from pytest-html==2.1.1->ml4ir) (1.9.0)\n",
      "Requirement already satisfied: certifi>=2017.4.17 in /Users/ashish.srinivasa/.sipcli_env/lib/python3.7/site-packages (from requests==2.22.0->ml4ir) (2020.4.5.2)\n",
      "Requirement already satisfied: chardet<3.1.0,>=3.0.2 in /Users/ashish.srinivasa/.sipcli_env/lib/python3.7/site-packages (from requests==2.22.0->ml4ir) (3.0.4)\n",
      "Requirement already satisfied: idna<2.9,>=2.5 in /Users/ashish.srinivasa/.sipcli_env/lib/python3.7/site-packages (from requests==2.22.0->ml4ir) (2.8)\n",
      "Requirement already satisfied: imageio>=2.3.0 in /Users/ashish.srinivasa/.sipcli_env/lib/python3.7/site-packages (from scikit-image==0.16.2->ml4ir) (2.8.0)\n",
      "Requirement already satisfied: pillow>=4.3.0 in /Users/ashish.srinivasa/.sipcli_env/lib/python3.7/site-packages (from scikit-image==0.16.2->ml4ir) (7.1.2)\n",
      "Requirement already satisfied: networkx>=2.0 in /Users/ashish.srinivasa/.sipcli_env/lib/python3.7/site-packages (from scikit-image==0.16.2->ml4ir) (2.4)\n",
      "Requirement already satisfied: PyWavelets>=0.4.0 in /Users/ashish.srinivasa/.sipcli_env/lib/python3.7/site-packages (from scikit-image==0.16.2->ml4ir) (1.1.1)\n",
      "Requirement already satisfied: numba in /Users/ashish.srinivasa/.sipcli_env/lib/python3.7/site-packages (from swifter==0.296->ml4ir) (0.50.0)\n",
      "Requirement already satisfied: tqdm>=4.33.0 in /Users/ashish.srinivasa/.sipcli_env/lib/python3.7/site-packages (from swifter==0.296->ml4ir) (4.46.1)\n",
      "Requirement already satisfied: absl-py>=0.4 in /Users/ashish.srinivasa/.sipcli_env/lib/python3.7/site-packages (from tensorboard==2.0.1->ml4ir) (0.9.0)\n",
      "Requirement already satisfied: wheel>=0.26; python_version >= \"3\" in /Users/ashish.srinivasa/.sipcli_env/lib/python3.7/site-packages (from tensorboard==2.0.1->ml4ir) (0.34.2)\n",
      "Requirement already satisfied: google-auth-oauthlib<0.5,>=0.4.1 in /Users/ashish.srinivasa/.sipcli_env/lib/python3.7/site-packages (from tensorboard==2.0.1->ml4ir) (0.4.1)\n",
      "Requirement already satisfied: google-auth<2,>=1.6.3 in /Users/ashish.srinivasa/.sipcli_env/lib/python3.7/site-packages (from tensorboard==2.0.1->ml4ir) (1.18.0)\n",
      "Requirement already satisfied: grpcio>=1.24.3 in /Users/ashish.srinivasa/.sipcli_env/lib/python3.7/site-packages (from tensorboard==2.0.1->ml4ir) (1.26.0)\n",
      "Requirement already satisfied: werkzeug>=0.11.15 in /Users/ashish.srinivasa/.sipcli_env/lib/python3.7/site-packages (from tensorboard==2.0.1->ml4ir) (1.0.1)\n",
      "Requirement already satisfied: google-pasta>=0.1.6 in /Users/ashish.srinivasa/.sipcli_env/lib/python3.7/site-packages (from tensorflow==2.0.1->ml4ir) (0.2.0)\n",
      "Requirement already satisfied: opt-einsum>=2.3.2 in /Users/ashish.srinivasa/.sipcli_env/lib/python3.7/site-packages (from tensorflow==2.0.1->ml4ir) (3.2.1)\n",
      "Requirement already satisfied: wrapt>=1.11.1 in /Users/ashish.srinivasa/.sipcli_env/lib/python3.7/site-packages (from tensorflow==2.0.1->ml4ir) (1.12.1)\n",
      "Requirement already satisfied: astor>=0.6.0 in /Users/ashish.srinivasa/.sipcli_env/lib/python3.7/site-packages (from tensorflow==2.0.1->ml4ir) (0.8.1)\n",
      "Requirement already satisfied: termcolor>=1.1.0 in /Users/ashish.srinivasa/.sipcli_env/lib/python3.7/site-packages (from tensorflow==2.0.1->ml4ir) (1.1.0)\n",
      "Requirement already satisfied: gast==0.2.2 in /Users/ashish.srinivasa/.sipcli_env/lib/python3.7/site-packages (from tensorflow==2.0.1->ml4ir) (0.2.2)\n",
      "Requirement already satisfied: googleapis-common-protos in /Users/ashish.srinivasa/.sipcli_env/lib/python3.7/site-packages (from tensorflow-metadata==0.15.1->ml4ir) (1.52.0)\n",
      "Requirement already satisfied: pydot<2,>=1.2 in /Users/ashish.srinivasa/.sipcli_env/lib/python3.7/site-packages (from tensorflow-transform==0.15.0->ml4ir) (1.4.1)\n",
      "Requirement already satisfied: tfx-bsl<0.16,>=0.15 in /Users/ashish.srinivasa/.sipcli_env/lib/python3.7/site-packages (from tensorflow-transform==0.15.0->ml4ir) (0.15.3)\n",
      "Requirement already satisfied: apache-beam[gcp]<3,>=2.16 in /Users/ashish.srinivasa/.sipcli_env/lib/python3.7/site-packages (from tensorflow-transform==0.15.0->ml4ir) (2.22.0)\n",
      "Requirement already satisfied: watchdog>=0.8.3 in /Users/ashish.srinivasa/.sipcli_env/lib/python3.7/site-packages (from wandb==0.8.36->ml4ir) (0.10.2)\n",
      "Requirement already satisfied: docker-pycreds>=0.4.0 in /Users/ashish.srinivasa/.sipcli_env/lib/python3.7/site-packages (from wandb==0.8.36->ml4ir) (0.4.0)\n",
      "Requirement already satisfied: sentry-sdk>=0.4.0 in /Users/ashish.srinivasa/.sipcli_env/lib/python3.7/site-packages (from wandb==0.8.36->ml4ir) (0.15.1)\n",
      "Requirement already satisfied: configparser>=3.8.1 in /Users/ashish.srinivasa/.sipcli_env/lib/python3.7/site-packages (from wandb==0.8.36->ml4ir) (5.0.0)\n",
      "Requirement already satisfied: gql==0.2.0 in /Users/ashish.srinivasa/.sipcli_env/lib/python3.7/site-packages (from wandb==0.8.36->ml4ir) (0.2.0)\n",
      "Requirement already satisfied: GitPython>=1.0.0 in /Users/ashish.srinivasa/.sipcli_env/lib/python3.7/site-packages (from wandb==0.8.36->ml4ir) (3.1.3)\n",
      "Requirement already satisfied: nvidia-ml-py3>=7.352.0 in /Users/ashish.srinivasa/.sipcli_env/lib/python3.7/site-packages (from wandb==0.8.36->ml4ir) (7.352.0)\n",
      "Requirement already satisfied: subprocess32>=3.5.3 in /Users/ashish.srinivasa/.sipcli_env/lib/python3.7/site-packages (from wandb==0.8.36->ml4ir) (3.5.4)\n",
      "Requirement already satisfied: shortuuid>=0.5.0 in /Users/ashish.srinivasa/.sipcli_env/lib/python3.7/site-packages (from wandb==0.8.36->ml4ir) (1.0.1)\n",
      "Requirement already satisfied: jmespath<1.0.0,>=0.7.1 in /Users/ashish.srinivasa/.sipcli_env/lib/python3.7/site-packages (from botocore==1.17.6->awscli->ml4ir) (0.10.0)\n",
      "Requirement already satisfied: zipp>=0.5 in /Users/ashish.srinivasa/.sipcli_env/lib/python3.7/site-packages (from importlib-metadata; python_version < \"3.8\"->flake8->ml4ir) (3.1.0)\n",
      "Requirement already satisfied: regex in /Users/ashish.srinivasa/.sipcli_env/lib/python3.7/site-packages (from black->flake8-black->ml4ir) (2020.6.8)\n",
      "Requirement already satisfied: appdirs in /Users/ashish.srinivasa/.sipcli_env/lib/python3.7/site-packages (from black->flake8-black->ml4ir) (1.4.4)\n",
      "Requirement already satisfied: pathspec<1,>=0.6 in /Users/ashish.srinivasa/.sipcli_env/lib/python3.7/site-packages (from black->flake8-black->ml4ir) (0.8.0)\n",
      "Requirement already satisfied: distlib<1,>=0.3.0 in /Users/ashish.srinivasa/.sipcli_env/lib/python3.7/site-packages (from virtualenv>=20.0.8->pre-commit->ml4ir) (0.3.0)\n",
      "Requirement already satisfied: filelock<4,>=3.0.0 in /Users/ashish.srinivasa/.sipcli_env/lib/python3.7/site-packages (from virtualenv>=20.0.8->pre-commit->ml4ir) (3.0.12)\n",
      "Requirement already satisfied: heapdict in /Users/ashish.srinivasa/.sipcli_env/lib/python3.7/site-packages (from zict>=0.1.3->distributed==2.8.1->ml4ir) (1.0.1)\n",
      "Requirement already satisfied: webencodings in /Users/ashish.srinivasa/.sipcli_env/lib/python3.7/site-packages (from bleach->nbconvert==5.6.1->ml4ir) (0.5.1)\n",
      "Requirement already satisfied: llvmlite<0.34,>=0.33.0.dev0 in /Users/ashish.srinivasa/.sipcli_env/lib/python3.7/site-packages (from numba->swifter==0.296->ml4ir) (0.33.0)\n",
      "Requirement already satisfied: cachetools<5.0,>=2.0.0 in /Users/ashish.srinivasa/.sipcli_env/lib/python3.7/site-packages (from google-auth<2,>=1.6.3->tensorboard==2.0.1->ml4ir) (4.1.0)\n"
     ]
    },
    {
     "name": "stdout",
     "output_type": "stream",
     "text": [
      "Collecting pyarrow<0.15.0,>=0.14.0\n",
      "  Using cached pyarrow-0.14.1-cp37-cp37m-macosx_10_6_intel.whl (34.4 MB)\n",
      "Requirement already satisfied: crcmod<2.0,>=1.7 in /Users/ashish.srinivasa/.sipcli_env/lib/python3.7/site-packages (from apache-beam[gcp]<3,>=2.16->tensorflow-transform==0.15.0->ml4ir) (1.7)\n",
      "Requirement already satisfied: mock<3.0.0,>=1.0.1 in /Users/ashish.srinivasa/.sipcli_env/lib/python3.7/site-packages (from apache-beam[gcp]<3,>=2.16->tensorflow-transform==0.15.0->ml4ir) (2.0.0)\n",
      "Requirement already satisfied: fastavro<0.24,>=0.21.4 in /Users/ashish.srinivasa/.sipcli_env/lib/python3.7/site-packages (from apache-beam[gcp]<3,>=2.16->tensorflow-transform==0.15.0->ml4ir) (0.23.4)\n",
      "Requirement already satisfied: avro-python3!=1.9.2,<1.10.0,>=1.8.1; python_version >= \"3.0\" in /Users/ashish.srinivasa/.sipcli_env/lib/python3.7/site-packages (from apache-beam[gcp]<3,>=2.16->tensorflow-transform==0.15.0->ml4ir) (1.9.2.1)\n",
      "Requirement already satisfied: pymongo<4.0.0,>=3.8.0 in /Users/ashish.srinivasa/.sipcli_env/lib/python3.7/site-packages (from apache-beam[gcp]<3,>=2.16->tensorflow-transform==0.15.0->ml4ir) (3.10.1)\n",
      "Requirement already satisfied: google-apitools<0.5.32,>=0.5.31; extra == \"gcp\" in /Users/ashish.srinivasa/.sipcli_env/lib/python3.7/site-packages (from apache-beam[gcp]<3,>=2.16->tensorflow-transform==0.15.0->ml4ir) (0.5.31)\n",
      "Requirement already satisfied: google-cloud-bigquery<=1.24.0,>=1.6.0; extra == \"gcp\" in /Users/ashish.srinivasa/.sipcli_env/lib/python3.7/site-packages (from apache-beam[gcp]<3,>=2.16->tensorflow-transform==0.15.0->ml4ir) (1.24.0)\n",
      "Requirement already satisfied: google-cloud-language<2,>=1.3.0; extra == \"gcp\" in /Users/ashish.srinivasa/.sipcli_env/lib/python3.7/site-packages (from apache-beam[gcp]<3,>=2.16->tensorflow-transform==0.15.0->ml4ir) (1.3.0)\n",
      "Requirement already satisfied: google-cloud-datastore<1.8.0,>=1.7.1; extra == \"gcp\" in /Users/ashish.srinivasa/.sipcli_env/lib/python3.7/site-packages (from apache-beam[gcp]<3,>=2.16->tensorflow-transform==0.15.0->ml4ir) (1.7.4)\n",
      "Requirement already satisfied: google-cloud-bigtable<1.1.0,>=0.31.1; extra == \"gcp\" in /Users/ashish.srinivasa/.sipcli_env/lib/python3.7/site-packages (from apache-beam[gcp]<3,>=2.16->tensorflow-transform==0.15.0->ml4ir) (1.0.0)\n",
      "Requirement already satisfied: grpcio-gcp<1,>=0.2.2; extra == \"gcp\" in /Users/ashish.srinivasa/.sipcli_env/lib/python3.7/site-packages (from apache-beam[gcp]<3,>=2.16->tensorflow-transform==0.15.0->ml4ir) (0.2.2)\n",
      "Requirement already satisfied: google-cloud-dlp<=0.13.0,>=0.12.0; extra == \"gcp\" in /Users/ashish.srinivasa/.sipcli_env/lib/python3.7/site-packages (from apache-beam[gcp]<3,>=2.16->tensorflow-transform==0.15.0->ml4ir) (0.13.0)\n",
      "Requirement already satisfied: google-cloud-videointelligence<1.14.0,>=1.8.0; extra == \"gcp\" in /Users/ashish.srinivasa/.sipcli_env/lib/python3.7/site-packages (from apache-beam[gcp]<3,>=2.16->tensorflow-transform==0.15.0->ml4ir) (1.13.0)\n",
      "Requirement already satisfied: google-cloud-spanner<1.14.0,>=1.13.0; extra == \"gcp\" in /Users/ashish.srinivasa/.sipcli_env/lib/python3.7/site-packages (from apache-beam[gcp]<3,>=2.16->tensorflow-transform==0.15.0->ml4ir) (1.13.0)\n",
      "Requirement already satisfied: google-cloud-core<2,>=0.28.1; extra == \"gcp\" in /Users/ashish.srinivasa/.sipcli_env/lib/python3.7/site-packages (from apache-beam[gcp]<3,>=2.16->tensorflow-transform==0.15.0->ml4ir) (1.3.0)\n",
      "Requirement already satisfied: google-cloud-pubsub<1.1.0,>=0.39.0; extra == \"gcp\" in /Users/ashish.srinivasa/.sipcli_env/lib/python3.7/site-packages (from apache-beam[gcp]<3,>=2.16->tensorflow-transform==0.15.0->ml4ir) (1.0.2)\n",
      "Requirement already satisfied: google-cloud-vision<0.43.0,>=0.38.0; extra == \"gcp\" in /Users/ashish.srinivasa/.sipcli_env/lib/python3.7/site-packages (from apache-beam[gcp]<3,>=2.16->tensorflow-transform==0.15.0->ml4ir) (0.42.0)\n",
      "Requirement already satisfied: pathtools>=0.1.1 in /Users/ashish.srinivasa/.sipcli_env/lib/python3.7/site-packages (from watchdog>=0.8.3->wandb==0.8.36->ml4ir) (0.1.2)\n",
      "Requirement already satisfied: graphql-core<2,>=0.5.0 in /Users/ashish.srinivasa/.sipcli_env/lib/python3.7/site-packages (from gql==0.2.0->wandb==0.8.36->ml4ir) (1.1)\n",
      "Requirement already satisfied: promise<3,>=2.0 in /Users/ashish.srinivasa/.sipcli_env/lib/python3.7/site-packages (from gql==0.2.0->wandb==0.8.36->ml4ir) (2.3)\n",
      "Requirement already satisfied: gitdb<5,>=4.0.1 in /Users/ashish.srinivasa/.sipcli_env/lib/python3.7/site-packages (from GitPython>=1.0.0->wandb==0.8.36->ml4ir) (4.0.5)\n",
      "Requirement already satisfied: pbr>=0.11 in /Users/ashish.srinivasa/.sipcli_env/lib/python3.7/site-packages (from mock<3.0.0,>=1.0.1->apache-beam[gcp]<3,>=2.16->tensorflow-transform==0.15.0->ml4ir) (5.4.5)\n",
      "Requirement already satisfied: fasteners>=0.14 in /Users/ashish.srinivasa/.sipcli_env/lib/python3.7/site-packages (from google-apitools<0.5.32,>=0.5.31; extra == \"gcp\"->apache-beam[gcp]<3,>=2.16->tensorflow-transform==0.15.0->ml4ir) (0.15)\n",
      "Requirement already satisfied: google-api-core<2.0dev,>=1.15.0 in /Users/ashish.srinivasa/.sipcli_env/lib/python3.7/site-packages (from google-cloud-bigquery<=1.24.0,>=1.6.0; extra == \"gcp\"->apache-beam[gcp]<3,>=2.16->tensorflow-transform==0.15.0->ml4ir) (1.20.1)\n",
      "Requirement already satisfied: google-resumable-media<0.6dev,>=0.5.0 in /Users/ashish.srinivasa/.sipcli_env/lib/python3.7/site-packages (from google-cloud-bigquery<=1.24.0,>=1.6.0; extra == \"gcp\"->apache-beam[gcp]<3,>=2.16->tensorflow-transform==0.15.0->ml4ir) (0.5.1)\n",
      "Requirement already satisfied: grpc-google-iam-v1<0.13dev,>=0.12.3 in /Users/ashish.srinivasa/.sipcli_env/lib/python3.7/site-packages (from google-cloud-bigtable<1.1.0,>=0.31.1; extra == \"gcp\"->apache-beam[gcp]<3,>=2.16->tensorflow-transform==0.15.0->ml4ir) (0.12.3)\n",
      "Requirement already satisfied: smmap<4,>=3.0.1 in /Users/ashish.srinivasa/.sipcli_env/lib/python3.7/site-packages (from gitdb<5,>=4.0.1->GitPython>=1.0.0->wandb==0.8.36->ml4ir) (3.0.4)\n",
      "Requirement already satisfied: monotonic>=0.1 in /Users/ashish.srinivasa/.sipcli_env/lib/python3.7/site-packages (from fasteners>=0.14->google-apitools<0.5.32,>=0.5.31; extra == \"gcp\"->apache-beam[gcp]<3,>=2.16->tensorflow-transform==0.15.0->ml4ir) (1.5)\n",
      "\u001b[31mERROR: tfx-bsl 0.15.3 has requirement absl-py<0.9,>=0.7, but you'll have absl-py 0.9.0 which is incompatible.\u001b[0m\n",
      "\u001b[31mERROR: tfx-bsl 0.15.3 has requirement apache-beam[gcp]<2.17,>=2.16, but you'll have apache-beam 2.22.0 which is incompatible.\u001b[0m\n",
      "\u001b[31mERROR: tensorflow-transform 0.15.0 has requirement absl-py<0.9,>=0.7, but you'll have absl-py 0.9.0 which is incompatible.\u001b[0m\n",
      "\u001b[31mERROR: apache-beam 2.22.0 has requirement dill<0.3.2,>=0.3.1.1, but you'll have dill 0.3.0 which is incompatible.\u001b[0m\n",
      "\u001b[31mERROR: apache-beam 2.22.0 has requirement httplib2<0.18.0,>=0.8, but you'll have httplib2 0.18.1 which is incompatible.\u001b[0m\n",
      "\u001b[31mERROR: apache-beam 2.22.0 has requirement pyarrow<0.18.0,>=0.15.1; python_version >= \"3.0\" or platform_system != \"Windows\", but you'll have pyarrow 0.14.1 which is incompatible.\u001b[0m\n",
      "Installing collected packages: pyarrow\n",
      "  Attempting uninstall: pyarrow\n",
      "    Found existing installation: pyarrow 0.17.1\n",
      "    Uninstalling pyarrow-0.17.1:\n",
      "      Successfully uninstalled pyarrow-0.17.1\n",
      "Successfully installed pyarrow-0.14.1\n",
      "\u001b[33mWARNING: You are using pip version 20.1.1; however, version 20.2.2 is available.\n",
      "You should consider upgrading via the '/Users/ashish.srinivasa/.sipcli_env/bin/python3.7 -m pip install --upgrade pip' command.\u001b[0m\n"
     ]
    }
   ],
   "source": [
    "!pip install ml4ir"
   ]
  },
  {
   "cell_type": "markdown",
   "metadata": {},
   "source": [
    "### Load/Define a FeatureConfig"
   ]
  },
  {
   "cell_type": "code",
   "execution_count": 1,
   "metadata": {},
   "outputs": [],
   "source": [
    "FEATURE_CONFIG_PATH = \"configs/activate_2020/feature_config.yaml\"\n",
    "MODEL_CONFIG_PATH = \"configs/activate_2020/model_config.yaml\"\n",
    "DATA_DIR = \"../ml4ir/applications/ranking/tests/data/tfrecord\"\n",
    "MODELS_DIR = '../models/activate_2020'\n",
    "LOGS_DIR = '../logs/activate_2020'\n",
    "MAX_SEQUENCE_SIZE = 25\n",
    "\n",
    "%load_ext tensorboard"
   ]
  },
  {
   "cell_type": "code",
   "execution_count": 4,
   "metadata": {
    "scrolled": false
   },
   "outputs": [
    {
     "name": "stdout",
     "output_type": "stream",
     "text": [
      "Training features\n",
      "-----------------\n",
      "text_match_score\n",
      "page_views_score\n",
      "quality_score\n",
      "query_text\n",
      "domain_id\n",
      "domain_name\n"
     ]
    }
   ],
   "source": [
    "import logging\n",
    "import tensorflow as tf\n",
    "\n",
    "logger = logging.getLogger()\n",
    "# logger.setLevel(logging.DEBUG)\n",
    "# tf.get_logger().setLevel('INFO')\n",
    "# logging.debug(\"Logger is initialized...\")\n",
    "\n",
    "from ml4ir.base.io.local_io import LocalIO\n",
    "from ml4ir.base.io.file_io import FileIO\n",
    "file_io: FileIO = LocalIO()\n",
    "file_io.make_directory(LOGS_DIR, clear_dir=True)\n",
    "file_io.make_directory(MODELS_DIR, clear_dir=True)\n",
    "\n",
    "from ml4ir.base.features.feature_config import FeatureConfig, SequenceExampleFeatureConfig\n",
    "from ml4ir.base.config.keys import TFRecordTypeKey\n",
    "\n",
    "\n",
    "feature_config: SequenceExampleFeatureConfig = FeatureConfig.get_instance(\n",
    "    tfrecord_type=TFRecordTypeKey.SEQUENCE_EXAMPLE,\n",
    "    feature_config_dict=file_io.read_yaml(FEATURE_CONFIG_PATH),\n",
    "    logger=logger)\n",
    "print(\"Training features\\n-----------------\")\n",
    "print(\"\\n\".join(feature_config.get_train_features(key=\"name\")))"
   ]
  },
  {
   "cell_type": "markdown",
   "metadata": {},
   "source": [
    "### Create a RelevanceDataset from TFRecords"
   ]
  },
  {
   "cell_type": "code",
   "execution_count": 5,
   "metadata": {
    "scrolled": false
   },
   "outputs": [],
   "source": [
    "from ml4ir.base.data.relevance_dataset import RelevanceDataset\n",
    "from ml4ir.base.config.keys import DataFormatKey\n",
    "from ml4ir.base.config.keys import TFRecordTypeKey\n",
    "\n",
    "ranking_dataset = RelevanceDataset(data_dir=DATA_DIR,\n",
    "                                   data_format=DataFormatKey.TFRECORD,\n",
    "                                   feature_config=feature_config,\n",
    "                                   tfrecord_type=TFRecordTypeKey.SEQUENCE_EXAMPLE,\n",
    "                                   max_sequence_size=MAX_SEQUENCE_SIZE,\n",
    "                                   batch_size=128,\n",
    "                                   preprocessing_keys_to_fns={},\n",
    "                                   file_io=file_io,\n",
    "                                   logger=logger)"
   ]
  },
  {
   "cell_type": "markdown",
   "metadata": {},
   "source": [
    "### Define an InteractionModel"
   ]
  },
  {
   "cell_type": "code",
   "execution_count": 6,
   "metadata": {},
   "outputs": [],
   "source": [
    "from ml4ir.base.model.scoring.interaction_model import InteractionModel, UnivariateInteractionModel\n",
    "\n",
    "# Define interaction model\n",
    "interaction_model: InteractionModel = UnivariateInteractionModel(\n",
    "                                            feature_config=feature_config,\n",
    "                                            tfrecord_type=TFRecordTypeKey.SEQUENCE_EXAMPLE,\n",
    "                                            max_sequence_size=MAX_SEQUENCE_SIZE,\n",
    "                                            file_io=file_io,\n",
    "                                        )"
   ]
  },
  {
   "cell_type": "markdown",
   "metadata": {},
   "source": [
    "###  ... now with custom feature transforms"
   ]
  },
  {
   "cell_type": "code",
   "execution_count": 7,
   "metadata": {},
   "outputs": [],
   "source": [
    "from tensorflow.keras import layers\n",
    "from tensorflow import io\n",
    "\n",
    "# Define custom feature transforms\n",
    "def bytes_sequence_encoding_bigru(feature_tensor, feature_info, file_io: FileIO):\n",
    "    args = feature_info[\"feature_layer_info\"][\"args\"]\n",
    "\n",
    "    # Decode string tensor to bytes\n",
    "    feature_tensor = io.decode_raw(\n",
    "        feature_tensor,\n",
    "        out_type=tf.uint8,\n",
    "        fixed_length=args.get(\"max_length\", None),\n",
    "    )\n",
    "\n",
    "    feature_tensor = tf.squeeze(feature_tensor, axis=1)\n",
    "    if \"embedding_size\" in args:\n",
    "        char_embedding = layers.Embedding(\n",
    "            name=\"{}_bytes_embedding\".format(feature_info.get(\"node_name\", feature_info.get(\"name\"))),\n",
    "            input_dim=256, # bytes vocabulary size is fixed at 256\n",
    "            output_dim=args[\"embedding_size\"],\n",
    "            mask_zero=True,\n",
    "            input_length=args.get(\"max_length\", None),\n",
    "        )(feature_tensor)\n",
    "    else:\n",
    "        char_embedding = tf.one_hot(feature_tensor, depth=256)\n",
    "\n",
    "    #############################################################################\n",
    "    # Compute sequence encoding using GRU\n",
    "    encoding = layers.Bidirectional(\n",
    "        layers.GRU(units=int(args[\"encoding_size\"] / 2), return_sequences=False),\n",
    "        merge_mode=\"concat\",\n",
    "    )(char_embedding)\n",
    "    #############################################################################\n",
    "    \n",
    "    encoding = tf.expand_dims(encoding, axis=1)\n",
    "    return encoding\n",
    "\n",
    "feature_layer_keys_to_fns = {\n",
    "    \"bytes_sequence_encoding_bigru\" : bytes_sequence_encoding_bigru\n",
    "}\n",
    "\n",
    "# Define interaction model\n",
    "interaction_model: InteractionModel = UnivariateInteractionModel(\n",
    "                                            feature_config=feature_config,\n",
    "                                            feature_layer_keys_to_fns=feature_layer_keys_to_fns,\n",
    "                                            tfrecord_type=TFRecordTypeKey.SEQUENCE_EXAMPLE,\n",
    "                                            max_sequence_size=MAX_SEQUENCE_SIZE,\n",
    "                                            file_io=file_io,\n",
    "                                        )"
   ]
  },
  {
   "cell_type": "markdown",
   "metadata": {},
   "source": [
    "### Use predefined losses, metrics and optimizers or create your own!"
   ]
  },
  {
   "cell_type": "code",
   "execution_count": 8,
   "metadata": {},
   "outputs": [],
   "source": [
    "from ml4ir.applications.ranking.model.losses import loss_factory\n",
    "from ml4ir.applications.ranking.model.metrics import metric_factory\n",
    "from ml4ir.base.model.losses.loss_base import RelevanceLossBase\n",
    "from ml4ir.base.model.optimizer import get_optimizer\n",
    "\n",
    "from ml4ir.applications.ranking.config.keys import LossKey, MetricKey, ScoringTypeKey\n",
    "from ml4ir.base.config.keys import OptimizerKey\n",
    "\n",
    "from tensorflow.keras.metrics import Metric\n",
    "from tensorflow.keras.optimizers import Optimizer\n",
    "from typing import List, Union, Type\n",
    "\n",
    "\n",
    "# Define loss object from loss key\n",
    "loss: RelevanceLossBase = loss_factory.get_loss(\n",
    "                                loss_key=LossKey.RANK_ONE_LISTNET,\n",
    "                                scoring_type=ScoringTypeKey.POINTWISE)\n",
    "    \n",
    "# Define metrics objects from metrics keys\n",
    "metrics: List[Union[Type[Metric], str]] = [metric_factory.get_metric(metric_key=\"MRR\")]\n",
    "    \n",
    "# Define optimizer\n",
    "optimizer: Optimizer = get_optimizer(\n",
    "                            optimizer_key=OptimizerKey.ADAM,\n",
    "                            learning_rate=0.001\n",
    "                        )"
   ]
  },
  {
   "cell_type": "markdown",
   "metadata": {},
   "source": [
    "### Define a scoring function, or the Scorer"
   ]
  },
  {
   "cell_type": "code",
   "execution_count": 9,
   "metadata": {},
   "outputs": [
    {
     "name": "stdout",
     "output_type": "stream",
     "text": [
      "architecture_key: dnn\n",
      "layers:\n",
      "  - type: dense\n",
      "    name: first_dense\n",
      "    units: 256\n",
      "    activation: relu\n",
      "  - type: dropout\n",
      "    name: first_dropout\n",
      "    rate: 0.3\n",
      "  - type: dense\n",
      "    name: second_dense\n",
      "    units: 64\n",
      "    activation: relu\n",
      "  - type: dense\n",
      "    name: final_dense\n",
      "    units: 1\n",
      "    activation: null\n",
      "\n"
     ]
    }
   ],
   "source": [
    "from ml4ir.base.model.scoring.scoring_model import RelevanceScorer\n",
    "\n",
    "# Define scorer\n",
    "print(open(MODEL_CONFIG_PATH).read())\n",
    "scorer: RelevanceScorer = RelevanceScorer.from_model_config_file(\n",
    "    model_config_file=MODEL_CONFIG_PATH,\n",
    "    interaction_model=interaction_model,\n",
    "    loss=loss,\n",
    "    logger=logger,\n",
    "    file_io=file_io,\n",
    ")"
   ]
  },
  {
   "cell_type": "markdown",
   "metadata": {},
   "source": [
    "### Combine it all to create a RankingModel"
   ]
  },
  {
   "cell_type": "code",
   "execution_count": 10,
   "metadata": {
    "scrolled": false
   },
   "outputs": [],
   "source": [
    "from ml4ir.applications.ranking.model.ranking_model import RankingModel\n",
    "from ml4ir.base.model.relevance_model import RelevanceModel\n",
    "\n",
    "\n",
    "# Combine the above to define a RelevanceModel\n",
    "ranking_model: RelevanceModel = RankingModel(\n",
    "                                    feature_config=feature_config,\n",
    "                                    tfrecord_type=TFRecordTypeKey.SEQUENCE_EXAMPLE,\n",
    "                                    scorer=scorer,\n",
    "                                    metrics=metrics,\n",
    "                                    optimizer=optimizer,\n",
    "                                    file_io=file_io,\n",
    "                                    logger=logger,\n",
    "                                )"
   ]
  },
  {
   "cell_type": "markdown",
   "metadata": {},
   "source": [
    "### Finally, time to train the model"
   ]
  },
  {
   "cell_type": "code",
   "execution_count": 11,
   "metadata": {},
   "outputs": [
    {
     "name": "stdout",
     "output_type": "stream",
     "text": [
      "Epoch 1/3\n",
      "      1/Unknown - 7s 7s/step - loss: 2.0641 - old_MRR: 0.8085 - new_MRR: 0.5922WARNING:tensorflow:Method (on_train_batch_end) is slow compared to the batch update (0.208576). Check your callbacks.\n",
      "     11/Unknown - 9s 816ms/step - loss: 1.9723 - old_MRR: 0.7875 - new_MRR: 0.6603\n",
      "Epoch 00001: val_new_MRR improved from -inf to 0.70766, saving model to ../models/activate_2020/checkpoint.tf\n",
      "WARNING:tensorflow:From /Users/ashish.srinivasa/.sipcli_env/lib/python3.7/site-packages/tensorflow_core/python/ops/resource_variable_ops.py:1781: calling BaseResourceVariable.__init__ (from tensorflow.python.ops.resource_variable_ops) with constraint is deprecated and will be removed in a future version.\n",
      "Instructions for updating:\n",
      "If using Keras pass *_constraint arguments to layers.\n",
      "INFO:tensorflow:Assets written to: ../models/activate_2020/checkpoint.tf/assets\n",
      "11/11 [==============================] - 41s 4s/step - loss: 1.9723 - old_MRR: 0.7875 - new_MRR: 0.6603 - val_loss: 0.0000e+00 - val_old_MRR: 0.0000e+00 - val_new_MRR: 0.0000e+00\n",
      "Epoch 2/3\n",
      "10/11 [==========================>...] - ETA: 0s - loss: 1.9232 - old_MRR: 0.7829 - new_MRR: 0.6735\n",
      "Epoch 00002: val_new_MRR did not improve from 0.70766\n",
      "11/11 [==============================] - 3s 308ms/step - loss: 1.9155 - old_MRR: 0.7875 - new_MRR: 0.6776 - val_loss: 1.9156 - val_old_MRR: 0.7828 - val_new_MRR: 0.7065\n",
      "Epoch 3/3\n",
      "10/11 [==========================>...] - ETA: 0s - loss: 1.8656 - old_MRR: 0.7829 - new_MRR: 0.6947\n",
      "Epoch 00003: val_new_MRR did not improve from 0.70766\n",
      "Restoring model weights from the end of the best epoch.\n",
      "11/11 [==============================] - 4s 328ms/step - loss: 1.8580 - old_MRR: 0.7875 - new_MRR: 0.6938 - val_loss: 1.8615 - val_old_MRR: 0.7828 - val_new_MRR: 0.7075\n",
      "Epoch 00003: early stopping\n"
     ]
    }
   ],
   "source": [
    "ranking_model.fit(dataset=ranking_dataset,\n",
    "                  num_epochs=3, \n",
    "                  models_dir=MODELS_DIR,\n",
    "                  logs_dir=LOGS_DIR,\n",
    "                  monitor_metric=\"new_MRR\",\n",
    "                  monitor_mode=\"max\")"
   ]
  },
  {
   "cell_type": "code",
   "execution_count": 12,
   "metadata": {},
   "outputs": [
    {
     "data": {
      "text/plain": [
       "Reusing TensorBoard on port 6006 (pid 43897), started 0:03:31 ago. (Use '!kill 43897' to kill it.)"
      ]
     },
     "metadata": {},
     "output_type": "display_data"
    },
    {
     "data": {
      "text/html": [
       "\n",
       "      <iframe id=\"tensorboard-frame-590190728def41c2\" width=\"100%\" height=\"800\" frameborder=\"0\">\n",
       "      </iframe>\n",
       "      <script>\n",
       "        (function() {\n",
       "          const frame = document.getElementById(\"tensorboard-frame-590190728def41c2\");\n",
       "          const url = new URL(\"/\", window.location);\n",
       "          url.port = 6006;\n",
       "          frame.src = url;\n",
       "        })();\n",
       "      </script>\n",
       "  "
      ],
      "text/plain": [
       "<IPython.core.display.HTML object>"
      ]
     },
     "metadata": {},
     "output_type": "display_data"
    }
   ],
   "source": [
    "%tensorboard --logdir ../logs/activate_2020 --host localhost"
   ]
  },
  {
   "cell_type": "markdown",
   "metadata": {},
   "source": [
    "### Let's try some Transfer Learning\n",
    "##### Using bytes embeddings from a query classification model"
   ]
  },
  {
   "cell_type": "code",
   "execution_count": 13,
   "metadata": {},
   "outputs": [
    {
     "data": {
      "text/plain": [
       "[array([[ 0.0343091 , -0.01302702,  0.04351665, ...,  0.00049679,\n",
       "          0.00265286, -0.02234181],\n",
       "        [ 0.00524911,  0.04285176,  0.01042024, ..., -0.02495209,\n",
       "          0.04603917,  0.00322132],\n",
       "        [ 0.0233542 , -0.03867441,  0.04775677, ..., -0.0047126 ,\n",
       "         -0.03055434,  0.00582387],\n",
       "        ...,\n",
       "        [-0.00038807, -0.04099176, -0.0269978 , ...,  0.0316273 ,\n",
       "          0.02206803,  0.00144542],\n",
       "        [ 0.01976344, -0.02634192,  0.01420883, ...,  0.0106725 ,\n",
       "         -0.04455068,  0.02625582],\n",
       "        [ 0.00829865,  0.00498176,  0.0074448 , ..., -0.04165881,\n",
       "         -0.00186209, -0.02414169]], dtype=float32)]"
      ]
     },
     "execution_count": 13,
     "metadata": {},
     "output_type": "execute_result"
    }
   ],
   "source": [
    "ranking_model.model.get_layer(\"query_text_bytes_embedding\").get_weights()"
   ]
  },
  {
   "cell_type": "code",
   "execution_count": 14,
   "metadata": {
    "scrolled": false
   },
   "outputs": [],
   "source": [
    "initialize_layers_dict = {\n",
    "    \"query_text_bytes_embedding\" : \"../models/test_wandb2/final/layers/query_text_bytes_embedding.npy\"\n",
    "}\n",
    "freeze_layers_list = [\"query_text_bytes_embedding\"]\n",
    "ranking_model: RelevanceModel = RankingModel(\n",
    "                                    feature_config=feature_config,\n",
    "                                    tfrecord_type=TFRecordTypeKey.SEQUENCE_EXAMPLE,\n",
    "                                    scorer=scorer,\n",
    "                                    metrics=metrics,\n",
    "                                    optimizer=optimizer,\n",
    "                                    initialize_layers_dict=initialize_layers_dict,\n",
    "                                    freeze_layers_list=freeze_layers_list,\n",
    "                                    file_io=file_io,\n",
    "                                    logger=logger,\n",
    "                                )"
   ]
  },
  {
   "cell_type": "code",
   "execution_count": 15,
   "metadata": {},
   "outputs": [
    {
     "data": {
      "text/plain": [
       "[array([[-0.03738469,  0.00727513, -0.02006867, ...,  0.01078511,\n",
       "         -0.028496  , -0.04102874],\n",
       "        [ 0.00512887,  0.0062821 , -0.0010671 , ...,  0.04945388,\n",
       "         -0.0132054 , -0.01177131],\n",
       "        [-0.00937623, -0.03438247,  0.00176773, ...,  0.046078  ,\n",
       "         -0.0310035 , -0.04288797],\n",
       "        ...,\n",
       "        [-0.04410168,  0.0383402 ,  0.03348425, ...,  0.02123589,\n",
       "          0.02240864, -0.04049417],\n",
       "        [ 0.03601265,  0.04585798,  0.00272902, ..., -0.00353998,\n",
       "         -0.04783431,  0.02852656],\n",
       "        [ 0.04903785, -0.03518286,  0.00195389, ...,  0.03783921,\n",
       "         -0.01398294,  0.0107099 ]], dtype=float32)]"
      ]
     },
     "execution_count": 15,
     "metadata": {},
     "output_type": "execute_result"
    }
   ],
   "source": [
    "ranking_model.model.get_layer(\"query_text_bytes_embedding\").get_weights()"
   ]
  },
  {
   "cell_type": "code",
   "execution_count": null,
   "metadata": {},
   "outputs": [],
   "source": []
  }
 ],
 "metadata": {
  "kernelspec": {
   "display_name": "Python 3",
   "language": "python",
   "name": "python3"
  },
  "language_info": {
   "codemirror_mode": {
    "name": "ipython",
    "version": 3
   },
   "file_extension": ".py",
   "mimetype": "text/x-python",
   "name": "python",
   "nbconvert_exporter": "python",
   "pygments_lexer": "ipython3",
   "version": "3.7.4"
  }
 },
 "nbformat": 4,
 "nbformat_minor": 2
}
