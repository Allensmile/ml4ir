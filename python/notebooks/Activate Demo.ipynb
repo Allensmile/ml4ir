{
 "cells": [
  {
   "cell_type": "markdown",
   "metadata": {},
   "source": [
    "# Training a Learning to Rank Model using ml4ir\n",
    "-----"
   ]
  },
  {
   "cell_type": "markdown",
   "metadata": {},
   "source": [
    "### First, let's install ml4ir"
   ]
  },
  {
   "cell_type": "code",
   "execution_count": 1,
   "metadata": {},
   "outputs": [
    {
     "name": "stdout",
     "output_type": "stream",
     "text": [
      "Looking in indexes: https://pypi.python.org/simple\n",
      "Requirement already satisfied: ml4ir in /Users/ashish.srinivasa/search_relevance/ml4ir/python (0.0.1)\n",
      "Requirement already satisfied: click in /Users/ashish.srinivasa/.sipcli_env/lib/python3.7/site-packages (from ml4ir) (7.1.2)\n",
      "Requirement already satisfied: Sphinx in /Users/ashish.srinivasa/.sipcli_env/lib/python3.7/site-packages (from ml4ir) (3.1.1)\n",
      "Requirement already satisfied: coverage in /Users/ashish.srinivasa/.sipcli_env/lib/python3.7/site-packages (from ml4ir) (5.0.3)\n",
      "Requirement already satisfied: awscli in /Users/ashish.srinivasa/.sipcli_env/lib/python3.7/site-packages (from ml4ir) (1.18.83)\n",
      "Requirement already satisfied: flake8 in /Users/ashish.srinivasa/.sipcli_env/lib/python3.7/site-packages (from ml4ir) (3.8.3)\n",
      "Requirement already satisfied: python-dotenv>=0.5.1 in /Users/ashish.srinivasa/.sipcli_env/lib/python3.7/site-packages (from ml4ir) (0.13.0)\n",
      "Requirement already satisfied: flake8-black in /Users/ashish.srinivasa/.sipcli_env/lib/python3.7/site-packages (from ml4ir) (0.2.0)\n",
      "Requirement already satisfied: flake8-mypy in /Users/ashish.srinivasa/.sipcli_env/lib/python3.7/site-packages (from ml4ir) (17.8.0)\n",
      "Requirement already satisfied: pre-commit in /Users/ashish.srinivasa/.sipcli_env/lib/python3.7/site-packages (from ml4ir) (2.5.1)\n",
      "Requirement already satisfied: mypy in /Users/ashish.srinivasa/.sipcli_env/lib/python3.7/site-packages (from ml4ir) (0.780)\n",
      "Requirement already satisfied: appnope==0.1.0 in /Users/ashish.srinivasa/.sipcli_env/lib/python3.7/site-packages (from ml4ir) (0.1.0)\n",
      "Requirement already satisfied: attrs==19.3.0 in /Users/ashish.srinivasa/.sipcli_env/lib/python3.7/site-packages (from ml4ir) (19.3.0)\n",
      "Requirement already satisfied: backcall==0.1.0 in /Users/ashish.srinivasa/.sipcli_env/lib/python3.7/site-packages (from ml4ir) (0.1.0)\n",
      "Requirement already satisfied: colorlog==4.0.2 in /Users/ashish.srinivasa/.sipcli_env/lib/python3.7/site-packages (from ml4ir) (4.0.2)\n",
      "Requirement already satisfied: dask==2.8.1 in /Users/ashish.srinivasa/.sipcli_env/lib/python3.7/site-packages (from ml4ir) (2.8.1)\n",
      "Requirement already satisfied: decorator==4.4.1 in /Users/ashish.srinivasa/.sipcli_env/lib/python3.7/site-packages (from ml4ir) (4.4.1)\n",
      "Requirement already satisfied: dill==0.3.0 in /Users/ashish.srinivasa/.sipcli_env/lib/python3.7/site-packages (from ml4ir) (0.3.0)\n",
      "Requirement already satisfied: distributed==2.8.1 in /Users/ashish.srinivasa/.sipcli_env/lib/python3.7/site-packages (from ml4ir) (2.8.1)\n",
      "Requirement already satisfied: entrypoints==0.3 in /Users/ashish.srinivasa/.sipcli_env/lib/python3.7/site-packages (from ml4ir) (0.3)\n",
      "Requirement already satisfied: future==0.18.2 in /Users/ashish.srinivasa/.sipcli_env/lib/python3.7/site-packages (from ml4ir) (0.18.2)\n",
      "Requirement already satisfied: hdfs==2.5.8 in /Users/ashish.srinivasa/.sipcli_env/lib/python3.7/site-packages (from ml4ir) (2.5.8)\n",
      "Requirement already satisfied: ipykernel==5.1.3 in /Users/ashish.srinivasa/.sipcli_env/lib/python3.7/site-packages (from ml4ir) (5.1.3)\n",
      "Requirement already satisfied: ipywidgets==7.5.1 in /Users/ashish.srinivasa/.sipcli_env/lib/python3.7/site-packages (from ml4ir) (7.5.1)\n",
      "Requirement already satisfied: ipython==7.11.1 in /Users/ashish.srinivasa/.sipcli_env/lib/python3.7/site-packages (from ml4ir) (7.11.1)\n",
      "Requirement already satisfied: ipython-genutils==0.2.0 in /Users/ashish.srinivasa/.sipcli_env/lib/python3.7/site-packages (from ml4ir) (0.2.0)\n",
      "Requirement already satisfied: jedi==0.15.2 in /Users/ashish.srinivasa/.sipcli_env/lib/python3.7/site-packages (from ml4ir) (0.15.2)\n",
      "Requirement already satisfied: joblib==0.14.0 in /Users/ashish.srinivasa/.sipcli_env/lib/python3.7/site-packages (from ml4ir) (0.14.0)\n",
      "Requirement already satisfied: json5==0.8.5 in /Users/ashish.srinivasa/.sipcli_env/lib/python3.7/site-packages (from ml4ir) (0.8.5)\n",
      "Requirement already satisfied: jsonschema==3.2.0 in /Users/ashish.srinivasa/.sipcli_env/lib/python3.7/site-packages (from ml4ir) (3.2.0)\n",
      "Requirement already satisfied: jupyter-client==5.3.4 in /Users/ashish.srinivasa/.sipcli_env/lib/python3.7/site-packages (from ml4ir) (5.3.4)\n",
      "Requirement already satisfied: jupyter-core==4.6.1 in /Users/ashish.srinivasa/.sipcli_env/lib/python3.7/site-packages (from ml4ir) (4.6.1)\n",
      "Requirement already satisfied: jupyterlab==1.2.3 in /Users/ashish.srinivasa/.sipcli_env/lib/python3.7/site-packages (from ml4ir) (1.2.3)\n",
      "Requirement already satisfied: jupyterlab-server==1.0.6 in /Users/ashish.srinivasa/.sipcli_env/lib/python3.7/site-packages (from ml4ir) (1.0.6)\n",
      "Requirement already satisfied: Keras-Applications==1.0.8 in /Users/ashish.srinivasa/.sipcli_env/lib/python3.7/site-packages (from ml4ir) (1.0.8)\n",
      "Requirement already satisfied: Keras-Preprocessing==1.1.0 in /Users/ashish.srinivasa/.sipcli_env/lib/python3.7/site-packages (from ml4ir) (1.1.0)\n",
      "Requirement already satisfied: lime==0.1.1.36 in /Users/ashish.srinivasa/.sipcli_env/lib/python3.7/site-packages (from ml4ir) (0.1.1.36)\n",
      "Requirement already satisfied: Markdown==3.1.1 in /Users/ashish.srinivasa/.sipcli_env/lib/python3.7/site-packages (from ml4ir) (3.1.1)\n",
      "Requirement already satisfied: MarkupSafe==1.1.1 in /Users/ashish.srinivasa/.sipcli_env/lib/python3.7/site-packages (from ml4ir) (1.1.1)\n",
      "Requirement already satisfied: matplotlib==3.1.2 in /Users/ashish.srinivasa/.sipcli_env/lib/python3.7/site-packages (from ml4ir) (3.1.2)\n",
      "Requirement already satisfied: nbconvert==5.6.1 in /Users/ashish.srinivasa/.sipcli_env/lib/python3.7/site-packages (from ml4ir) (5.6.1)\n",
      "Requirement already satisfied: nbformat==4.4.0 in /Users/ashish.srinivasa/.sipcli_env/lib/python3.7/site-packages (from ml4ir) (4.4.0)\n",
      "Requirement already satisfied: notebook==6.0.2 in /Users/ashish.srinivasa/.sipcli_env/lib/python3.7/site-packages (from ml4ir) (6.0.2)\n",
      "Requirement already satisfied: numpy==1.17.4 in /Users/ashish.srinivasa/.sipcli_env/lib/python3.7/site-packages (from ml4ir) (1.17.4)\n",
      "Requirement already satisfied: oauth2client==3.0.0 in /Users/ashish.srinivasa/.sipcli_env/lib/python3.7/site-packages (from ml4ir) (3.0.0)\n",
      "Requirement already satisfied: oauthlib==3.1.0 in /Users/ashish.srinivasa/.sipcli_env/lib/python3.7/site-packages (from ml4ir) (3.1.0)\n",
      "Requirement already satisfied: pandas==0.25.3 in /Users/ashish.srinivasa/.sipcli_env/lib/python3.7/site-packages (from ml4ir) (0.25.3)\n",
      "Requirement already satisfied: plotly==4.4.1 in /Users/ashish.srinivasa/.sipcli_env/lib/python3.7/site-packages (from ml4ir) (4.4.1)\n",
      "Requirement already satisfied: protobuf==3.10.0 in /Users/ashish.srinivasa/.sipcli_env/lib/python3.7/site-packages (from ml4ir) (3.10.0)\n",
      "Requirement already satisfied: pycodestyle==2.5.0 in /Users/ashish.srinivasa/.sipcli_env/lib/python3.7/site-packages (from ml4ir) (2.5.0)\n",
      "Requirement already satisfied: pyflakes==2.1.1 in /Users/ashish.srinivasa/.sipcli_env/lib/python3.7/site-packages (from ml4ir) (2.1.1)\n",
      "Requirement already satisfied: pytest==4.6.3 in /Users/ashish.srinivasa/.sipcli_env/lib/python3.7/site-packages (from ml4ir) (4.6.3)\n",
      "Requirement already satisfied: pytest-cov==2.5.1 in /Users/ashish.srinivasa/.sipcli_env/lib/python3.7/site-packages (from ml4ir) (2.5.1)\n",
      "Requirement already satisfied: pytest-html==2.1.1 in /Users/ashish.srinivasa/.sipcli_env/lib/python3.7/site-packages (from ml4ir) (2.1.1)\n",
      "Requirement already satisfied: python-dateutil==2.8.1 in /Users/ashish.srinivasa/.sipcli_env/lib/python3.7/site-packages (from ml4ir) (2.8.1)\n",
      "Requirement already satisfied: parso==0.5.2 in /Users/ashish.srinivasa/.sipcli_env/lib/python3.7/site-packages (from ml4ir) (0.5.2)\n",
      "Requirement already satisfied: pexpect==4.7.0 in /Users/ashish.srinivasa/.sipcli_env/lib/python3.7/site-packages (from ml4ir) (4.7.0)\n",
      "Requirement already satisfied: pickleshare==0.7.5 in /Users/ashish.srinivasa/.sipcli_env/lib/python3.7/site-packages (from ml4ir) (0.7.5)\n",
      "Requirement already satisfied: prompt-toolkit==3.0.2 in /Users/ashish.srinivasa/.sipcli_env/lib/python3.7/site-packages (from ml4ir) (3.0.2)\n",
      "Requirement already satisfied: ptyprocess==0.6.0 in /Users/ashish.srinivasa/.sipcli_env/lib/python3.7/site-packages (from ml4ir) (0.6.0)\n",
      "Requirement already satisfied: Pygments==2.5.2 in /Users/ashish.srinivasa/.sipcli_env/lib/python3.7/site-packages (from ml4ir) (2.5.2)\n",
      "Requirement already satisfied: PyYAML==5.1 in /Users/ashish.srinivasa/.sipcli_env/lib/python3.7/site-packages (from ml4ir) (5.1)\n",
      "Requirement already satisfied: requests==2.22.0 in /Users/ashish.srinivasa/.sipcli_env/lib/python3.7/site-packages (from ml4ir) (2.22.0)\n",
      "Requirement already satisfied: requests-oauthlib==1.3.0 in /Users/ashish.srinivasa/.sipcli_env/lib/python3.7/site-packages (from ml4ir) (1.3.0)\n",
      "Requirement already satisfied: rsa==4.0 in /Users/ashish.srinivasa/.sipcli_env/lib/python3.7/site-packages (from ml4ir) (4.0)\n",
      "Requirement already satisfied: scikit-image==0.16.2 in /Users/ashish.srinivasa/.sipcli_env/lib/python3.7/site-packages (from ml4ir) (0.16.2)\n"
     ]
    },
    {
     "name": "stdout",
     "output_type": "stream",
     "text": [
      "Requirement already satisfied: scikit-learn==0.21.3 in /Users/ashish.srinivasa/.sipcli_env/lib/python3.7/site-packages (from ml4ir) (0.21.3)\n",
      "Requirement already satisfied: scipy==1.3.2 in /Users/ashish.srinivasa/.sipcli_env/lib/python3.7/site-packages (from ml4ir) (1.3.2)\n",
      "Requirement already satisfied: seaborn==0.9.0 in /Users/ashish.srinivasa/.sipcli_env/lib/python3.7/site-packages (from ml4ir) (0.9.0)\n",
      "Requirement already satisfied: six==1.14.0 in /Users/ashish.srinivasa/.sipcli_env/lib/python3.7/site-packages (from ml4ir) (1.14.0)\n",
      "Requirement already satisfied: sklearn==0.0 in /Users/ashish.srinivasa/.sipcli_env/lib/python3.7/site-packages (from ml4ir) (0.0)\n",
      "Requirement already satisfied: swifter==0.296 in /Users/ashish.srinivasa/.sipcli_env/lib/python3.7/site-packages (from ml4ir) (0.296)\n",
      "Requirement already satisfied: tblib==1.5.0 in /Users/ashish.srinivasa/.sipcli_env/lib/python3.7/site-packages (from ml4ir) (1.5.0)\n",
      "Requirement already satisfied: tensorboard==2.0.1 in /Users/ashish.srinivasa/.sipcli_env/lib/python3.7/site-packages (from ml4ir) (2.0.1)\n",
      "Requirement already satisfied: tensorflow==2.0.1 in /Users/ashish.srinivasa/.sipcli_env/lib/python3.7/site-packages (from ml4ir) (2.0.1)\n",
      "Requirement already satisfied: tensorflow-estimator==2.0.1 in /Users/ashish.srinivasa/.sipcli_env/lib/python3.7/site-packages (from ml4ir) (2.0.1)\n",
      "Requirement already satisfied: tensorflow-hub==0.7.0 in /Users/ashish.srinivasa/.sipcli_env/lib/python3.7/site-packages (from ml4ir) (0.7.0)\n",
      "Requirement already satisfied: tensorflow-metadata==0.15.1 in /Users/ashish.srinivasa/.sipcli_env/lib/python3.7/site-packages (from ml4ir) (0.15.1)\n",
      "Requirement already satisfied: tensorflow-probability==0.8.0 in /Users/ashish.srinivasa/.sipcli_env/lib/python3.7/site-packages (from ml4ir) (0.8.0)\n",
      "Requirement already satisfied: tensorflow-ranking==0.2.0 in /Users/ashish.srinivasa/.sipcli_env/lib/python3.7/site-packages (from ml4ir) (0.2.0)\n",
      "Requirement already satisfied: tensorflow-serving-api==2.0.0 in /Users/ashish.srinivasa/.sipcli_env/lib/python3.7/site-packages (from ml4ir) (2.0.0)\n",
      "Requirement already satisfied: tensorflow-text==2.0.1 in /Users/ashish.srinivasa/.sipcli_env/lib/python3.7/site-packages (from ml4ir) (2.0.1)\n",
      "Requirement already satisfied: tensorflow-transform==0.15.0 in /Users/ashish.srinivasa/.sipcli_env/lib/python3.7/site-packages (from ml4ir) (0.15.0)\n",
      "Requirement already satisfied: traitlets==4.3.3 in /Users/ashish.srinivasa/.sipcli_env/lib/python3.7/site-packages (from ml4ir) (4.3.3)\n",
      "Requirement already satisfied: urllib3==1.25.7 in /Users/ashish.srinivasa/.sipcli_env/lib/python3.7/site-packages (from ml4ir) (1.25.7)\n",
      "Requirement already satisfied: wandb==0.8.36 in /Users/ashish.srinivasa/.sipcli_env/lib/python3.7/site-packages (from ml4ir) (0.8.36)\n",
      "Requirement already satisfied: wcwidth==0.1.8 in /Users/ashish.srinivasa/.sipcli_env/lib/python3.7/site-packages (from ml4ir) (0.1.8)\n",
      "Requirement already satisfied: docutils>=0.12 in /Users/ashish.srinivasa/.sipcli_env/lib/python3.7/site-packages (from Sphinx->ml4ir) (0.16)\n",
      "Requirement already satisfied: sphinxcontrib-devhelp in /Users/ashish.srinivasa/.sipcli_env/lib/python3.7/site-packages (from Sphinx->ml4ir) (1.0.2)\n",
      "Requirement already satisfied: Jinja2>=2.3 in /Users/ashish.srinivasa/.sipcli_env/lib/python3.7/site-packages (from Sphinx->ml4ir) (2.11.2)\n",
      "Requirement already satisfied: sphinxcontrib-jsmath in /Users/ashish.srinivasa/.sipcli_env/lib/python3.7/site-packages (from Sphinx->ml4ir) (1.0.1)\n",
      "Requirement already satisfied: sphinxcontrib-qthelp in /Users/ashish.srinivasa/.sipcli_env/lib/python3.7/site-packages (from Sphinx->ml4ir) (1.0.3)\n",
      "Requirement already satisfied: setuptools in /Users/ashish.srinivasa/.sipcli_env/lib/python3.7/site-packages (from Sphinx->ml4ir) (47.1.1)\n",
      "Requirement already satisfied: snowballstemmer>=1.1 in /Users/ashish.srinivasa/.sipcli_env/lib/python3.7/site-packages (from Sphinx->ml4ir) (2.0.0)\n",
      "Requirement already satisfied: alabaster<0.8,>=0.7 in /Users/ashish.srinivasa/.sipcli_env/lib/python3.7/site-packages (from Sphinx->ml4ir) (0.7.12)\n",
      "Requirement already satisfied: imagesize in /Users/ashish.srinivasa/.sipcli_env/lib/python3.7/site-packages (from Sphinx->ml4ir) (1.2.0)\n",
      "Requirement already satisfied: babel>=1.3 in /Users/ashish.srinivasa/.sipcli_env/lib/python3.7/site-packages (from Sphinx->ml4ir) (2.8.0)\n",
      "Requirement already satisfied: packaging in /Users/ashish.srinivasa/.sipcli_env/lib/python3.7/site-packages (from Sphinx->ml4ir) (20.4)\n",
      "Requirement already satisfied: sphinxcontrib-applehelp in /Users/ashish.srinivasa/.sipcli_env/lib/python3.7/site-packages (from Sphinx->ml4ir) (1.0.2)\n",
      "Requirement already satisfied: sphinxcontrib-serializinghtml in /Users/ashish.srinivasa/.sipcli_env/lib/python3.7/site-packages (from Sphinx->ml4ir) (1.1.4)\n",
      "Requirement already satisfied: sphinxcontrib-htmlhelp in /Users/ashish.srinivasa/.sipcli_env/lib/python3.7/site-packages (from Sphinx->ml4ir) (1.0.3)\n",
      "Requirement already satisfied: s3transfer<0.4.0,>=0.3.0 in /Users/ashish.srinivasa/.sipcli_env/lib/python3.7/site-packages (from awscli->ml4ir) (0.3.3)\n",
      "Requirement already satisfied: colorama<0.4.4,>=0.2.5; python_version != \"3.4\" in /Users/ashish.srinivasa/.sipcli_env/lib/python3.7/site-packages (from awscli->ml4ir) (0.4.3)\n",
      "Requirement already satisfied: botocore==1.17.6 in /Users/ashish.srinivasa/.sipcli_env/lib/python3.7/site-packages (from awscli->ml4ir) (1.17.6)\n",
      "Requirement already satisfied: mccabe<0.7.0,>=0.6.0 in /Users/ashish.srinivasa/.sipcli_env/lib/python3.7/site-packages (from flake8->ml4ir) (0.6.1)\n",
      "Requirement already satisfied: importlib-metadata; python_version < \"3.8\" in /Users/ashish.srinivasa/.sipcli_env/lib/python3.7/site-packages (from flake8->ml4ir) (1.6.1)\n",
      "Requirement already satisfied: black in /Users/ashish.srinivasa/.sipcli_env/lib/python3.7/site-packages (from flake8-black->ml4ir) (19.10b0)\n",
      "Requirement already satisfied: cfgv>=2.0.0 in /Users/ashish.srinivasa/.sipcli_env/lib/python3.7/site-packages (from pre-commit->ml4ir) (3.1.0)\n",
      "Requirement already satisfied: identify>=1.0.0 in /Users/ashish.srinivasa/.sipcli_env/lib/python3.7/site-packages (from pre-commit->ml4ir) (1.4.19)\n",
      "Requirement already satisfied: toml in /Users/ashish.srinivasa/.sipcli_env/lib/python3.7/site-packages (from pre-commit->ml4ir) (0.10.1)\n",
      "Requirement already satisfied: virtualenv>=20.0.8 in /Users/ashish.srinivasa/.sipcli_env/lib/python3.7/site-packages (from pre-commit->ml4ir) (20.0.23)\n",
      "Requirement already satisfied: nodeenv>=0.11.1 in /Users/ashish.srinivasa/.sipcli_env/lib/python3.7/site-packages (from pre-commit->ml4ir) (1.4.0)\n",
      "Requirement already satisfied: mypy-extensions<0.5.0,>=0.4.3 in /Users/ashish.srinivasa/.sipcli_env/lib/python3.7/site-packages (from mypy->ml4ir) (0.4.3)\n",
      "Requirement already satisfied: typing-extensions>=3.7.4 in /Users/ashish.srinivasa/.sipcli_env/lib/python3.7/site-packages (from mypy->ml4ir) (3.7.4.2)\n",
      "Requirement already satisfied: typed-ast<1.5.0,>=1.4.0 in /Users/ashish.srinivasa/.sipcli_env/lib/python3.7/site-packages (from mypy->ml4ir) (1.4.1)\n",
      "Requirement already satisfied: msgpack in /Users/ashish.srinivasa/.sipcli_env/lib/python3.7/site-packages (from distributed==2.8.1->ml4ir) (1.0.0)\n",
      "Requirement already satisfied: psutil>=5.0 in /Users/ashish.srinivasa/.sipcli_env/lib/python3.7/site-packages (from distributed==2.8.1->ml4ir) (5.7.0)\n",
      "Requirement already satisfied: sortedcontainers!=2.0.0,!=2.0.1 in /Users/ashish.srinivasa/.sipcli_env/lib/python3.7/site-packages (from distributed==2.8.1->ml4ir) (2.2.2)\n",
      "Requirement already satisfied: toolz>=0.7.4 in /Users/ashish.srinivasa/.sipcli_env/lib/python3.7/site-packages (from distributed==2.8.1->ml4ir) (0.10.0)\n",
      "Requirement already satisfied: cloudpickle>=0.2.2 in /Users/ashish.srinivasa/.sipcli_env/lib/python3.7/site-packages (from distributed==2.8.1->ml4ir) (1.4.1)\n",
      "Requirement already satisfied: tornado>=5 in /Users/ashish.srinivasa/.sipcli_env/lib/python3.7/site-packages (from distributed==2.8.1->ml4ir) (6.0.4)\n",
      "Requirement already satisfied: zict>=0.1.3 in /Users/ashish.srinivasa/.sipcli_env/lib/python3.7/site-packages (from distributed==2.8.1->ml4ir) (2.0.0)\n",
      "Requirement already satisfied: docopt in /Users/ashish.srinivasa/.sipcli_env/lib/python3.7/site-packages (from hdfs==2.5.8->ml4ir) (0.6.2)\n",
      "Requirement already satisfied: widgetsnbextension~=3.5.0 in /Users/ashish.srinivasa/.sipcli_env/lib/python3.7/site-packages (from ipywidgets==7.5.1->ml4ir) (3.5.1)\n",
      "Requirement already satisfied: pyrsistent>=0.14.0 in /Users/ashish.srinivasa/.sipcli_env/lib/python3.7/site-packages (from jsonschema==3.2.0->ml4ir) (0.16.0)\n",
      "Requirement already satisfied: pyzmq>=13 in /Users/ashish.srinivasa/.sipcli_env/lib/python3.7/site-packages (from jupyter-client==5.3.4->ml4ir) (19.0.1)\n",
      "Requirement already satisfied: h5py in /Users/ashish.srinivasa/.sipcli_env/lib/python3.7/site-packages (from Keras-Applications==1.0.8->ml4ir) (2.10.0)\n",
      "Requirement already satisfied: kiwisolver>=1.0.1 in /Users/ashish.srinivasa/.sipcli_env/lib/python3.7/site-packages (from matplotlib==3.1.2->ml4ir) (1.2.0)\n",
      "Requirement already satisfied: cycler>=0.10 in /Users/ashish.srinivasa/.sipcli_env/lib/python3.7/site-packages (from matplotlib==3.1.2->ml4ir) (0.10.0)\n",
      "Requirement already satisfied: pyparsing!=2.0.4,!=2.1.2,!=2.1.6,>=2.0.1 in /Users/ashish.srinivasa/.sipcli_env/lib/python3.7/site-packages (from matplotlib==3.1.2->ml4ir) (2.4.7)\n",
      "Requirement already satisfied: bleach in /Users/ashish.srinivasa/.sipcli_env/lib/python3.7/site-packages (from nbconvert==5.6.1->ml4ir) (3.1.5)\n",
      "Requirement already satisfied: pandocfilters>=1.4.1 in /Users/ashish.srinivasa/.sipcli_env/lib/python3.7/site-packages (from nbconvert==5.6.1->ml4ir) (1.4.2)\n",
      "Requirement already satisfied: mistune<2,>=0.8.1 in /Users/ashish.srinivasa/.sipcli_env/lib/python3.7/site-packages (from nbconvert==5.6.1->ml4ir) (0.8.4)\n",
      "Requirement already satisfied: testpath in /Users/ashish.srinivasa/.sipcli_env/lib/python3.7/site-packages (from nbconvert==5.6.1->ml4ir) (0.4.4)\n",
      "Requirement already satisfied: defusedxml in /Users/ashish.srinivasa/.sipcli_env/lib/python3.7/site-packages (from nbconvert==5.6.1->ml4ir) (0.6.0)\n",
      "Requirement already satisfied: prometheus-client in /Users/ashish.srinivasa/.sipcli_env/lib/python3.7/site-packages (from notebook==6.0.2->ml4ir) (0.8.0)\n"
     ]
    },
    {
     "name": "stdout",
     "output_type": "stream",
     "text": [
      "Requirement already satisfied: terminado>=0.8.1 in /Users/ashish.srinivasa/.sipcli_env/lib/python3.7/site-packages (from notebook==6.0.2->ml4ir) (0.8.3)\n",
      "Requirement already satisfied: Send2Trash in /Users/ashish.srinivasa/.sipcli_env/lib/python3.7/site-packages (from notebook==6.0.2->ml4ir) (1.5.0)\n",
      "Requirement already satisfied: pyasn1-modules>=0.0.5 in /Users/ashish.srinivasa/.sipcli_env/lib/python3.7/site-packages (from oauth2client==3.0.0->ml4ir) (0.2.8)\n",
      "Requirement already satisfied: httplib2>=0.9.1 in /Users/ashish.srinivasa/.sipcli_env/lib/python3.7/site-packages (from oauth2client==3.0.0->ml4ir) (0.18.1)\n",
      "Requirement already satisfied: pyasn1>=0.1.7 in /Users/ashish.srinivasa/.sipcli_env/lib/python3.7/site-packages (from oauth2client==3.0.0->ml4ir) (0.4.8)\n",
      "Requirement already satisfied: pytz>=2017.2 in /Users/ashish.srinivasa/.sipcli_env/lib/python3.7/site-packages (from pandas==0.25.3->ml4ir) (2020.1)\n",
      "Requirement already satisfied: retrying>=1.3.3 in /Users/ashish.srinivasa/.sipcli_env/lib/python3.7/site-packages (from plotly==4.4.1->ml4ir) (1.3.3)\n",
      "Requirement already satisfied: py>=1.5.0 in /Users/ashish.srinivasa/.sipcli_env/lib/python3.7/site-packages (from pytest==4.6.3->ml4ir) (1.8.2)\n",
      "Requirement already satisfied: atomicwrites>=1.0 in /Users/ashish.srinivasa/.sipcli_env/lib/python3.7/site-packages (from pytest==4.6.3->ml4ir) (1.4.0)\n",
      "Requirement already satisfied: pluggy<1.0,>=0.12 in /Users/ashish.srinivasa/.sipcli_env/lib/python3.7/site-packages (from pytest==4.6.3->ml4ir) (0.13.1)\n",
      "Requirement already satisfied: more-itertools>=4.0.0; python_version > \"2.7\" in /Users/ashish.srinivasa/.sipcli_env/lib/python3.7/site-packages (from pytest==4.6.3->ml4ir) (8.4.0)\n",
      "Requirement already satisfied: pytest-metadata in /Users/ashish.srinivasa/.sipcli_env/lib/python3.7/site-packages (from pytest-html==2.1.1->ml4ir) (1.9.0)\n",
      "Requirement already satisfied: certifi>=2017.4.17 in /Users/ashish.srinivasa/.sipcli_env/lib/python3.7/site-packages (from requests==2.22.0->ml4ir) (2020.4.5.2)\n",
      "Requirement already satisfied: chardet<3.1.0,>=3.0.2 in /Users/ashish.srinivasa/.sipcli_env/lib/python3.7/site-packages (from requests==2.22.0->ml4ir) (3.0.4)\n",
      "Requirement already satisfied: idna<2.9,>=2.5 in /Users/ashish.srinivasa/.sipcli_env/lib/python3.7/site-packages (from requests==2.22.0->ml4ir) (2.8)\n",
      "Requirement already satisfied: imageio>=2.3.0 in /Users/ashish.srinivasa/.sipcli_env/lib/python3.7/site-packages (from scikit-image==0.16.2->ml4ir) (2.8.0)\n",
      "Requirement already satisfied: pillow>=4.3.0 in /Users/ashish.srinivasa/.sipcli_env/lib/python3.7/site-packages (from scikit-image==0.16.2->ml4ir) (7.1.2)\n",
      "Requirement already satisfied: networkx>=2.0 in /Users/ashish.srinivasa/.sipcli_env/lib/python3.7/site-packages (from scikit-image==0.16.2->ml4ir) (2.4)\n",
      "Requirement already satisfied: PyWavelets>=0.4.0 in /Users/ashish.srinivasa/.sipcli_env/lib/python3.7/site-packages (from scikit-image==0.16.2->ml4ir) (1.1.1)\n",
      "Requirement already satisfied: numba in /Users/ashish.srinivasa/.sipcli_env/lib/python3.7/site-packages (from swifter==0.296->ml4ir) (0.50.0)\n",
      "Requirement already satisfied: tqdm>=4.33.0 in /Users/ashish.srinivasa/.sipcli_env/lib/python3.7/site-packages (from swifter==0.296->ml4ir) (4.46.1)\n",
      "Requirement already satisfied: absl-py>=0.4 in /Users/ashish.srinivasa/.sipcli_env/lib/python3.7/site-packages (from tensorboard==2.0.1->ml4ir) (0.9.0)\n",
      "Requirement already satisfied: wheel>=0.26; python_version >= \"3\" in /Users/ashish.srinivasa/.sipcli_env/lib/python3.7/site-packages (from tensorboard==2.0.1->ml4ir) (0.34.2)\n",
      "Requirement already satisfied: google-auth-oauthlib<0.5,>=0.4.1 in /Users/ashish.srinivasa/.sipcli_env/lib/python3.7/site-packages (from tensorboard==2.0.1->ml4ir) (0.4.1)\n",
      "Requirement already satisfied: google-auth<2,>=1.6.3 in /Users/ashish.srinivasa/.sipcli_env/lib/python3.7/site-packages (from tensorboard==2.0.1->ml4ir) (1.18.0)\n",
      "Requirement already satisfied: grpcio>=1.24.3 in /Users/ashish.srinivasa/.sipcli_env/lib/python3.7/site-packages (from tensorboard==2.0.1->ml4ir) (1.26.0)\n",
      "Requirement already satisfied: werkzeug>=0.11.15 in /Users/ashish.srinivasa/.sipcli_env/lib/python3.7/site-packages (from tensorboard==2.0.1->ml4ir) (1.0.1)\n",
      "Requirement already satisfied: google-pasta>=0.1.6 in /Users/ashish.srinivasa/.sipcli_env/lib/python3.7/site-packages (from tensorflow==2.0.1->ml4ir) (0.2.0)\n",
      "Requirement already satisfied: opt-einsum>=2.3.2 in /Users/ashish.srinivasa/.sipcli_env/lib/python3.7/site-packages (from tensorflow==2.0.1->ml4ir) (3.2.1)\n",
      "Requirement already satisfied: wrapt>=1.11.1 in /Users/ashish.srinivasa/.sipcli_env/lib/python3.7/site-packages (from tensorflow==2.0.1->ml4ir) (1.12.1)\n",
      "Requirement already satisfied: astor>=0.6.0 in /Users/ashish.srinivasa/.sipcli_env/lib/python3.7/site-packages (from tensorflow==2.0.1->ml4ir) (0.8.1)\n",
      "Requirement already satisfied: termcolor>=1.1.0 in /Users/ashish.srinivasa/.sipcli_env/lib/python3.7/site-packages (from tensorflow==2.0.1->ml4ir) (1.1.0)\n",
      "Requirement already satisfied: gast==0.2.2 in /Users/ashish.srinivasa/.sipcli_env/lib/python3.7/site-packages (from tensorflow==2.0.1->ml4ir) (0.2.2)\n",
      "Requirement already satisfied: googleapis-common-protos in /Users/ashish.srinivasa/.sipcli_env/lib/python3.7/site-packages (from tensorflow-metadata==0.15.1->ml4ir) (1.52.0)\n",
      "Requirement already satisfied: pydot<2,>=1.2 in /Users/ashish.srinivasa/.sipcli_env/lib/python3.7/site-packages (from tensorflow-transform==0.15.0->ml4ir) (1.4.1)\n",
      "Requirement already satisfied: tfx-bsl<0.16,>=0.15 in /Users/ashish.srinivasa/.sipcli_env/lib/python3.7/site-packages (from tensorflow-transform==0.15.0->ml4ir) (0.15.3)\n",
      "Requirement already satisfied: apache-beam[gcp]<3,>=2.16 in /Users/ashish.srinivasa/.sipcli_env/lib/python3.7/site-packages (from tensorflow-transform==0.15.0->ml4ir) (2.22.0)\n",
      "Requirement already satisfied: watchdog>=0.8.3 in /Users/ashish.srinivasa/.sipcli_env/lib/python3.7/site-packages (from wandb==0.8.36->ml4ir) (0.10.2)\n",
      "Requirement already satisfied: docker-pycreds>=0.4.0 in /Users/ashish.srinivasa/.sipcli_env/lib/python3.7/site-packages (from wandb==0.8.36->ml4ir) (0.4.0)\n",
      "Requirement already satisfied: sentry-sdk>=0.4.0 in /Users/ashish.srinivasa/.sipcli_env/lib/python3.7/site-packages (from wandb==0.8.36->ml4ir) (0.15.1)\n",
      "Requirement already satisfied: configparser>=3.8.1 in /Users/ashish.srinivasa/.sipcli_env/lib/python3.7/site-packages (from wandb==0.8.36->ml4ir) (5.0.0)\n",
      "Requirement already satisfied: gql==0.2.0 in /Users/ashish.srinivasa/.sipcli_env/lib/python3.7/site-packages (from wandb==0.8.36->ml4ir) (0.2.0)\n",
      "Requirement already satisfied: GitPython>=1.0.0 in /Users/ashish.srinivasa/.sipcli_env/lib/python3.7/site-packages (from wandb==0.8.36->ml4ir) (3.1.3)\n",
      "Requirement already satisfied: nvidia-ml-py3>=7.352.0 in /Users/ashish.srinivasa/.sipcli_env/lib/python3.7/site-packages (from wandb==0.8.36->ml4ir) (7.352.0)\n",
      "Requirement already satisfied: subprocess32>=3.5.3 in /Users/ashish.srinivasa/.sipcli_env/lib/python3.7/site-packages (from wandb==0.8.36->ml4ir) (3.5.4)\n",
      "Requirement already satisfied: shortuuid>=0.5.0 in /Users/ashish.srinivasa/.sipcli_env/lib/python3.7/site-packages (from wandb==0.8.36->ml4ir) (1.0.1)\n",
      "Requirement already satisfied: jmespath<1.0.0,>=0.7.1 in /Users/ashish.srinivasa/.sipcli_env/lib/python3.7/site-packages (from botocore==1.17.6->awscli->ml4ir) (0.10.0)\n",
      "Requirement already satisfied: zipp>=0.5 in /Users/ashish.srinivasa/.sipcli_env/lib/python3.7/site-packages (from importlib-metadata; python_version < \"3.8\"->flake8->ml4ir) (3.1.0)\n",
      "Requirement already satisfied: regex in /Users/ashish.srinivasa/.sipcli_env/lib/python3.7/site-packages (from black->flake8-black->ml4ir) (2020.6.8)\n",
      "Requirement already satisfied: appdirs in /Users/ashish.srinivasa/.sipcli_env/lib/python3.7/site-packages (from black->flake8-black->ml4ir) (1.4.4)\n",
      "Requirement already satisfied: pathspec<1,>=0.6 in /Users/ashish.srinivasa/.sipcli_env/lib/python3.7/site-packages (from black->flake8-black->ml4ir) (0.8.0)\n",
      "Requirement already satisfied: distlib<1,>=0.3.0 in /Users/ashish.srinivasa/.sipcli_env/lib/python3.7/site-packages (from virtualenv>=20.0.8->pre-commit->ml4ir) (0.3.0)\n",
      "Requirement already satisfied: filelock<4,>=3.0.0 in /Users/ashish.srinivasa/.sipcli_env/lib/python3.7/site-packages (from virtualenv>=20.0.8->pre-commit->ml4ir) (3.0.12)\n",
      "Requirement already satisfied: heapdict in /Users/ashish.srinivasa/.sipcli_env/lib/python3.7/site-packages (from zict>=0.1.3->distributed==2.8.1->ml4ir) (1.0.1)\n",
      "Requirement already satisfied: webencodings in /Users/ashish.srinivasa/.sipcli_env/lib/python3.7/site-packages (from bleach->nbconvert==5.6.1->ml4ir) (0.5.1)\n",
      "Requirement already satisfied: llvmlite<0.34,>=0.33.0.dev0 in /Users/ashish.srinivasa/.sipcli_env/lib/python3.7/site-packages (from numba->swifter==0.296->ml4ir) (0.33.0)\n",
      "Requirement already satisfied: cachetools<5.0,>=2.0.0 in /Users/ashish.srinivasa/.sipcli_env/lib/python3.7/site-packages (from google-auth<2,>=1.6.3->tensorboard==2.0.1->ml4ir) (4.1.0)\n"
     ]
    },
    {
     "name": "stdout",
     "output_type": "stream",
     "text": [
      "Collecting pyarrow<0.15.0,>=0.14.0\n",
      "  Using cached pyarrow-0.14.1-cp37-cp37m-macosx_10_6_intel.whl (34.4 MB)\n",
      "Requirement already satisfied: crcmod<2.0,>=1.7 in /Users/ashish.srinivasa/.sipcli_env/lib/python3.7/site-packages (from apache-beam[gcp]<3,>=2.16->tensorflow-transform==0.15.0->ml4ir) (1.7)\n",
      "Requirement already satisfied: mock<3.0.0,>=1.0.1 in /Users/ashish.srinivasa/.sipcli_env/lib/python3.7/site-packages (from apache-beam[gcp]<3,>=2.16->tensorflow-transform==0.15.0->ml4ir) (2.0.0)\n",
      "Requirement already satisfied: fastavro<0.24,>=0.21.4 in /Users/ashish.srinivasa/.sipcli_env/lib/python3.7/site-packages (from apache-beam[gcp]<3,>=2.16->tensorflow-transform==0.15.0->ml4ir) (0.23.4)\n",
      "Requirement already satisfied: avro-python3!=1.9.2,<1.10.0,>=1.8.1; python_version >= \"3.0\" in /Users/ashish.srinivasa/.sipcli_env/lib/python3.7/site-packages (from apache-beam[gcp]<3,>=2.16->tensorflow-transform==0.15.0->ml4ir) (1.9.2.1)\n",
      "Requirement already satisfied: pymongo<4.0.0,>=3.8.0 in /Users/ashish.srinivasa/.sipcli_env/lib/python3.7/site-packages (from apache-beam[gcp]<3,>=2.16->tensorflow-transform==0.15.0->ml4ir) (3.10.1)\n",
      "Requirement already satisfied: google-apitools<0.5.32,>=0.5.31; extra == \"gcp\" in /Users/ashish.srinivasa/.sipcli_env/lib/python3.7/site-packages (from apache-beam[gcp]<3,>=2.16->tensorflow-transform==0.15.0->ml4ir) (0.5.31)\n",
      "Requirement already satisfied: google-cloud-bigquery<=1.24.0,>=1.6.0; extra == \"gcp\" in /Users/ashish.srinivasa/.sipcli_env/lib/python3.7/site-packages (from apache-beam[gcp]<3,>=2.16->tensorflow-transform==0.15.0->ml4ir) (1.24.0)\n",
      "Requirement already satisfied: google-cloud-language<2,>=1.3.0; extra == \"gcp\" in /Users/ashish.srinivasa/.sipcli_env/lib/python3.7/site-packages (from apache-beam[gcp]<3,>=2.16->tensorflow-transform==0.15.0->ml4ir) (1.3.0)\n",
      "Requirement already satisfied: google-cloud-datastore<1.8.0,>=1.7.1; extra == \"gcp\" in /Users/ashish.srinivasa/.sipcli_env/lib/python3.7/site-packages (from apache-beam[gcp]<3,>=2.16->tensorflow-transform==0.15.0->ml4ir) (1.7.4)\n",
      "Requirement already satisfied: google-cloud-bigtable<1.1.0,>=0.31.1; extra == \"gcp\" in /Users/ashish.srinivasa/.sipcli_env/lib/python3.7/site-packages (from apache-beam[gcp]<3,>=2.16->tensorflow-transform==0.15.0->ml4ir) (1.0.0)\n",
      "Requirement already satisfied: grpcio-gcp<1,>=0.2.2; extra == \"gcp\" in /Users/ashish.srinivasa/.sipcli_env/lib/python3.7/site-packages (from apache-beam[gcp]<3,>=2.16->tensorflow-transform==0.15.0->ml4ir) (0.2.2)\n",
      "Requirement already satisfied: google-cloud-dlp<=0.13.0,>=0.12.0; extra == \"gcp\" in /Users/ashish.srinivasa/.sipcli_env/lib/python3.7/site-packages (from apache-beam[gcp]<3,>=2.16->tensorflow-transform==0.15.0->ml4ir) (0.13.0)\n",
      "Requirement already satisfied: google-cloud-videointelligence<1.14.0,>=1.8.0; extra == \"gcp\" in /Users/ashish.srinivasa/.sipcli_env/lib/python3.7/site-packages (from apache-beam[gcp]<3,>=2.16->tensorflow-transform==0.15.0->ml4ir) (1.13.0)\n",
      "Requirement already satisfied: google-cloud-spanner<1.14.0,>=1.13.0; extra == \"gcp\" in /Users/ashish.srinivasa/.sipcli_env/lib/python3.7/site-packages (from apache-beam[gcp]<3,>=2.16->tensorflow-transform==0.15.0->ml4ir) (1.13.0)\n",
      "Requirement already satisfied: google-cloud-core<2,>=0.28.1; extra == \"gcp\" in /Users/ashish.srinivasa/.sipcli_env/lib/python3.7/site-packages (from apache-beam[gcp]<3,>=2.16->tensorflow-transform==0.15.0->ml4ir) (1.3.0)\n",
      "Requirement already satisfied: google-cloud-pubsub<1.1.0,>=0.39.0; extra == \"gcp\" in /Users/ashish.srinivasa/.sipcli_env/lib/python3.7/site-packages (from apache-beam[gcp]<3,>=2.16->tensorflow-transform==0.15.0->ml4ir) (1.0.2)\n",
      "Requirement already satisfied: google-cloud-vision<0.43.0,>=0.38.0; extra == \"gcp\" in /Users/ashish.srinivasa/.sipcli_env/lib/python3.7/site-packages (from apache-beam[gcp]<3,>=2.16->tensorflow-transform==0.15.0->ml4ir) (0.42.0)\n",
      "Requirement already satisfied: pathtools>=0.1.1 in /Users/ashish.srinivasa/.sipcli_env/lib/python3.7/site-packages (from watchdog>=0.8.3->wandb==0.8.36->ml4ir) (0.1.2)\n",
      "Requirement already satisfied: graphql-core<2,>=0.5.0 in /Users/ashish.srinivasa/.sipcli_env/lib/python3.7/site-packages (from gql==0.2.0->wandb==0.8.36->ml4ir) (1.1)\n",
      "Requirement already satisfied: promise<3,>=2.0 in /Users/ashish.srinivasa/.sipcli_env/lib/python3.7/site-packages (from gql==0.2.0->wandb==0.8.36->ml4ir) (2.3)\n",
      "Requirement already satisfied: gitdb<5,>=4.0.1 in /Users/ashish.srinivasa/.sipcli_env/lib/python3.7/site-packages (from GitPython>=1.0.0->wandb==0.8.36->ml4ir) (4.0.5)\n",
      "Requirement already satisfied: pbr>=0.11 in /Users/ashish.srinivasa/.sipcli_env/lib/python3.7/site-packages (from mock<3.0.0,>=1.0.1->apache-beam[gcp]<3,>=2.16->tensorflow-transform==0.15.0->ml4ir) (5.4.5)\n",
      "Requirement already satisfied: fasteners>=0.14 in /Users/ashish.srinivasa/.sipcli_env/lib/python3.7/site-packages (from google-apitools<0.5.32,>=0.5.31; extra == \"gcp\"->apache-beam[gcp]<3,>=2.16->tensorflow-transform==0.15.0->ml4ir) (0.15)\n",
      "Requirement already satisfied: google-api-core<2.0dev,>=1.15.0 in /Users/ashish.srinivasa/.sipcli_env/lib/python3.7/site-packages (from google-cloud-bigquery<=1.24.0,>=1.6.0; extra == \"gcp\"->apache-beam[gcp]<3,>=2.16->tensorflow-transform==0.15.0->ml4ir) (1.20.1)\n",
      "Requirement already satisfied: google-resumable-media<0.6dev,>=0.5.0 in /Users/ashish.srinivasa/.sipcli_env/lib/python3.7/site-packages (from google-cloud-bigquery<=1.24.0,>=1.6.0; extra == \"gcp\"->apache-beam[gcp]<3,>=2.16->tensorflow-transform==0.15.0->ml4ir) (0.5.1)\n",
      "Requirement already satisfied: grpc-google-iam-v1<0.13dev,>=0.12.3 in /Users/ashish.srinivasa/.sipcli_env/lib/python3.7/site-packages (from google-cloud-bigtable<1.1.0,>=0.31.1; extra == \"gcp\"->apache-beam[gcp]<3,>=2.16->tensorflow-transform==0.15.0->ml4ir) (0.12.3)\n",
      "Requirement already satisfied: smmap<4,>=3.0.1 in /Users/ashish.srinivasa/.sipcli_env/lib/python3.7/site-packages (from gitdb<5,>=4.0.1->GitPython>=1.0.0->wandb==0.8.36->ml4ir) (3.0.4)\n",
      "Requirement already satisfied: monotonic>=0.1 in /Users/ashish.srinivasa/.sipcli_env/lib/python3.7/site-packages (from fasteners>=0.14->google-apitools<0.5.32,>=0.5.31; extra == \"gcp\"->apache-beam[gcp]<3,>=2.16->tensorflow-transform==0.15.0->ml4ir) (1.5)\n",
      "\u001b[31mERROR: tfx-bsl 0.15.3 has requirement absl-py<0.9,>=0.7, but you'll have absl-py 0.9.0 which is incompatible.\u001b[0m\n",
      "\u001b[31mERROR: tfx-bsl 0.15.3 has requirement apache-beam[gcp]<2.17,>=2.16, but you'll have apache-beam 2.22.0 which is incompatible.\u001b[0m\n",
      "\u001b[31mERROR: tensorflow-transform 0.15.0 has requirement absl-py<0.9,>=0.7, but you'll have absl-py 0.9.0 which is incompatible.\u001b[0m\n",
      "\u001b[31mERROR: apache-beam 2.22.0 has requirement dill<0.3.2,>=0.3.1.1, but you'll have dill 0.3.0 which is incompatible.\u001b[0m\n",
      "\u001b[31mERROR: apache-beam 2.22.0 has requirement httplib2<0.18.0,>=0.8, but you'll have httplib2 0.18.1 which is incompatible.\u001b[0m\n",
      "\u001b[31mERROR: apache-beam 2.22.0 has requirement pyarrow<0.18.0,>=0.15.1; python_version >= \"3.0\" or platform_system != \"Windows\", but you'll have pyarrow 0.14.1 which is incompatible.\u001b[0m\n",
      "Installing collected packages: pyarrow\n",
      "  Attempting uninstall: pyarrow\n",
      "    Found existing installation: pyarrow 0.17.1\n",
      "    Uninstalling pyarrow-0.17.1:\n",
      "      Successfully uninstalled pyarrow-0.17.1\n",
      "Successfully installed pyarrow-0.14.1\n",
      "\u001b[33mWARNING: You are using pip version 20.1.1; however, version 20.2.2 is available.\n",
      "You should consider upgrading via the '/Users/ashish.srinivasa/.sipcli_env/bin/python3.7 -m pip install --upgrade pip' command.\u001b[0m\n"
     ]
    }
   ],
   "source": [
    "!pip install ml4ir"
   ]
  },
  {
   "cell_type": "markdown",
   "metadata": {},
   "source": [
    "### Load/Define a FeatureConfig"
   ]
  },
  {
   "cell_type": "code",
   "execution_count": 2,
   "metadata": {},
   "outputs": [],
   "source": [
    "FEATURE_CONFIG_PATH = \"configs/activate_2020/feature_config.yaml\"\n",
    "MODEL_CONFIG_PATH = \"configs/activate_2020/model_config.yaml\"\n",
    "DATA_DIR = \"../ml4ir/applications/ranking/tests/data/tfrecord\"\n",
    "MODELS_DIR = '../models/activate_2020'\n",
    "LOGS_DIR = '../logs/activate_2020'\n",
    "MAX_SEQUENCE_SIZE = 25"
   ]
  },
  {
   "cell_type": "code",
   "execution_count": 3,
   "metadata": {
    "scrolled": false
   },
   "outputs": [
    {
     "name": "stderr",
     "output_type": "stream",
     "text": [
      "DEBUG:root:Logger is initialized...\n",
      "DEBUG:root:{\n",
      "    \"query_key\": {\n",
      "        \"name\": \"query_id\",\n",
      "        \"node_name\": \"query_id\",\n",
      "        \"trainable\": false,\n",
      "        \"dtype\": \"string\",\n",
      "        \"log_at_inference\": true,\n",
      "        \"feature_layer_info\": {\n",
      "            \"type\": \"numeric\",\n",
      "            \"shape\": null\n",
      "        },\n",
      "        \"serving_info\": {\n",
      "            \"name\": \"queryId\",\n",
      "            \"required\": false,\n",
      "            \"default_value\": \"\"\n",
      "        },\n",
      "        \"tfrecord_type\": \"context\"\n",
      "    },\n",
      "    \"rank\": {\n",
      "        \"name\": \"rank\",\n",
      "        \"node_name\": \"rank\",\n",
      "        \"trainable\": false,\n",
      "        \"dtype\": \"int64\",\n",
      "        \"log_at_inference\": true,\n",
      "        \"feature_layer_info\": {\n",
      "            \"type\": \"numeric\",\n",
      "            \"shape\": null\n",
      "        },\n",
      "        \"serving_info\": {\n",
      "            \"name\": \"originalRank\",\n",
      "            \"required\": true,\n",
      "            \"default_value\": 0\n",
      "        },\n",
      "        \"tfrecord_type\": \"sequence\"\n",
      "    },\n",
      "    \"label\": {\n",
      "        \"name\": \"clicked\",\n",
      "        \"node_name\": \"clicked\",\n",
      "        \"trainable\": false,\n",
      "        \"dtype\": \"int64\",\n",
      "        \"log_at_inference\": true,\n",
      "        \"feature_layer_info\": {\n",
      "            \"type\": \"numeric\",\n",
      "            \"shape\": null\n",
      "        },\n",
      "        \"serving_info\": {\n",
      "            \"name\": \"clicked\",\n",
      "            \"required\": false,\n",
      "            \"default_value\": 0\n",
      "        },\n",
      "        \"tfrecord_type\": \"sequence\"\n",
      "    },\n",
      "    \"features\": [\n",
      "        {\n",
      "            \"name\": \"text_match_score\",\n",
      "            \"node_name\": \"text_match_score\",\n",
      "            \"trainable\": true,\n",
      "            \"dtype\": \"float\",\n",
      "            \"log_at_inference\": false,\n",
      "            \"feature_layer_info\": {\n",
      "                \"type\": \"numeric\",\n",
      "                \"shape\": null\n",
      "            },\n",
      "            \"serving_info\": {\n",
      "                \"name\": \"textMatchScore\",\n",
      "                \"required\": true,\n",
      "                \"default_value\": 0.0\n",
      "            },\n",
      "            \"tfrecord_type\": \"sequence\"\n",
      "        },\n",
      "        {\n",
      "            \"name\": \"page_views_score\",\n",
      "            \"node_name\": \"page_views_score\",\n",
      "            \"trainable\": true,\n",
      "            \"dtype\": \"float\",\n",
      "            \"log_at_inference\": false,\n",
      "            \"feature_layer_info\": {\n",
      "                \"type\": \"numeric\",\n",
      "                \"shape\": null\n",
      "            },\n",
      "            \"serving_info\": {\n",
      "                \"name\": \"pageViewsScore\",\n",
      "                \"required\": true,\n",
      "                \"default_value\": 0.0\n",
      "            },\n",
      "            \"tfrecord_type\": \"sequence\"\n",
      "        },\n",
      "        {\n",
      "            \"name\": \"quality_score\",\n",
      "            \"node_name\": \"quality_score\",\n",
      "            \"trainable\": true,\n",
      "            \"dtype\": \"float\",\n",
      "            \"log_at_inference\": false,\n",
      "            \"feature_layer_info\": {\n",
      "                \"type\": \"numeric\",\n",
      "                \"shape\": null\n",
      "            },\n",
      "            \"serving_info\": {\n",
      "                \"name\": \"qualityScore\",\n",
      "                \"required\": true,\n",
      "                \"default_value\": 0.0\n",
      "            },\n",
      "            \"tfrecord_type\": \"sequence\"\n",
      "        },\n",
      "        {\n",
      "            \"name\": \"name_match\",\n",
      "            \"node_name\": \"name_match\",\n",
      "            \"trainable\": false,\n",
      "            \"dtype\": \"float\",\n",
      "            \"log_at_inference\": true,\n",
      "            \"is_secondary_label\": true,\n",
      "            \"feature_layer_info\": {\n",
      "                \"type\": \"numeric\",\n",
      "                \"shape\": null\n",
      "            },\n",
      "            \"serving_info\": {\n",
      "                \"name\": \"nameMatch\",\n",
      "                \"required\": true,\n",
      "                \"default_value\": 0.0\n",
      "            },\n",
      "            \"tfrecord_type\": \"sequence\"\n",
      "        },\n",
      "        {\n",
      "            \"name\": \"query_text\",\n",
      "            \"node_name\": \"query_text\",\n",
      "            \"trainable\": true,\n",
      "            \"dtype\": \"string\",\n",
      "            \"log_at_inference\": true,\n",
      "            \"feature_layer_info\": {\n",
      "                \"type\": \"numeric\",\n",
      "                \"shape\": null,\n",
      "                \"fn\": \"bytes_sequence_encoding_bigru\",\n",
      "                \"args\": {\n",
      "                    \"encoding_type\": \"bilstm\",\n",
      "                    \"encoding_size\": 128,\n",
      "                    \"embedding_size\": 128,\n",
      "                    \"max_length\": 20\n",
      "                }\n",
      "            },\n",
      "            \"preprocessing_info\": [\n",
      "                {\n",
      "                    \"fn\": \"preprocess_text\",\n",
      "                    \"args\": {\n",
      "                        \"remove_punctuation\": true,\n",
      "                        \"to_lower\": true\n",
      "                    }\n",
      "                }\n",
      "            ],\n",
      "            \"serving_info\": {\n",
      "                \"name\": \"q\",\n",
      "                \"required\": true,\n",
      "                \"default_value\": \"\"\n",
      "            },\n",
      "            \"tfrecord_type\": \"context\"\n",
      "        },\n",
      "        {\n",
      "            \"name\": \"domain_id\",\n",
      "            \"node_name\": \"domain_id\",\n",
      "            \"trainable\": true,\n",
      "            \"dtype\": \"int64\",\n",
      "            \"log_at_inference\": false,\n",
      "            \"is_group_metric_key\": true,\n",
      "            \"feature_layer_info\": {\n",
      "                \"type\": \"numeric\",\n",
      "                \"shape\": null,\n",
      "                \"fn\": \"categorical_embedding_with_indices\",\n",
      "                \"args\": {\n",
      "                    \"num_buckets\": 8,\n",
      "                    \"embedding_size\": 64,\n",
      "                    \"default_value\": null\n",
      "                }\n",
      "            },\n",
      "            \"serving_info\": {\n",
      "                \"name\": \"domainID\",\n",
      "                \"required\": true,\n",
      "                \"default_value\": 0\n",
      "            },\n",
      "            \"tfrecord_type\": \"context\"\n",
      "        },\n",
      "        {\n",
      "            \"name\": \"domain_name\",\n",
      "            \"node_name\": \"domain_name\",\n",
      "            \"trainable\": true,\n",
      "            \"dtype\": \"string\",\n",
      "            \"log_at_inference\": true,\n",
      "            \"is_group_metric_key\": true,\n",
      "            \"feature_layer_info\": {\n",
      "                \"type\": \"numeric\",\n",
      "                \"shape\": null,\n",
      "                \"fn\": \"categorical_embedding_with_vocabulary_file\",\n",
      "                \"args\": {\n",
      "                    \"vocabulary_file\": \"../ml4ir/applications/ranking/tests/data/config/domain_name_vocab_no_id.csv\",\n",
      "                    \"embedding_size\": 64,\n",
      "                    \"default_value\": -1,\n",
      "                    \"num_oov_buckets\": 1\n",
      "                }\n",
      "            },\n",
      "            \"serving_info\": {\n",
      "                \"name\": \"domainName\",\n",
      "                \"required\": true,\n",
      "                \"default_value\": \"\"\n",
      "            },\n",
      "            \"tfrecord_type\": \"context\"\n",
      "        }\n",
      "    ]\n",
      "}\n",
      "INFO:root:Feature config loaded successfully\n",
      "INFO:root:Trainable Features : \n",
      "text_match_score\n",
      "page_views_score\n",
      "quality_score\n",
      "query_text\n",
      "domain_id\n",
      "domain_name\n",
      "INFO:root:Label : clicked\n",
      "INFO:root:Metadata Features : \n",
      "query_id\n",
      "clicked\n",
      "name_match\n",
      "rank\n",
      "INFO:root:Context Features : \n",
      "query_id\n",
      "query_text\n",
      "domain_id\n",
      "domain_name\n",
      "INFO:root:Sequence Features : \n",
      "clicked\n",
      "text_match_score\n",
      "page_views_score\n",
      "quality_score\n",
      "name_match\n",
      "rank\n"
     ]
    }
   ],
   "source": [
    "import logging\n",
    "import tensorflow as tf\n",
    "\n",
    "logger = logging.getLogger()\n",
    "logger.setLevel(logging.DEBUG)\n",
    "tf.get_logger().setLevel('INFO')\n",
    "logging.debug(\"Logger is initialized...\")\n",
    "\n",
    "from ml4ir.base.io.local_io import LocalIO\n",
    "from ml4ir.base.io.file_io import FileIO\n",
    "file_io: FileIO = LocalIO()\n",
    "file_io.make_directory(LOGS_DIR)\n",
    "file_io.make_directory(MODELS_DIR)\n",
    "\n",
    "from ml4ir.base.features.feature_config import FeatureConfig, SequenceExampleFeatureConfig\n",
    "from ml4ir.base.config.keys import TFRecordTypeKey\n",
    "\n",
    "\n",
    "feature_config: SequenceExampleFeatureConfig = FeatureConfig.get_instance(\n",
    "    tfrecord_type=TFRecordTypeKey.SEQUENCE_EXAMPLE,\n",
    "    feature_config_dict=file_io.read_yaml(FEATURE_CONFIG_PATH),\n",
    "    logger=logger)"
   ]
  },
  {
   "cell_type": "markdown",
   "metadata": {},
   "source": [
    "### Create a RelevanceDataset from TFRecords"
   ]
  },
  {
   "cell_type": "code",
   "execution_count": 4,
   "metadata": {
    "scrolled": false
   },
   "outputs": [
    {
     "name": "stderr",
     "output_type": "stream",
     "text": [
      "INFO:root:Found in ../ml4ir/applications/ranking/tests/data/tfrecord directory : ['../ml4ir/applications/ranking/tests/data/tfrecord/test', '../ml4ir/applications/ranking/tests/data/tfrecord/train', '../ml4ir/applications/ranking/tests/data/tfrecord/validation']\n",
      "INFO:root:Created TFRecordDataset from SequenceExample protobufs from 1 files : ['../ml4ir/applications/ranking/tests/data/tfrecor\n",
      "INFO:root:Created TFRecordDataset from SequenceExample protobufs from 1 files : ['../ml4ir/applications/ranking/tests/data/tfrecor\n",
      "INFO:root:Created TFRecordDataset from SequenceExample protobufs from 1 files : ['../ml4ir/applications/ranking/tests/data/tfrecor\n"
     ]
    }
   ],
   "source": [
    "from ml4ir.base.data.relevance_dataset import RelevanceDataset\n",
    "from ml4ir.base.config.keys import DataFormatKey\n",
    "from ml4ir.base.config.keys import TFRecordTypeKey\n",
    "\n",
    "ranking_dataset = RelevanceDataset(data_dir=DATA_DIR,\n",
    "                                   data_format=DataFormatKey.TFRECORD,\n",
    "                                   feature_config=feature_config,\n",
    "                                   tfrecord_type=TFRecordTypeKey.SEQUENCE_EXAMPLE,\n",
    "                                   max_sequence_size=MAX_SEQUENCE_SIZE,\n",
    "                                   batch_size=128,\n",
    "                                   preprocessing_keys_to_fns={},\n",
    "                                   file_io=file_io,\n",
    "                                   logger=logger)"
   ]
  },
  {
   "cell_type": "markdown",
   "metadata": {},
   "source": [
    "### Define an InteractionModel"
   ]
  },
  {
   "cell_type": "code",
   "execution_count": 5,
   "metadata": {},
   "outputs": [],
   "source": [
    "from ml4ir.base.model.scoring.interaction_model import InteractionModel, UnivariateInteractionModel\n",
    "\n",
    "# Define interaction model\n",
    "interaction_model: InteractionModel = UnivariateInteractionModel(\n",
    "                                            feature_config=feature_config,\n",
    "                                            tfrecord_type=TFRecordTypeKey.SEQUENCE_EXAMPLE,\n",
    "                                            max_sequence_size=MAX_SEQUENCE_SIZE,\n",
    "                                            file_io=file_io,\n",
    "                                        )"
   ]
  },
  {
   "cell_type": "markdown",
   "metadata": {},
   "source": [
    "###  ... now with custom feature transforms"
   ]
  },
  {
   "cell_type": "code",
   "execution_count": 6,
   "metadata": {},
   "outputs": [],
   "source": [
    "from tensorflow.keras import layers\n",
    "from tensorflow import io\n",
    "\n",
    "# Define custom feature transforms\n",
    "def bytes_sequence_encoding_bigru(feature_tensor, feature_info, file_io: FileIO):\n",
    "    args = feature_info[\"feature_layer_info\"][\"args\"]\n",
    "\n",
    "    # Decode string tensor to bytes\n",
    "    feature_tensor = io.decode_raw(\n",
    "        feature_tensor,\n",
    "        out_type=tf.uint8,\n",
    "        fixed_length=args.get(\"max_length\", None),\n",
    "    )\n",
    "\n",
    "    feature_tensor = tf.squeeze(feature_tensor, axis=1)\n",
    "    if \"embedding_size\" in args:\n",
    "        char_embedding = layers.Embedding(\n",
    "            name=\"{}_bytes_embedding\".format(feature_info.get(\"node_name\", feature_info.get(\"name\"))),\n",
    "            input_dim=256, # bytes vocabulary size is fixed at 256\n",
    "            output_dim=args[\"embedding_size\"],\n",
    "            mask_zero=True,\n",
    "            input_length=args.get(\"max_length\", None),\n",
    "        )(feature_tensor)\n",
    "    else:\n",
    "        char_embedding = tf.one_hot(feature_tensor, depth=256)\n",
    "\n",
    "    #############################################################################\n",
    "    # Compute sequence encoding using GRU\n",
    "    encoding = layers.Bidirectional(\n",
    "        layers.GRU(units=int(args[\"encoding_size\"] / 2), return_sequences=False),\n",
    "        merge_mode=\"concat\",\n",
    "    )(char_embedding)\n",
    "    #############################################################################\n",
    "    \n",
    "    encoding = tf.expand_dims(encoding, axis=1)\n",
    "    return encoding\n",
    "\n",
    "feature_layer_keys_to_fns = {\n",
    "    \"bytes_sequence_encoding_bigru\" : bytes_sequence_encoding_bigru\n",
    "}\n",
    "\n",
    "# Define interaction model\n",
    "interaction_model: InteractionModel = UnivariateInteractionModel(\n",
    "                                            feature_config=feature_config,\n",
    "                                            feature_layer_keys_to_fns=feature_layer_keys_to_fns,\n",
    "                                            tfrecord_type=TFRecordTypeKey.SEQUENCE_EXAMPLE,\n",
    "                                            max_sequence_size=MAX_SEQUENCE_SIZE,\n",
    "                                            file_io=file_io,\n",
    "                                        )"
   ]
  },
  {
   "cell_type": "markdown",
   "metadata": {},
   "source": [
    "### Use predefined losses, metrics and optimizers or create your own!"
   ]
  },
  {
   "cell_type": "code",
   "execution_count": 7,
   "metadata": {},
   "outputs": [],
   "source": [
    "from ml4ir.applications.ranking.model.losses import loss_factory\n",
    "from ml4ir.applications.ranking.model.metrics import metric_factory\n",
    "from ml4ir.base.model.losses.loss_base import RelevanceLossBase\n",
    "from ml4ir.base.model.optimizer import get_optimizer\n",
    "\n",
    "from ml4ir.applications.ranking.config.keys import LossKey, MetricKey, ScoringTypeKey\n",
    "from ml4ir.base.config.keys import OptimizerKey\n",
    "\n",
    "from tensorflow.keras.metrics import Metric\n",
    "from tensorflow.keras.optimizers import Optimizer\n",
    "from typing import List, Union, Type\n",
    "\n",
    "\n",
    "# Define loss object from loss key\n",
    "loss: RelevanceLossBase = loss_factory.get_loss(\n",
    "                                loss_key=LossKey.RANK_ONE_LISTNET,\n",
    "                                scoring_type=ScoringTypeKey.POINTWISE)\n",
    "    \n",
    "# Define metrics objects from metrics keys\n",
    "metrics: List[Union[Type[Metric], str]] = [metric_factory.get_metric(metric_key=\"MRR\")]\n",
    "    \n",
    "# Define optimizer\n",
    "optimizer: Optimizer = get_optimizer(\n",
    "                            optimizer_key=OptimizerKey.ADAM,\n",
    "                            learning_rate=0.001\n",
    "                        )"
   ]
  },
  {
   "cell_type": "markdown",
   "metadata": {},
   "source": [
    "### Define a scoring function, or the Scorer"
   ]
  },
  {
   "cell_type": "code",
   "execution_count": 8,
   "metadata": {},
   "outputs": [
    {
     "name": "stdout",
     "output_type": "stream",
     "text": [
      "architecture_key: dnn\n",
      "layers:\n",
      "  - type: dense\n",
      "    name: first_dense\n",
      "    units: 256\n",
      "    activation: relu\n",
      "  - type: dropout\n",
      "    name: first_dropout\n",
      "    rate: 0.3\n",
      "  - type: dense\n",
      "    name: second_dense\n",
      "    units: 64\n",
      "    activation: relu\n",
      "  - type: dense\n",
      "    name: final_dense\n",
      "    units: 1\n",
      "    activation: null\n",
      "\n"
     ]
    }
   ],
   "source": [
    "from ml4ir.base.model.scoring.scoring_model import RelevanceScorer\n",
    "\n",
    "# Define scorer\n",
    "print(open(MODEL_CONFIG_PATH).read())\n",
    "scorer: RelevanceScorer = RelevanceScorer.from_model_config_file(\n",
    "    model_config_file=MODEL_CONFIG_PATH,\n",
    "    interaction_model=interaction_model,\n",
    "    loss=loss,\n",
    "    logger=logger,\n",
    "    file_io=file_io,\n",
    ")"
   ]
  },
  {
   "cell_type": "markdown",
   "metadata": {},
   "source": [
    "### Combine it all to create a RankingModel"
   ]
  },
  {
   "cell_type": "code",
   "execution_count": 9,
   "metadata": {
    "scrolled": false
   },
   "outputs": [
    {
     "name": "stderr",
     "output_type": "stream",
     "text": [
      "DEBUG:git.cmd:Popen(['git', 'version'], cwd=/Users/ashish.srinivasa/search_relevance/ml4ir/python/notebooks, universal_newlines=False, shell=None, istream=None)\n",
      "DEBUG:git.cmd:Popen(['git', 'version'], cwd=/Users/ashish.srinivasa/search_relevance/ml4ir/python/notebooks, universal_newlines=False, shell=None, istream=None)\n",
      "INFO:root:Model: \"model\"\n",
      "__________________________________________________________________________________________________\n",
      "Layer (type)                    Output Shape         Param #     Connected to                     \n",
      "==================================================================================================\n",
      "query_text (InputLayer)         [(None, 1)]          0                                            \n",
      "__________________________________________________________________________________________________\n",
      "mask (InputLayer)               [(None, None)]       0                                            \n",
      "__________________________________________________________________________________________________\n",
      "tf_op_layer_DecodePaddedRaw (Te [(None, 1, 20)]      0           query_text[0][0]                 \n",
      "__________________________________________________________________________________________________\n",
      "tf_op_layer_GatherV2 (TensorFlo [(None,)]            0           mask[0][0]                       \n",
      "__________________________________________________________________________________________________\n",
      "domain_name (InputLayer)        [(None, 1)]          0                                            \n",
      "__________________________________________________________________________________________________\n",
      "tf_op_layer_Squeeze (TensorFlow [(None, 20)]         0           tf_op_layer_DecodePaddedRaw[0][0]\n",
      "__________________________________________________________________________________________________\n",
      "domain_id (InputLayer)          [(None, 1)]          0                                            \n",
      "__________________________________________________________________________________________________\n",
      "tf_op_layer_ExpandDims (TensorF [(1, None)]          0           tf_op_layer_GatherV2[0][0]       \n",
      "__________________________________________________________________________________________________\n",
      "vocab_lookup (VocabLookup)      (None, 1)            0           domain_name[0][0]                \n",
      "__________________________________________________________________________________________________\n",
      "query_text_bytes_embedding (Emb (None, 20, 128)      32768       tf_op_layer_Squeeze[0][0]        \n",
      "__________________________________________________________________________________________________\n",
      "domain_id_embedding (DenseFeatu (None, 64)           512         domain_id[0][0]                  \n",
      "__________________________________________________________________________________________________\n",
      "tf_op_layer_ExpandDims_1 (Tenso [(1, None, 1)]       0           tf_op_layer_ExpandDims[0][0]     \n",
      "__________________________________________________________________________________________________\n",
      "domain_name_embedding (DenseFea (None, 64)           384         vocab_lookup[0][0]               \n",
      "__________________________________________________________________________________________________\n",
      "bidirectional (Bidirectional)   (None, 128)          74496       query_text_bytes_embedding[0][0] \n",
      "__________________________________________________________________________________________________\n",
      "tf_op_layer_ExpandDims_7 (Tenso [(None, 1, 64)]      0           domain_id_embedding[0][0]        \n",
      "__________________________________________________________________________________________________\n",
      "tf_op_layer_Shape (TensorFlowOp [(3,)]               0           tf_op_layer_ExpandDims_1[0][0]   \n",
      "__________________________________________________________________________________________________\n",
      "tf_op_layer_ExpandDims_8 (Tenso [(None, 1, 64)]      0           domain_name_embedding[0][0]      \n",
      "__________________________________________________________________________________________________\n",
      "page_views_score (InputLayer)   [(None, None)]       0                                            \n",
      "__________________________________________________________________________________________________\n",
      "quality_score (InputLayer)      [(None, None)]       0                                            \n",
      "__________________________________________________________________________________________________\n",
      "tf_op_layer_ExpandDims_6 (Tenso [(None, 1, 128)]     0           bidirectional[0][0]              \n",
      "__________________________________________________________________________________________________\n",
      "text_match_score (InputLayer)   [(None, None)]       0                                            \n",
      "__________________________________________________________________________________________________\n",
      "tf_op_layer_Tile_2 (TensorFlowO [(None, None, 64)]   0           tf_op_layer_ExpandDims_7[0][0]   \n",
      "                                                                 tf_op_layer_Shape[0][0]          \n",
      "__________________________________________________________________________________________________\n",
      "tf_op_layer_Tile_3 (TensorFlowO [(None, None, 64)]   0           tf_op_layer_ExpandDims_8[0][0]   \n",
      "                                                                 tf_op_layer_Shape[0][0]          \n",
      "__________________________________________________________________________________________________\n",
      "tf_op_layer_ExpandDims_4 (Tenso [(None, None, 1)]    0           page_views_score[0][0]           \n",
      "__________________________________________________________________________________________________\n",
      "tf_op_layer_ExpandDims_5 (Tenso [(None, None, 1)]    0           quality_score[0][0]              \n",
      "__________________________________________________________________________________________________\n",
      "tf_op_layer_Tile_1 (TensorFlowO [(None, None, 128)]  0           tf_op_layer_ExpandDims_6[0][0]   \n",
      "                                                                 tf_op_layer_Shape[0][0]          \n",
      "__________________________________________________________________________________________________\n",
      "tf_op_layer_ExpandDims_3 (Tenso [(None, None, 1)]    0           text_match_score[0][0]           \n",
      "__________________________________________________________________________________________________\n",
      "tf_op_layer_train_features (Ten [(None, None, 259)]  0           tf_op_layer_Tile_2[0][0]         \n",
      "                                                                 tf_op_layer_Tile_3[0][0]         \n",
      "                                                                 tf_op_layer_ExpandDims_4[0][0]   \n",
      "                                                                 tf_op_layer_ExpandDims_5[0][0]   \n",
      "                                                                 tf_op_layer_Tile_1[0][0]         \n",
      "                                                                 tf_op_layer_ExpandDims_3[0][0]   \n",
      "__________________________________________________________________________________________________\n",
      "first_dense (Dense)             (None, None, 256)    66560       tf_op_layer_train_features[0][0] \n",
      "__________________________________________________________________________________________________\n",
      "first_dropout (Dropout)         (None, None, 256)    0           first_dense[0][0]                \n",
      "__________________________________________________________________________________________________\n",
      "second_dense (Dense)            (None, None, 64)     16448       first_dropout[0][0]              \n",
      "__________________________________________________________________________________________________\n",
      "tf_op_layer_Cast_1 (TensorFlowO [(None, None)]       0           mask[0][0]                       \n",
      "__________________________________________________________________________________________________\n",
      "final_dense (Dense)             (None, None, 1)      65          second_dense[0][0]               \n",
      "__________________________________________________________________________________________________\n",
      "tf_op_layer_Equal (TensorFlowOp [(None, None)]       0           tf_op_layer_Cast_1[0][0]         \n",
      "__________________________________________________________________________________________________\n",
      "tf_op_layer_Squeeze_1 (TensorFl [(None, None)]       0           final_dense[0][0]                \n",
      "__________________________________________________________________________________________________\n",
      "tf_op_layer_SelectV2 (TensorFlo [(None, None)]       0           tf_op_layer_Equal[0][0]          \n",
      "                                                                 tf_op_layer_Squeeze_1[0][0]      \n",
      "__________________________________________________________________________________________________\n",
      "name_match (InputLayer)         [(None, None)]       0                                            \n",
      "__________________________________________________________________________________________________\n",
      "query_id (InputLayer)           [(None, 1)]          0                                            \n",
      "__________________________________________________________________________________________________\n",
      "rank (InputLayer)               [(None, None)]       0                                            \n",
      "__________________________________________________________________________________________________\n",
      "score (Softmax)                 (None, None)         0           tf_op_layer_SelectV2[0][0]       \n",
      "==================================================================================================\n",
      "Total params: 191,233\n",
      "Trainable params: 191,233\n",
      "Non-trainable params: 0\n",
      "__________________________________________________________________________________________________\n"
     ]
    }
   ],
   "source": [
    "from ml4ir.applications.ranking.model.ranking_model import RankingModel\n",
    "from ml4ir.base.model.relevance_model import RelevanceModel\n",
    "\n",
    "\n",
    "# Combine the above to define a RelevanceModel\n",
    "ranking_model: RelevanceModel = RankingModel(\n",
    "                                    feature_config=feature_config,\n",
    "                                    tfrecord_type=TFRecordTypeKey.SEQUENCE_EXAMPLE,\n",
    "                                    scorer=scorer,\n",
    "                                    metrics=metrics,\n",
    "                                    optimizer=optimizer,\n",
    "                                    file_io=file_io,\n",
    "                                    logger=logger,\n",
    "                                )"
   ]
  },
  {
   "cell_type": "markdown",
   "metadata": {},
   "source": [
    "### Finally, time to train the model"
   ]
  },
  {
   "cell_type": "code",
   "execution_count": 10,
   "metadata": {},
   "outputs": [
    {
     "name": "stderr",
     "output_type": "stream",
     "text": [
      "INFO:root:Training Model\n",
      "INFO:root:Starting Epoch : 1\n",
      "INFO:root:{}\n"
     ]
    },
    {
     "name": "stdout",
     "output_type": "stream",
     "text": [
      "Epoch 1/3\n"
     ]
    },
    {
     "name": "stderr",
     "output_type": "stream",
     "text": [
      "INFO:root:[epoch: 1 | batch: 0] {'batch': 0, 'size': 128, 'loss': 2.0685291, 'old_MRR': 0.8084635, 'new_MRR': 0.58808935}\n"
     ]
    },
    {
     "name": "stdout",
     "output_type": "stream",
     "text": [
      "      1/Unknown - 7s 7s/step - loss: 2.0685 - old_MRR: 0.8085 - new_MRR: 0.5881WARNING:tensorflow:Method (on_train_batch_end) is slow compared to the batch update (0.272035). Check your callbacks.\n"
     ]
    },
    {
     "name": "stderr",
     "output_type": "stream",
     "text": [
      "WARNING:tensorflow:Method (on_train_batch_end) is slow compared to the batch update (0.272035). Check your callbacks.\n"
     ]
    },
    {
     "name": "stdout",
     "output_type": "stream",
     "text": [
      "     11/Unknown - 9s 860ms/step - loss: 1.9660 - old_MRR: 0.7875 - new_MRR: 0.6473"
     ]
    },
    {
     "name": "stderr",
     "output_type": "stream",
     "text": [
      "INFO:root:Evaluating Model\n",
      "INFO:root:Completed evaluating model\n",
      "INFO:root:None\n"
     ]
    },
    {
     "name": "stdout",
     "output_type": "stream",
     "text": [
      "\n",
      "Epoch 00001: val_new_MRR improved from -inf to 0.70512, saving model to ../models/checkpoint.tf\n",
      "WARNING:tensorflow:From /Users/ashish.srinivasa/.sipcli_env/lib/python3.7/site-packages/tensorflow_core/python/ops/resource_variable_ops.py:1781: calling BaseResourceVariable.__init__ (from tensorflow.python.ops.resource_variable_ops) with constraint is deprecated and will be removed in a future version.\n",
      "Instructions for updating:\n",
      "If using Keras pass *_constraint arguments to layers.\n"
     ]
    },
    {
     "name": "stderr",
     "output_type": "stream",
     "text": [
      "WARNING:tensorflow:From /Users/ashish.srinivasa/.sipcli_env/lib/python3.7/site-packages/tensorflow_core/python/ops/resource_variable_ops.py:1781: calling BaseResourceVariable.__init__ (from tensorflow.python.ops.resource_variable_ops) with constraint is deprecated and will be removed in a future version.\n",
      "Instructions for updating:\n",
      "If using Keras pass *_constraint arguments to layers.\n"
     ]
    },
    {
     "name": "stdout",
     "output_type": "stream",
     "text": [
      "INFO:tensorflow:Assets written to: ../models/checkpoint.tf/assets\n"
     ]
    },
    {
     "name": "stderr",
     "output_type": "stream",
     "text": [
      "INFO:tensorflow:Assets written to: ../models/checkpoint.tf/assets\n",
      "INFO:root:End of Epoch 1\n",
      "INFO:root:{'loss': 1.9660225022922864, 'old_MRR': 0.7874729, 'new_MRR': 0.6473302, 'val_loss': 1.9555319222536953, 'val_old_MRR': 0.7827933, 'val_new_MRR': 0.7051184}\n"
     ]
    },
    {
     "name": "stdout",
     "output_type": "stream",
     "text": [
      "\b\b\b\b\b\b\b\b\b\b\b\b\b\b\b\b\b\b\b\b\b\b\b\b\b\b\b\b\b\b\b\b\b\b\b\b\b\b\b\b\b\b\b\b\b\b\b\b\b\b\b\b\b\b\b\b\b\b\b\b\b\b\b\b\b\b\b\b\b\b\b\b\b\b\b\b\b\b\b\b\b\b\r",
      "11/11 [==============================] - 45s 4s/step - loss: 1.9660 - old_MRR: 0.7875 - new_MRR: 0.6473 - val_loss: 0.0000e+00 - val_old_MRR: 0.0000e+00 - val_new_MRR: 0.0000e+00\n"
     ]
    },
    {
     "name": "stderr",
     "output_type": "stream",
     "text": [
      "INFO:root:Starting Epoch : 2\n",
      "INFO:root:{}\n"
     ]
    },
    {
     "name": "stdout",
     "output_type": "stream",
     "text": [
      "Epoch 2/3\n"
     ]
    },
    {
     "name": "stderr",
     "output_type": "stream",
     "text": [
      "INFO:root:[epoch: 2 | batch: 0] {'batch': 0, 'size': 128, 'loss': 1.9890631, 'old_MRR': 0.8084635, 'new_MRR': 0.6610025}\n"
     ]
    },
    {
     "name": "stdout",
     "output_type": "stream",
     "text": [
      "10/11 [==========================>...] - ETA: 0s - loss: 1.8993 - old_MRR: 0.7829 - new_MRR: 0.6790"
     ]
    },
    {
     "name": "stderr",
     "output_type": "stream",
     "text": [
      "INFO:root:Evaluating Model\n",
      "INFO:root:Completed evaluating model\n",
      "INFO:root:None\n"
     ]
    },
    {
     "name": "stdout",
     "output_type": "stream",
     "text": [
      "\n",
      "Epoch 00002: val_new_MRR improved from 0.70512 to 0.70698, saving model to ../models/checkpoint.tf\n",
      "INFO:tensorflow:Assets written to: ../models/checkpoint.tf/assets\n"
     ]
    },
    {
     "name": "stderr",
     "output_type": "stream",
     "text": [
      "INFO:tensorflow:Assets written to: ../models/checkpoint.tf/assets\n",
      "INFO:root:End of Epoch 2\n",
      "INFO:root:{'loss': 1.890663201158697, 'old_MRR': 0.7874729, 'new_MRR': 0.6824102, 'val_loss': 1.895951877940785, 'val_old_MRR': 0.7827933, 'val_new_MRR': 0.70697683}\n"
     ]
    },
    {
     "name": "stdout",
     "output_type": "stream",
     "text": [
      "\b\b\b\b\b\b\b\b\b\b\b\b\b\b\b\b\b\b\b\b\b\b\b\b\b\b\b\b\b\b\b\b\b\b\b\b\b\b\b\b\b\b\b\b\b\b\b\b\b\b\b\b\b\b\b\b\b\b\b\b\b\b\b\b\b\b\b\b\b\b\b\b\b\b\b\b\b\b\b\b\b\b\b\b\b\b\b\b\b\b\b\b\b\b\b\b\b\b\b\r",
      "11/11 [==============================] - 35s 3s/step - loss: 1.8907 - old_MRR: 0.7875 - new_MRR: 0.6824 - val_loss: 1.8960 - val_old_MRR: 0.7828 - val_new_MRR: 0.7070\n"
     ]
    },
    {
     "name": "stderr",
     "output_type": "stream",
     "text": [
      "INFO:root:Starting Epoch : 3\n",
      "INFO:root:{}\n"
     ]
    },
    {
     "name": "stdout",
     "output_type": "stream",
     "text": [
      "Epoch 3/3\n"
     ]
    },
    {
     "name": "stderr",
     "output_type": "stream",
     "text": [
      "INFO:root:[epoch: 3 | batch: 0] {'batch': 0, 'size': 128, 'loss': 1.9199574, 'old_MRR': 0.8084635, 'new_MRR': 0.6828125}\n"
     ]
    },
    {
     "name": "stdout",
     "output_type": "stream",
     "text": [
      "10/11 [==========================>...] - ETA: 0s - loss: 1.8537 - old_MRR: 0.7829 - new_MRR: 0.6897"
     ]
    },
    {
     "name": "stderr",
     "output_type": "stream",
     "text": [
      "INFO:root:Evaluating Model\n",
      "INFO:root:Completed evaluating model\n",
      "INFO:root:None\n"
     ]
    },
    {
     "name": "stdout",
     "output_type": "stream",
     "text": [
      "\n",
      "Epoch 00003: val_new_MRR improved from 0.70698 to 0.70732, saving model to ../models/checkpoint.tf\n",
      "INFO:tensorflow:Assets written to: ../models/checkpoint.tf/assets\n"
     ]
    },
    {
     "name": "stderr",
     "output_type": "stream",
     "text": [
      "INFO:tensorflow:Assets written to: ../models/checkpoint.tf/assets\n",
      "INFO:root:End of Epoch 3\n",
      "INFO:root:{'loss': 1.8445354158228093, 'old_MRR': 0.7874729, 'new_MRR': 0.6921806, 'val_loss': 1.8489787470210681, 'val_old_MRR': 0.7827933, 'val_new_MRR': 0.7073162}\n"
     ]
    },
    {
     "name": "stdout",
     "output_type": "stream",
     "text": [
      "\b\b\b\b\b\b\b\b\b\b\b\b\b\b\b\b\b\b\b\b\b\b\b\b\b\b\b\b\b\b\b\b\b\b\b\b\b\b\b\b\b\b\b\b\b\b\b\b\b\b\b\b\b\b\b\b\b\b\b\b\b\b\b\b\b\b\b\b\b\b\b\b\b\b\b\b\b\b\b\b\b\b\b\b\b\b\b\b\b\b\b\b\b\b\b\b\b\b\b\r",
      "11/11 [==============================] - 36s 3s/step - loss: 1.8445 - old_MRR: 0.7875 - new_MRR: 0.6922 - val_loss: 1.8490 - val_old_MRR: 0.7828 - val_new_MRR: 0.7073\n"
     ]
    },
    {
     "name": "stderr",
     "output_type": "stream",
     "text": [
      "INFO:root:Completed training model\n",
      "INFO:root:None\n"
     ]
    }
   ],
   "source": [
    "ranking_model.fit(dataset=ranking_dataset,\n",
    "                  num_epochs=3, \n",
    "                  models_dir='../models',\n",
    "                  logs_dir='../logs',\n",
    "                  monitor_metric=\"new_MRR\",\n",
    "                  monitor_mode=\"max\")"
   ]
  },
  {
   "cell_type": "markdown",
   "metadata": {},
   "source": [
    "### Let's try some Transfer Learning\n",
    "##### Using bytes embeddings from a query classification model"
   ]
  },
  {
   "cell_type": "code",
   "execution_count": 11,
   "metadata": {},
   "outputs": [
    {
     "data": {
      "text/plain": [
       "[array([[ 0.04817661, -0.02310021, -0.0158019 , ...,  0.04689885,\n",
       "          0.04715741, -0.02395461],\n",
       "        [ 0.01107422, -0.04068863,  0.03669446, ..., -0.04298381,\n",
       "          0.04932303, -0.03682303],\n",
       "        [ 0.03654481,  0.01255837, -0.00286949, ...,  0.04108845,\n",
       "         -0.02460071, -0.02626768],\n",
       "        ...,\n",
       "        [-0.01108004,  0.00978049,  0.04506851, ..., -0.03921436,\n",
       "         -0.04932214,  0.02432754],\n",
       "        [-0.02197567,  0.04634149, -0.01837877, ..., -0.04804767,\n",
       "         -0.0298071 ,  0.00523918],\n",
       "        [-0.00237392, -0.02369238,  0.01442983, ..., -0.0254912 ,\n",
       "         -0.00172541, -0.0236601 ]], dtype=float32)]"
      ]
     },
     "execution_count": 11,
     "metadata": {},
     "output_type": "execute_result"
    }
   ],
   "source": [
    "ranking_model.model.get_layer(\"query_text_bytes_embedding\").get_weights()"
   ]
  },
  {
   "cell_type": "code",
   "execution_count": 14,
   "metadata": {
    "scrolled": false
   },
   "outputs": [
    {
     "name": "stderr",
     "output_type": "stream",
     "text": [
      "INFO:root:Model: \"model_3\"\n",
      "__________________________________________________________________________________________________\n",
      "Layer (type)                    Output Shape         Param #     Connected to                     \n",
      "==================================================================================================\n",
      "query_text (InputLayer)         [(None, 1)]          0                                            \n",
      "__________________________________________________________________________________________________\n",
      "mask (InputLayer)               [(None, None)]       0                                            \n",
      "__________________________________________________________________________________________________\n",
      "tf_op_layer_DecodePaddedRaw_3 ( [(None, 1, 20)]      0           query_text[0][0]                 \n",
      "__________________________________________________________________________________________________\n",
      "tf_op_layer_GatherV2_6 (TensorF [(None,)]            0           mask[0][0]                       \n",
      "__________________________________________________________________________________________________\n",
      "domain_name (InputLayer)        [(None, 1)]          0                                            \n",
      "__________________________________________________________________________________________________\n",
      "tf_op_layer_Squeeze_6 (TensorFl [(None, 20)]         0           tf_op_layer_DecodePaddedRaw_3[0][\n",
      "__________________________________________________________________________________________________\n",
      "domain_id (InputLayer)          [(None, 1)]          0                                            \n",
      "__________________________________________________________________________________________________\n",
      "tf_op_layer_ExpandDims_27 (Tens [(1, None)]          0           tf_op_layer_GatherV2_6[0][0]     \n",
      "__________________________________________________________________________________________________\n",
      "vocab_lookup_3 (VocabLookup)    (None, 1)            0           domain_name[0][0]                \n",
      "__________________________________________________________________________________________________\n",
      "query_text_bytes_embedding (Emb (None, 20, 128)      32768       tf_op_layer_Squeeze_6[0][0]      \n",
      "__________________________________________________________________________________________________\n",
      "domain_id_embedding (DenseFeatu (None, 64)           512         domain_id[0][0]                  \n",
      "__________________________________________________________________________________________________\n",
      "tf_op_layer_ExpandDims_28 (Tens [(1, None, 1)]       0           tf_op_layer_ExpandDims_27[0][0]  \n",
      "__________________________________________________________________________________________________\n",
      "domain_name_embedding (DenseFea (None, 64)           384         vocab_lookup_3[0][0]             \n",
      "__________________________________________________________________________________________________\n",
      "bidirectional_3 (Bidirectional) (None, 128)          74496       query_text_bytes_embedding[0][0] \n",
      "__________________________________________________________________________________________________\n",
      "tf_op_layer_ExpandDims_34 (Tens [(None, 1, 64)]      0           domain_id_embedding[0][0]        \n",
      "__________________________________________________________________________________________________\n",
      "tf_op_layer_Shape_6 (TensorFlow [(3,)]               0           tf_op_layer_ExpandDims_28[0][0]  \n",
      "__________________________________________________________________________________________________\n",
      "tf_op_layer_ExpandDims_35 (Tens [(None, 1, 64)]      0           domain_name_embedding[0][0]      \n",
      "__________________________________________________________________________________________________\n",
      "page_views_score (InputLayer)   [(None, None)]       0                                            \n",
      "__________________________________________________________________________________________________\n",
      "quality_score (InputLayer)      [(None, None)]       0                                            \n",
      "__________________________________________________________________________________________________\n",
      "tf_op_layer_ExpandDims_33 (Tens [(None, 1, 128)]     0           bidirectional_3[0][0]            \n",
      "__________________________________________________________________________________________________\n",
      "text_match_score (InputLayer)   [(None, None)]       0                                            \n",
      "__________________________________________________________________________________________________\n",
      "tf_op_layer_Tile_14 (TensorFlow [(None, None, 64)]   0           tf_op_layer_ExpandDims_34[0][0]  \n",
      "                                                                 tf_op_layer_Shape_6[0][0]        \n",
      "__________________________________________________________________________________________________\n",
      "tf_op_layer_Tile_15 (TensorFlow [(None, None, 64)]   0           tf_op_layer_ExpandDims_35[0][0]  \n",
      "                                                                 tf_op_layer_Shape_6[0][0]        \n",
      "__________________________________________________________________________________________________\n",
      "tf_op_layer_ExpandDims_31 (Tens [(None, None, 1)]    0           page_views_score[0][0]           \n",
      "__________________________________________________________________________________________________\n",
      "tf_op_layer_ExpandDims_32 (Tens [(None, None, 1)]    0           quality_score[0][0]              \n",
      "__________________________________________________________________________________________________\n",
      "tf_op_layer_Tile_13 (TensorFlow [(None, None, 128)]  0           tf_op_layer_ExpandDims_33[0][0]  \n",
      "                                                                 tf_op_layer_Shape_6[0][0]        \n",
      "__________________________________________________________________________________________________\n",
      "tf_op_layer_ExpandDims_30 (Tens [(None, None, 1)]    0           text_match_score[0][0]           \n",
      "__________________________________________________________________________________________________\n",
      "tf_op_layer_train_features_3 (T [(None, None, 259)]  0           tf_op_layer_Tile_14[0][0]        \n",
      "                                                                 tf_op_layer_Tile_15[0][0]        \n",
      "                                                                 tf_op_layer_ExpandDims_31[0][0]  \n",
      "                                                                 tf_op_layer_ExpandDims_32[0][0]  \n",
      "                                                                 tf_op_layer_Tile_13[0][0]        \n",
      "                                                                 tf_op_layer_ExpandDims_30[0][0]  \n",
      "__________________________________________________________________________________________________\n",
      "first_dense (Dense)             (None, None, 256)    66560       tf_op_layer_train_features_3[0][0\n",
      "__________________________________________________________________________________________________\n",
      "first_dropout (Dropout)         (None, None, 256)    0           first_dense[0][0]                \n",
      "__________________________________________________________________________________________________\n",
      "second_dense (Dense)            (None, None, 64)     16448       first_dropout[0][0]              \n",
      "__________________________________________________________________________________________________\n",
      "tf_op_layer_Cast_7 (TensorFlowO [(None, None)]       0           mask[0][0]                       \n",
      "__________________________________________________________________________________________________\n",
      "final_dense (Dense)             (None, None, 1)      65          second_dense[0][0]               \n",
      "__________________________________________________________________________________________________\n",
      "tf_op_layer_Equal_3 (TensorFlow [(None, None)]       0           tf_op_layer_Cast_7[0][0]         \n",
      "__________________________________________________________________________________________________\n",
      "tf_op_layer_Squeeze_7 (TensorFl [(None, None)]       0           final_dense[0][0]                \n",
      "__________________________________________________________________________________________________\n",
      "tf_op_layer_SelectV2_3 (TensorF [(None, None)]       0           tf_op_layer_Equal_3[0][0]        \n",
      "                                                                 tf_op_layer_Squeeze_7[0][0]      \n",
      "__________________________________________________________________________________________________\n",
      "name_match (InputLayer)         [(None, None)]       0                                            \n",
      "__________________________________________________________________________________________________\n",
      "query_id (InputLayer)           [(None, 1)]          0                                            \n",
      "__________________________________________________________________________________________________\n",
      "rank (InputLayer)               [(None, None)]       0                                            \n",
      "__________________________________________________________________________________________________\n",
      "score (Softmax)                 (None, None)         0           tf_op_layer_SelectV2_3[0][0]     \n",
      "==================================================================================================\n",
      "Total params: 191,233\n",
      "Trainable params: 191,233\n",
      "Non-trainable params: 0\n",
      "__________________________________________________________________________________________________\n"
     ]
    },
    {
     "name": "stderr",
     "output_type": "stream",
     "text": [
      "INFO:root:Setting query_text_bytes_embedding weights from ../models/test_wandb2/final/layers/query_text_bytes_embedding.npy\n",
      "INFO:root:Freezing query_text_bytes_embedding layer\n"
     ]
    }
   ],
   "source": [
    "initialize_layers_dict = {\n",
    "    \"query_text_bytes_embedding\" : \"../models/test_wandb2/final/layers/query_text_bytes_embedding.npy\"\n",
    "}\n",
    "freeze_layers_list = [\"query_text_bytes_embedding\"]\n",
    "ranking_model: RelevanceModel = RankingModel(\n",
    "                                    feature_config=feature_config,\n",
    "                                    tfrecord_type=TFRecordTypeKey.SEQUENCE_EXAMPLE,\n",
    "                                    scorer=scorer,\n",
    "                                    metrics=metrics,\n",
    "                                    optimizer=optimizer,\n",
    "                                    initialize_layers_dict=initialize_layers_dict,\n",
    "                                    freeze_layers_list=freeze_layers_list,\n",
    "                                    file_io=file_io,\n",
    "                                    logger=logger,\n",
    "                                )"
   ]
  },
  {
   "cell_type": "code",
   "execution_count": 15,
   "metadata": {},
   "outputs": [
    {
     "data": {
      "text/plain": [
       "[array([[-0.03738469,  0.00727513, -0.02006867, ...,  0.01078511,\n",
       "         -0.028496  , -0.04102874],\n",
       "        [ 0.00512887,  0.0062821 , -0.0010671 , ...,  0.04945388,\n",
       "         -0.0132054 , -0.01177131],\n",
       "        [-0.00937623, -0.03438247,  0.00176773, ...,  0.046078  ,\n",
       "         -0.0310035 , -0.04288797],\n",
       "        ...,\n",
       "        [-0.04410168,  0.0383402 ,  0.03348425, ...,  0.02123589,\n",
       "          0.02240864, -0.04049417],\n",
       "        [ 0.03601265,  0.04585798,  0.00272902, ..., -0.00353998,\n",
       "         -0.04783431,  0.02852656],\n",
       "        [ 0.04903785, -0.03518286,  0.00195389, ...,  0.03783921,\n",
       "         -0.01398294,  0.0107099 ]], dtype=float32)]"
      ]
     },
     "execution_count": 15,
     "metadata": {},
     "output_type": "execute_result"
    }
   ],
   "source": [
    "ranking_model.model.get_layer(\"query_text_bytes_embedding\").get_weights()"
   ]
  },
  {
   "cell_type": "code",
   "execution_count": 16,
   "metadata": {},
   "outputs": [
    {
     "name": "stderr",
     "output_type": "stream",
     "text": [
      "INFO:root:Training Model\n",
      "INFO:root:Starting Epoch : 1\n",
      "INFO:root:{}\n"
     ]
    },
    {
     "name": "stdout",
     "output_type": "stream",
     "text": [
      "Epoch 1/3\n",
      "WARNING:tensorflow:Discrepancy between trainable weights and collected trainable weights, did you set `model.trainable` without calling `model.compile` after ?\n"
     ]
    },
    {
     "name": "stderr",
     "output_type": "stream",
     "text": [
      "WARNING:tensorflow:Discrepancy between trainable weights and collected trainable weights, did you set `model.trainable` without calling `model.compile` after ?\n",
      "INFO:root:[epoch: 1 | batch: 0] {'batch': 0, 'size': 128, 'loss': 2.0706391, 'old_MRR': 0.8084635, 'new_MRR': 0.5596571}\n"
     ]
    },
    {
     "name": "stdout",
     "output_type": "stream",
     "text": [
      "      1/Unknown - 19s 19s/step - loss: 2.0706 - old_MRR: 0.8085 - new_MRR: 0.5597WARNING:tensorflow:Method (on_train_batch_end) is slow compared to the batch update (0.186659). Check your callbacks.\n"
     ]
    },
    {
     "name": "stderr",
     "output_type": "stream",
     "text": [
      "WARNING:tensorflow:Method (on_train_batch_end) is slow compared to the batch update (0.186659). Check your callbacks.\n"
     ]
    },
    {
     "name": "stdout",
     "output_type": "stream",
     "text": [
      "     11/Unknown - 21s 2s/step - loss: 1.9583 - old_MRR: 0.7875 - new_MRR: 0.6669"
     ]
    },
    {
     "name": "stderr",
     "output_type": "stream",
     "text": [
      "INFO:root:Evaluating Model\n",
      "INFO:root:Completed evaluating model\n",
      "INFO:root:None\n"
     ]
    },
    {
     "name": "stdout",
     "output_type": "stream",
     "text": [
      "\n",
      "Epoch 00001: val_new_MRR improved from -inf to 0.70563, saving model to ../models/checkpoint.tf\n",
      "INFO:tensorflow:Assets written to: ../models/checkpoint.tf/assets\n"
     ]
    },
    {
     "name": "stderr",
     "output_type": "stream",
     "text": [
      "INFO:tensorflow:Assets written to: ../models/checkpoint.tf/assets\n",
      "INFO:root:End of Epoch 1\n",
      "INFO:root:{'loss': 1.958261793309992, 'old_MRR': 0.7874729, 'new_MRR': 0.6668506, 'val_loss': 1.935523585839705, 'val_old_MRR': 0.7827933, 'val_new_MRR': 0.7056252}\n"
     ]
    },
    {
     "name": "stdout",
     "output_type": "stream",
     "text": [
      "\b\b\b\b\b\b\b\b\b\b\b\b\b\b\b\b\b\b\b\b\b\b\b\b\b\b\b\b\b\b\b\b\b\b\b\b\b\b\b\b\b\b\b\b\b\b\b\b\b\b\b\b\b\b\b\b\b\b\b\b\b\b\b\b\b\b\b\b\b\b\b\b\b\b\b\b\b\b\b\b\r",
      "11/11 [==============================] - 50s 5s/step - loss: 1.9583 - old_MRR: 0.7875 - new_MRR: 0.6669 - val_loss: 0.0000e+00 - val_old_MRR: 0.0000e+00 - val_new_MRR: 0.0000e+00\n"
     ]
    },
    {
     "name": "stderr",
     "output_type": "stream",
     "text": [
      "INFO:root:Starting Epoch : 2\n",
      "INFO:root:{}\n"
     ]
    },
    {
     "name": "stdout",
     "output_type": "stream",
     "text": [
      "Epoch 2/3\n"
     ]
    },
    {
     "name": "stderr",
     "output_type": "stream",
     "text": [
      "INFO:root:[epoch: 2 | batch: 0] {'batch': 0, 'size': 128, 'loss': 1.9837611, 'old_MRR': 0.8084635, 'new_MRR': 0.6734375}\n"
     ]
    },
    {
     "name": "stdout",
     "output_type": "stream",
     "text": [
      "10/11 [==========================>...] - ETA: 0s - loss: 1.8731 - old_MRR: 0.7829 - new_MRR: 0.6928"
     ]
    },
    {
     "name": "stderr",
     "output_type": "stream",
     "text": [
      "INFO:root:Evaluating Model\n",
      "INFO:root:Completed evaluating model\n",
      "INFO:root:None\n"
     ]
    },
    {
     "name": "stdout",
     "output_type": "stream",
     "text": [
      "\n",
      "Epoch 00002: val_new_MRR improved from 0.70563 to 0.70739, saving model to ../models/checkpoint.tf\n",
      "INFO:tensorflow:Assets written to: ../models/checkpoint.tf/assets\n"
     ]
    },
    {
     "name": "stderr",
     "output_type": "stream",
     "text": [
      "INFO:tensorflow:Assets written to: ../models/checkpoint.tf/assets\n",
      "INFO:root:End of Epoch 2\n",
      "INFO:root:{'loss': 1.8647452592849731, 'old_MRR': 0.7874729, 'new_MRR': 0.69406474, 'val_loss': 1.851927789774808, 'val_old_MRR': 0.7827933, 'val_new_MRR': 0.70739114}\n"
     ]
    },
    {
     "name": "stdout",
     "output_type": "stream",
     "text": [
      "\b\b\b\b\b\b\b\b\b\b\b\b\b\b\b\b\b\b\b\b\b\b\b\b\b\b\b\b\b\b\b\b\b\b\b\b\b\b\b\b\b\b\b\b\b\b\b\b\b\b\b\b\b\b\b\b\b\b\b\b\b\b\b\b\b\b\b\b\b\b\b\b\b\b\b\b\b\b\b\b\b\b\b\b\b\b\b\b\b\b\b\b\b\b\b\b\b\b\b\r",
      "11/11 [==============================] - 33s 3s/step - loss: 1.8647 - old_MRR: 0.7875 - new_MRR: 0.6941 - val_loss: 1.8519 - val_old_MRR: 0.7828 - val_new_MRR: 0.7074\n"
     ]
    },
    {
     "name": "stderr",
     "output_type": "stream",
     "text": [
      "INFO:root:Starting Epoch : 3\n",
      "INFO:root:{}\n"
     ]
    },
    {
     "name": "stdout",
     "output_type": "stream",
     "text": [
      "Epoch 3/3\n"
     ]
    },
    {
     "name": "stderr",
     "output_type": "stream",
     "text": [
      "INFO:root:[epoch: 3 | batch: 0] {'batch': 0, 'size': 128, 'loss': 1.9621739, 'old_MRR': 0.8084635, 'new_MRR': 0.6690104}\n"
     ]
    },
    {
     "name": "stdout",
     "output_type": "stream",
     "text": [
      "10/11 [==========================>...] - ETA: 0s - loss: 1.8587 - old_MRR: 0.7829 - new_MRR: 0.6767"
     ]
    },
    {
     "name": "stderr",
     "output_type": "stream",
     "text": [
      "INFO:root:Evaluating Model\n",
      "INFO:root:Completed evaluating model\n",
      "INFO:root:None\n"
     ]
    },
    {
     "name": "stdout",
     "output_type": "stream",
     "text": [
      "\n",
      "Epoch 00003: val_new_MRR improved from 0.70739 to 0.70956, saving model to ../models/checkpoint.tf\n",
      "INFO:tensorflow:Assets written to: ../models/checkpoint.tf/assets\n"
     ]
    },
    {
     "name": "stderr",
     "output_type": "stream",
     "text": [
      "INFO:tensorflow:Assets written to: ../models/checkpoint.tf/assets\n",
      "INFO:root:End of Epoch 3\n",
      "INFO:root:{'loss': 1.8506084463813088, 'old_MRR': 0.7874729, 'new_MRR': 0.67757916, 'val_loss': 1.8340057134628296, 'val_old_MRR': 0.7827933, 'val_new_MRR': 0.70955735}\n"
     ]
    },
    {
     "name": "stdout",
     "output_type": "stream",
     "text": [
      "\b\b\b\b\b\b\b\b\b\b\b\b\b\b\b\b\b\b\b\b\b\b\b\b\b\b\b\b\b\b\b\b\b\b\b\b\b\b\b\b\b\b\b\b\b\b\b\b\b\b\b\b\b\b\b\b\b\b\b\b\b\b\b\b\b\b\b\b\b\b\b\b\b\b\b\b\b\b\b\b\b\b\b\b\b\b\b\b\b\b\b\b\b\b\b\b\b\b\b\r",
      "11/11 [==============================] - 36s 3s/step - loss: 1.8506 - old_MRR: 0.7875 - new_MRR: 0.6776 - val_loss: 1.8340 - val_old_MRR: 0.7828 - val_new_MRR: 0.7096\n"
     ]
    },
    {
     "name": "stderr",
     "output_type": "stream",
     "text": [
      "INFO:root:Completed training model\n",
      "INFO:root:None\n"
     ]
    }
   ],
   "source": [
    "ranking_model.fit(dataset=ranking_dataset,\n",
    "                  num_epochs=3, \n",
    "                  models_dir='../models',\n",
    "                  logs_dir='../logs',\n",
    "                  monitor_metric=\"new_MRR\",\n",
    "                  monitor_mode=\"max\")"
   ]
  },
  {
   "cell_type": "code",
   "execution_count": 17,
   "metadata": {},
   "outputs": [
    {
     "data": {
      "text/plain": [
       "[array([[-0.03738469,  0.00727513, -0.02006867, ...,  0.01078511,\n",
       "         -0.028496  , -0.04102874],\n",
       "        [ 0.00512887,  0.0062821 , -0.0010671 , ...,  0.04945388,\n",
       "         -0.0132054 , -0.01177131],\n",
       "        [-0.00937623, -0.03438247,  0.00176773, ...,  0.046078  ,\n",
       "         -0.0310035 , -0.04288797],\n",
       "        ...,\n",
       "        [-0.04410168,  0.0383402 ,  0.03348425, ...,  0.02123589,\n",
       "          0.02240864, -0.04049417],\n",
       "        [ 0.03601265,  0.04585798,  0.00272902, ..., -0.00353998,\n",
       "         -0.04783431,  0.02852656],\n",
       "        [ 0.04903785, -0.03518286,  0.00195389, ...,  0.03783921,\n",
       "         -0.01398294,  0.0107099 ]], dtype=float32)]"
      ]
     },
     "execution_count": 17,
     "metadata": {},
     "output_type": "execute_result"
    }
   ],
   "source": [
    "ranking_model.model.get_layer(\"query_text_bytes_embedding\").get_weights()"
   ]
  },
  {
   "cell_type": "code",
   "execution_count": null,
   "metadata": {},
   "outputs": [],
   "source": []
  }
 ],
 "metadata": {
  "kernelspec": {
   "display_name": "Python 3",
   "language": "python",
   "name": "python3"
  },
  "language_info": {
   "codemirror_mode": {
    "name": "ipython",
    "version": 3
   },
   "file_extension": ".py",
   "mimetype": "text/x-python",
   "name": "python",
   "nbconvert_exporter": "python",
   "pygments_lexer": "ipython3",
   "version": "3.7.4"
  }
 },
 "nbformat": 4,
 "nbformat_minor": 2
}
